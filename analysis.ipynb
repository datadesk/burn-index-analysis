{
 "cells": [
  {
   "cell_type": "markdown",
   "id": "e01ffc04",
   "metadata": {},
   "source": [
    "This analysis looks at burn severity of wildfires in the Sierra Nevada region from 2012 to 2021. \n",
    "\n",
    " \n",
    "- Not all wildfires were documented in the data sets\n",
    "- The index is used to classify burn severity as unchanged, low, moderate or high severity. >> impacts not intensity\n",
    "    - Unchanged: Areas indistinguishable from pre-fire conditions. This does not necessarily indicate that the area was unburned\n",
    "    - Low: Areas of surface fire with little change in cover and little mortality of the structurally dominant vegetation\n",
    "    - Moderate: Areas between low and high severity, with a mixture of effects on the structurally dominant vegetation\n",
    "    - High: Areas where the dominant vegetation has high to complete mortality\n",
    "    \n",
    "More info on calculating area size by TIFF class\n",
    "- https://gis.stackexchange.com/questions/199113/how-to-calculate-raster-area-or-number-of-cells-for-multiple-classes-in-a-raster?noredirect=1&lq=1\n",
    "- https://gis.stackexchange.com/questions/277126/what-are-the-methods-for-calculating-area-from-a-raster-in-qgis"
   ]
  },
  {
   "cell_type": "markdown",
   "id": "9db16b12",
   "metadata": {},
   "source": [
    "### Questions\n",
    "- How much has the area burned at high severity increased since 2012? \n",
    "- Has % of area burned at the highest severity also increased? \n",
    "- Impacts of the increasing areas with high burn index?\n",
    "    - tree canopy?\n",
    "    - animal habitats? \n",
    "    - property loss? \n",
    "    - ...\n",
    "- Composite Burn Index (CBI) Data for the Conterminous US, [Collected Between 1996 and 2018](https://www.sciencebase.gov/catalog/item/5d963705e4b0c4f70d110ee6)"
   ]
  },
  {
   "cell_type": "code",
   "execution_count": 1,
   "id": "f65535e6",
   "metadata": {},
   "outputs": [],
   "source": [
    "# import sys\n",
    "# !{sys.executable} -m pip install vega"
   ]
  },
  {
   "cell_type": "code",
   "execution_count": 2,
   "id": "eee8f69b",
   "metadata": {},
   "outputs": [
    {
     "data": {
      "text/plain": [
       "RendererRegistry.enable('altair_viewer')"
      ]
     },
     "execution_count": 2,
     "metadata": {},
     "output_type": "execute_result"
    }
   ],
   "source": [
    "import pandas as pd\n",
    "import matplotlib.pyplot as plt\n",
    "from osgeo import gdal\n",
    "import rasterio\n",
    "import altair as alt\n",
    "import altair_latimes as lat\n",
    "alt.renderers.enable('altair_viewer', inline=True)"
   ]
  },
  {
   "cell_type": "code",
   "execution_count": 3,
   "id": "bd446fb4",
   "metadata": {},
   "outputs": [
    {
     "data": {
      "text/plain": [
       "ThemeRegistry.enable('latimes')"
      ]
     },
     "execution_count": 3,
     "metadata": {},
     "output_type": "execute_result"
    }
   ],
   "source": [
    "alt.themes.register('latimes', lat.theme)\n",
    "alt.themes.enable('latimes')"
   ]
  },
  {
   "cell_type": "code",
   "execution_count": 4,
   "id": "24cf0b09",
   "metadata": {},
   "outputs": [],
   "source": [
    "def analyze_index(file):\n",
    "    raw = pd.read_csv(file, index_col = 0)\n",
    "    raw['percent_of_total'] = 0\n",
    "    raw['total'] = 0\n",
    "    df = raw.copy()\n",
    "    grouped = df.groupby('year').sqm.sum().reset_index()\n",
    "    grouped['acre'] = grouped.sqm.apply(lambda x: x*0.000247105)\n",
    "    df['acre'] = df.sqm.apply(lambda x: x*0.000247105)\n",
    "    for i in range(len(grouped)):\n",
    "        for k in range(len(df)):\n",
    "            if grouped.year[i] == df.year[k]:\n",
    "                df['percent_of_total'].iloc[k] = df.acre[k] / grouped.acre[i]\n",
    "                df['total'].iloc[k] = grouped.acre[i]\n",
    "    return grouped, df"
   ]
  },
  {
   "cell_type": "markdown",
   "id": "2a565746",
   "metadata": {},
   "source": [
    "# CBI-4 (burn severity index)"
   ]
  },
  {
   "cell_type": "code",
   "execution_count": 5,
   "id": "0c24fe3d",
   "metadata": {},
   "outputs": [
    {
     "name": "stderr",
     "output_type": "stream",
     "text": [
      "/var/folders/zv/3yvy_fbd0mz2lvqqtd13wypc0000gp/T/ipykernel_38874/1028497440.py:12: SettingWithCopyWarning: \n",
      "A value is trying to be set on a copy of a slice from a DataFrame\n",
      "\n",
      "See the caveats in the documentation: https://pandas.pydata.org/pandas-docs/stable/user_guide/indexing.html#returning-a-view-versus-a-copy\n",
      "  df['percent_of_total'].iloc[k] = df.acre[k] / grouped.acre[i]\n",
      "/var/folders/zv/3yvy_fbd0mz2lvqqtd13wypc0000gp/T/ipykernel_38874/1028497440.py:13: SettingWithCopyWarning: \n",
      "A value is trying to be set on a copy of a slice from a DataFrame\n",
      "\n",
      "See the caveats in the documentation: https://pandas.pydata.org/pandas-docs/stable/user_guide/indexing.html#returning-a-view-versus-a-copy\n",
      "  df['total'].iloc[k] = grouped.acre[i]\n"
     ]
    }
   ],
   "source": [
    "cbi4_by_year, cbi4_by_index = analyze_index('output/sum_of_sierra_fire_size_by_burn_index.csv')"
   ]
  },
  {
   "cell_type": "code",
   "execution_count": 6,
   "id": "ce2fbe5e",
   "metadata": {},
   "outputs": [
    {
     "data": {
      "text/html": [
       "\n",
       "<div id=\"altair-chart-f42e7b792cb44c5ab9aa72b4ba14e54b\"></div>\n",
       "<script type=\"text/javascript\">\n",
       "  (function(spec, embedOpt) {\n",
       "    const outputDiv = document.getElementById(\"altair-chart-f42e7b792cb44c5ab9aa72b4ba14e54b\");\n",
       "    const urls = {\n",
       "      \"vega\": \"http://localhost:55499/scripts/vega.js\",\n",
       "      \"vega-lite\": \"http://localhost:55499/scripts/vega-lite.js\",\n",
       "      \"vega-embed\": \"http://localhost:55499/scripts/vega-embed.js\",\n",
       "    };\n",
       "    function loadScript(lib) {\n",
       "      return new Promise(function(resolve, reject) {\n",
       "        var s = document.createElement('script');\n",
       "        s.src = urls[lib];\n",
       "        s.async = true;\n",
       "        s.onload = () => resolve(urls[lib]);\n",
       "        s.onerror = () => reject(`Error loading script: ${urls[lib]}`);\n",
       "        document.getElementsByTagName(\"head\")[0].appendChild(s);\n",
       "      });\n",
       "    }\n",
       "    function showError(err) {\n",
       "      outputDiv.innerHTML = `<div class=\"error\" style=\"color:red;\">${err}</div>`;\n",
       "      throw err;\n",
       "    }\n",
       "    function displayChart(vegaEmbed) {\n",
       "      vegaEmbed(outputDiv, spec, embedOpt)\n",
       "        .catch(err => showError(`Javascript Error: ${err.message}<br>This usually means there's a typo in your chart specification. See the javascript console for the full traceback.`));\n",
       "    }\n",
       "\n",
       "    if(typeof define === \"function\" && define.amd) {\n",
       "        // requirejs paths need '.js' extension stripped.\n",
       "        const paths = Object.keys(urls).reduce(function(paths, package) {\n",
       "            paths[package] = urls[package].replace(/\\.js$/, \"\");\n",
       "            return paths\n",
       "        }, {})\n",
       "        requirejs.config({paths});\n",
       "        require([\"vega-embed\"], displayChart, err => showError(`Error loading script: ${err.message}`));\n",
       "    } else if (typeof vegaEmbed === \"function\") {\n",
       "        displayChart(vegaEmbed);\n",
       "    } else {\n",
       "        loadScript(\"vega\")\n",
       "            .then(() => loadScript(\"vega-lite\"))\n",
       "            .then(() => loadScript(\"vega-embed\"))\n",
       "            .catch(showError)\n",
       "            .then(() => displayChart(vegaEmbed));\n",
       "    }\n",
       "  })({\"config\": {\"view\": {\"width\": 800, \"height\": 450}, \"background\": \"#ffffff\", \"title\": {\"anchor\": \"start\", \"font\": \"BentonGothic-Bold, sans\", \"fontColor\": \"#000000\", \"fontSize\": 22, \"fontWeight\": \"normal\"}, \"arc\": {\"fill\": \"#82c6df\"}, \"area\": {\"fill\": \"#82c6df\"}, \"line\": {\"stroke\": \"#82c6df\", \"strokeWidth\": 3}, \"path\": {\"stroke\": \"#82c6df\"}, \"rect\": {\"fill\": \"#82c6df\"}, \"shape\": {\"stroke\": \"#82c6df\"}, \"bar\": {\"fill\": \"#82c6df\"}, \"point\": {\"stroke\": \"#82c6df\"}, \"symbol\": {\"fill\": \"#82c6df\", \"size\": 30}, \"axis\": {\"titleFont\": \"BentonGothic-Bold, sans\", \"titleFontSize\": 14, \"titleFontWeight\": \"normal\", \"labelFont\": \"BentonGothic, sans\", \"labelFontSize\": 12, \"labelFontWeight\": \"normal\"}, \"axisX\": {\"labelAngle\": 0, \"labelPadding\": 4, \"tickSize\": 3}, \"axisY\": {\"labelBaseline\": \"middle\", \"maxExtent\": 45, \"minExtent\": 45, \"tickSize\": 2, \"titleAlign\": \"left\", \"titleAngle\": 0, \"titleX\": -45, \"titleY\": -11}, \"legend\": {\"titleFont\": \"BentonGothic-Bold, sans\", \"titleFontSize\": 14, \"titleFontWeight\": \"normal\", \"symbolType\": \"square\", \"labelFont\": \"BentonGothic, sans\", \"labelFontSize\": 13}, \"range\": {\"category\": [\"#3580b1\", \"#ec8431\", \"#ab7fb4\", \"#c89d29\", \"#adc839\", \"#829eb1\"], \"diverging\": [\"#e68a4f\", \"#f4bb6a\", \"#f9e39c\", \"#dadfe2\", \"#a6b7c6\", \"#849eae\"], \"heatmap\": [\"#fbf2c7\", \"#f9e39c\", \"#f8d36e\", \"#f4bb6a\", \"#e68a4f\", \"#d15a40\", \"#ab4232\"], \"ordinal\": [\"#fbf2c7\", \"#f9e39c\", \"#f8d36e\", \"#f4bb6a\", \"#e68a4f\", \"#d15a40\", \"#ab4232\"], \"ramp\": [\"#fbf2c7\", \"#f9e39c\", \"#f8d36e\", \"#f4bb6a\", \"#e68a4f\", \"#d15a40\", \"#ab4232\"]}}, \"data\": {\"name\": \"data-968f8bc23829de13b0088fc5f698e8a0\"}, \"mark\": {\"type\": \"bar\", \"size\": 20}, \"encoding\": {\"tooltip\": [{\"field\": \"year\", \"type\": \"quantitative\"}, {\"field\": \"acre\", \"type\": \"quantitative\"}], \"x\": {\"axis\": {\"format\": \"\"}, \"field\": \"year\", \"scale\": {\"domain\": [2012, 2021]}, \"title\": \"Year\", \"type\": \"quantitative\"}, \"y\": {\"axis\": {\"format\": \"\"}, \"field\": \"acre\", \"title\": \"Acres\", \"type\": \"quantitative\"}}, \"title\": \"Total area burned by year\", \"width\": 600, \"$schema\": \"https://vega.github.io/schema/vega-lite/v4.17.0.json\", \"datasets\": {\"data-968f8bc23829de13b0088fc5f698e8a0\": [{\"year\": 2012, \"sqm\": 275241600.0, \"acre\": 68013.575568}, {\"year\": 2013, \"sqm\": 1267999200.0, \"acre\": 313328.942316}, {\"year\": 2014, \"sqm\": 485167500.0, \"acre\": 119887.31508750001}, {\"year\": 2015, \"sqm\": 647533800.0, \"acre\": 160008.839649}, {\"year\": 2016, \"sqm\": 380770200.0, \"acre\": 94090.220271}, {\"year\": 2017, \"sqm\": 376335000.0, \"acre\": 92994.260175}, {\"year\": 2018, \"sqm\": 915758100.0, \"acre\": 226288.40530050002}, {\"year\": 2019, \"sqm\": 327519900.0, \"acre\": 80931.80488950001}, {\"year\": 2020, \"sqm\": 3704076000.0, \"acre\": 915295.69998}, {\"year\": 2021, \"sqm\": 4596106500.0, \"acre\": 1135720.8966825001}]}}, {});\n",
       "</script>\n"
      ],
      "text/plain": [
       "alt.Chart(...)"
      ]
     },
     "execution_count": 6,
     "metadata": {},
     "output_type": "execute_result"
    }
   ],
   "source": [
    "alt.Chart(cbi4_by_year, title=\"Total area burned by year\").mark_bar(size=20).encode(\n",
    "    x=alt.X(\n",
    "        \"year\",\n",
    "        title=\"Year\",\n",
    "        axis=alt.Axis(format=''),\n",
    "        scale=alt.Scale(domain=[2012, 2021])\n",
    "    ),\n",
    "    y=alt.Y(\n",
    "        'acre',\n",
    "        title='Acres',\n",
    "        axis=alt.Axis(format=\"\"),\n",
    "    ),\n",
    "    tooltip=['year', 'acre']\n",
    ").properties(width=600)"
   ]
  },
  {
   "cell_type": "code",
   "execution_count": 7,
   "id": "76d7772c",
   "metadata": {},
   "outputs": [],
   "source": [
    "total_burn_after20 = cbi4_by_year.iloc[8:].sqm.sum()\n",
    "total_burn_before20 = cbi4_by_year.iloc[:8].sqm.sum()"
   ]
  },
  {
   "cell_type": "code",
   "execution_count": 8,
   "id": "e21fe4cb",
   "metadata": {},
   "outputs": [
    {
     "data": {
      "text/plain": [
       "1.7749369360596021"
      ]
     },
     "execution_count": 8,
     "metadata": {},
     "output_type": "execute_result"
    }
   ],
   "source": [
    "total_burn_after20 / total_burn_before20"
   ]
  },
  {
   "cell_type": "markdown",
   "id": "0b4eafb5",
   "metadata": {},
   "source": [
    "- The total area burned after 2020 was 1.8 times the total area burned from 2012 to 2019. \n",
    "- The total area burned in 2021 was 16.7 times that of 2012."
   ]
  },
  {
   "cell_type": "code",
   "execution_count": 9,
   "id": "8e8c1c94",
   "metadata": {},
   "outputs": [
    {
     "data": {
      "text/html": [
       "\n",
       "<div id=\"altair-chart-4874fbe42e0243d7839eb83545d7f162\"></div>\n",
       "<script type=\"text/javascript\">\n",
       "  (function(spec, embedOpt) {\n",
       "    const outputDiv = document.getElementById(\"altair-chart-4874fbe42e0243d7839eb83545d7f162\");\n",
       "    const urls = {\n",
       "      \"vega\": \"http://localhost:55499/scripts/vega.js\",\n",
       "      \"vega-lite\": \"http://localhost:55499/scripts/vega-lite.js\",\n",
       "      \"vega-embed\": \"http://localhost:55499/scripts/vega-embed.js\",\n",
       "    };\n",
       "    function loadScript(lib) {\n",
       "      return new Promise(function(resolve, reject) {\n",
       "        var s = document.createElement('script');\n",
       "        s.src = urls[lib];\n",
       "        s.async = true;\n",
       "        s.onload = () => resolve(urls[lib]);\n",
       "        s.onerror = () => reject(`Error loading script: ${urls[lib]}`);\n",
       "        document.getElementsByTagName(\"head\")[0].appendChild(s);\n",
       "      });\n",
       "    }\n",
       "    function showError(err) {\n",
       "      outputDiv.innerHTML = `<div class=\"error\" style=\"color:red;\">${err}</div>`;\n",
       "      throw err;\n",
       "    }\n",
       "    function displayChart(vegaEmbed) {\n",
       "      vegaEmbed(outputDiv, spec, embedOpt)\n",
       "        .catch(err => showError(`Javascript Error: ${err.message}<br>This usually means there's a typo in your chart specification. See the javascript console for the full traceback.`));\n",
       "    }\n",
       "\n",
       "    if(typeof define === \"function\" && define.amd) {\n",
       "        // requirejs paths need '.js' extension stripped.\n",
       "        const paths = Object.keys(urls).reduce(function(paths, package) {\n",
       "            paths[package] = urls[package].replace(/\\.js$/, \"\");\n",
       "            return paths\n",
       "        }, {})\n",
       "        requirejs.config({paths});\n",
       "        require([\"vega-embed\"], displayChart, err => showError(`Error loading script: ${err.message}`));\n",
       "    } else if (typeof vegaEmbed === \"function\") {\n",
       "        displayChart(vegaEmbed);\n",
       "    } else {\n",
       "        loadScript(\"vega\")\n",
       "            .then(() => loadScript(\"vega-lite\"))\n",
       "            .then(() => loadScript(\"vega-embed\"))\n",
       "            .catch(showError)\n",
       "            .then(() => displayChart(vegaEmbed));\n",
       "    }\n",
       "  })({\"config\": {\"view\": {\"width\": 800, \"height\": 450}, \"background\": \"#ffffff\", \"title\": {\"anchor\": \"start\", \"font\": \"BentonGothic-Bold, sans\", \"fontColor\": \"#000000\", \"fontSize\": 22, \"fontWeight\": \"normal\"}, \"arc\": {\"fill\": \"#82c6df\"}, \"area\": {\"fill\": \"#82c6df\"}, \"line\": {\"stroke\": \"#82c6df\", \"strokeWidth\": 3}, \"path\": {\"stroke\": \"#82c6df\"}, \"rect\": {\"fill\": \"#82c6df\"}, \"shape\": {\"stroke\": \"#82c6df\"}, \"bar\": {\"fill\": \"#82c6df\"}, \"point\": {\"stroke\": \"#82c6df\"}, \"symbol\": {\"fill\": \"#82c6df\", \"size\": 30}, \"axis\": {\"titleFont\": \"BentonGothic-Bold, sans\", \"titleFontSize\": 14, \"titleFontWeight\": \"normal\", \"labelFont\": \"BentonGothic, sans\", \"labelFontSize\": 12, \"labelFontWeight\": \"normal\"}, \"axisX\": {\"labelAngle\": 0, \"labelPadding\": 4, \"tickSize\": 3}, \"axisY\": {\"labelBaseline\": \"middle\", \"maxExtent\": 45, \"minExtent\": 45, \"tickSize\": 2, \"titleAlign\": \"left\", \"titleAngle\": 0, \"titleX\": -45, \"titleY\": -11}, \"legend\": {\"titleFont\": \"BentonGothic-Bold, sans\", \"titleFontSize\": 14, \"titleFontWeight\": \"normal\", \"symbolType\": \"square\", \"labelFont\": \"BentonGothic, sans\", \"labelFontSize\": 13}, \"range\": {\"category\": [\"#3580b1\", \"#ec8431\", \"#ab7fb4\", \"#c89d29\", \"#adc839\", \"#829eb1\"], \"diverging\": [\"#e68a4f\", \"#f4bb6a\", \"#f9e39c\", \"#dadfe2\", \"#a6b7c6\", \"#849eae\"], \"heatmap\": [\"#fbf2c7\", \"#f9e39c\", \"#f8d36e\", \"#f4bb6a\", \"#e68a4f\", \"#d15a40\", \"#ab4232\"], \"ordinal\": [\"#fbf2c7\", \"#f9e39c\", \"#f8d36e\", \"#f4bb6a\", \"#e68a4f\", \"#d15a40\", \"#ab4232\"], \"ramp\": [\"#fbf2c7\", \"#f9e39c\", \"#f8d36e\", \"#f4bb6a\", \"#e68a4f\", \"#d15a40\", \"#ab4232\"]}}, \"data\": {\"name\": \"data-03cfca40a3e35fc506610cd825c0bbd7\"}, \"mark\": {\"type\": \"bar\", \"size\": 20}, \"encoding\": {\"tooltip\": [{\"field\": \"year\", \"type\": \"quantitative\"}, {\"field\": \"acre\", \"type\": \"quantitative\"}], \"x\": {\"axis\": {\"format\": \"\"}, \"field\": \"year\", \"scale\": {\"domain\": [2012, 2021]}, \"title\": \"Year\", \"type\": \"quantitative\"}, \"y\": {\"axis\": {\"format\": \"\"}, \"field\": \"acre\", \"title\": \"Acres\", \"type\": \"quantitative\"}}, \"title\": \"Total area burned at the highest severity by year\", \"width\": 600, \"$schema\": \"https://vega.github.io/schema/vega-lite/v4.17.0.json\", \"datasets\": {\"data-03cfca40a3e35fc506610cd825c0bbd7\": [{\"year\": 2012, \"ind\": 4, \"ind_name\": \"high\", \"sqm\": 57377700.0, \"percent_of_total\": 0.20846303756408915, \"total\": 68013.575568, \"acre\": 14178.3165585}, {\"year\": 2013, \"ind\": 4, \"ind_name\": \"high\", \"sqm\": 418892400.0, \"percent_of_total\": 0.33035699076150843, \"total\": 313328.942316, \"acre\": 103510.40650200001}, {\"year\": 2014, \"ind\": 4, \"ind_name\": \"high\", \"sqm\": 215902800.0, \"percent_of_total\": 0.4450067244817511, \"total\": 119887.31508750001, \"acre\": 53350.661394}, {\"year\": 2015, \"ind\": 4, \"ind_name\": \"high\", \"sqm\": 247331700.0, \"percent_of_total\": 0.3819595208775202, \"total\": 160008.839649, \"acre\": 61116.8997285}, {\"year\": 2016, \"ind\": 4, \"ind_name\": \"high\", \"sqm\": 198611100.0, \"percent_of_total\": 0.521603581372702, \"total\": 94090.220271, \"acre\": 49077.795865500004}, {\"year\": 2017, \"ind\": 4, \"ind_name\": \"high\", \"sqm\": 97002000.0, \"percent_of_total\": 0.2577543943560923, \"total\": 92994.260175, \"acre\": 23969.679210000002}, {\"year\": 2018, \"ind\": 4, \"ind_name\": \"high\", \"sqm\": 236677500.0, \"percent_of_total\": 0.25844980240961013, \"total\": 226288.40530050002, \"acre\": 58484.1936375}, {\"year\": 2019, \"ind\": 4, \"ind_name\": \"high\", \"sqm\": 129195900.0, \"percent_of_total\": 0.39446732855011246, \"total\": 80931.80488950001, \"acre\": 31924.9528695}, {\"year\": 2020, \"ind\": 4, \"ind_name\": \"high\", \"sqm\": 1689453000.0, \"percent_of_total\": 0.4561064621784219, \"total\": 915295.69998, \"acre\": 417472.28356500005}, {\"year\": 2021, \"ind\": 4, \"ind_name\": \"high\", \"sqm\": 2059678800.0, \"percent_of_total\": 0.44813556866012566, \"total\": 1135720.8966825001, \"acre\": 508956.929874}]}}, {});\n",
       "</script>\n"
      ],
      "text/plain": [
       "alt.Chart(...)"
      ]
     },
     "execution_count": 9,
     "metadata": {},
     "output_type": "execute_result"
    }
   ],
   "source": [
    "high_severity = cbi4_by_index[cbi4_by_index.ind == 4].reset_index(drop=True)\n",
    "\n",
    "alt.Chart(high_severity, title=\"Total area burned at the highest severity by year\").mark_bar(size=20).encode(\n",
    "    x=alt.X(\n",
    "        \"year\",\n",
    "        title=\"Year\",\n",
    "        axis=alt.Axis(format=''),\n",
    "        scale=alt.Scale(domain=[2012, 2021])\n",
    "    ),\n",
    "    y=alt.Y(\n",
    "        'acre',\n",
    "        title='Acres',\n",
    "        axis=alt.Axis(format=\"\"),\n",
    "    ),\n",
    "    tooltip=['year', 'acre']\n",
    ").properties(width=600)"
   ]
  },
  {
   "cell_type": "code",
   "execution_count": 10,
   "id": "6c2a7b10",
   "metadata": {},
   "outputs": [],
   "source": [
    "hsevere_after20 = high_severity.iloc[8:].sqm.sum()\n",
    "hsevere_before20 = high_severity.iloc[:8].sqm.sum()"
   ]
  },
  {
   "cell_type": "code",
   "execution_count": 11,
   "id": "1a049fbd",
   "metadata": {},
   "outputs": [
    {
     "data": {
      "text/plain": [
       "2.341756803020329"
      ]
     },
     "execution_count": 11,
     "metadata": {},
     "output_type": "execute_result"
    }
   ],
   "source": [
    "hsevere_after20 / hsevere_before20"
   ]
  },
  {
   "cell_type": "markdown",
   "id": "0a6bb4fd",
   "metadata": {},
   "source": [
    "- The total area burned at high severity after 2020 was 2.3 times that of 2012 to 2019.\n",
    "- In 2021, the total area burned at the highest severity level was 36 times that of 2012."
   ]
  },
  {
   "cell_type": "code",
   "execution_count": 12,
   "id": "11bdcb8b",
   "metadata": {
    "scrolled": false
   },
   "outputs": [
    {
     "data": {
      "text/html": [
       "\n",
       "<div id=\"altair-chart-a198bb4333914ff498b949e7066f8211\"></div>\n",
       "<script type=\"text/javascript\">\n",
       "  (function(spec, embedOpt) {\n",
       "    const outputDiv = document.getElementById(\"altair-chart-a198bb4333914ff498b949e7066f8211\");\n",
       "    const urls = {\n",
       "      \"vega\": \"http://localhost:55499/scripts/vega.js\",\n",
       "      \"vega-lite\": \"http://localhost:55499/scripts/vega-lite.js\",\n",
       "      \"vega-embed\": \"http://localhost:55499/scripts/vega-embed.js\",\n",
       "    };\n",
       "    function loadScript(lib) {\n",
       "      return new Promise(function(resolve, reject) {\n",
       "        var s = document.createElement('script');\n",
       "        s.src = urls[lib];\n",
       "        s.async = true;\n",
       "        s.onload = () => resolve(urls[lib]);\n",
       "        s.onerror = () => reject(`Error loading script: ${urls[lib]}`);\n",
       "        document.getElementsByTagName(\"head\")[0].appendChild(s);\n",
       "      });\n",
       "    }\n",
       "    function showError(err) {\n",
       "      outputDiv.innerHTML = `<div class=\"error\" style=\"color:red;\">${err}</div>`;\n",
       "      throw err;\n",
       "    }\n",
       "    function displayChart(vegaEmbed) {\n",
       "      vegaEmbed(outputDiv, spec, embedOpt)\n",
       "        .catch(err => showError(`Javascript Error: ${err.message}<br>This usually means there's a typo in your chart specification. See the javascript console for the full traceback.`));\n",
       "    }\n",
       "\n",
       "    if(typeof define === \"function\" && define.amd) {\n",
       "        // requirejs paths need '.js' extension stripped.\n",
       "        const paths = Object.keys(urls).reduce(function(paths, package) {\n",
       "            paths[package] = urls[package].replace(/\\.js$/, \"\");\n",
       "            return paths\n",
       "        }, {})\n",
       "        requirejs.config({paths});\n",
       "        require([\"vega-embed\"], displayChart, err => showError(`Error loading script: ${err.message}`));\n",
       "    } else if (typeof vegaEmbed === \"function\") {\n",
       "        displayChart(vegaEmbed);\n",
       "    } else {\n",
       "        loadScript(\"vega\")\n",
       "            .then(() => loadScript(\"vega-lite\"))\n",
       "            .then(() => loadScript(\"vega-embed\"))\n",
       "            .catch(showError)\n",
       "            .then(() => displayChart(vegaEmbed));\n",
       "    }\n",
       "  })({\"config\": {\"view\": {\"width\": 800, \"height\": 450}, \"background\": \"#ffffff\", \"title\": {\"anchor\": \"start\", \"font\": \"BentonGothic-Bold, sans\", \"fontColor\": \"#000000\", \"fontSize\": 22, \"fontWeight\": \"normal\"}, \"arc\": {\"fill\": \"#82c6df\"}, \"area\": {\"fill\": \"#82c6df\"}, \"line\": {\"stroke\": \"#82c6df\", \"strokeWidth\": 3}, \"path\": {\"stroke\": \"#82c6df\"}, \"rect\": {\"fill\": \"#82c6df\"}, \"shape\": {\"stroke\": \"#82c6df\"}, \"bar\": {\"fill\": \"#82c6df\"}, \"point\": {\"stroke\": \"#82c6df\"}, \"symbol\": {\"fill\": \"#82c6df\", \"size\": 30}, \"axis\": {\"titleFont\": \"BentonGothic-Bold, sans\", \"titleFontSize\": 14, \"titleFontWeight\": \"normal\", \"labelFont\": \"BentonGothic, sans\", \"labelFontSize\": 12, \"labelFontWeight\": \"normal\"}, \"axisX\": {\"labelAngle\": 0, \"labelPadding\": 4, \"tickSize\": 3}, \"axisY\": {\"labelBaseline\": \"middle\", \"maxExtent\": 45, \"minExtent\": 45, \"tickSize\": 2, \"titleAlign\": \"left\", \"titleAngle\": 0, \"titleX\": -45, \"titleY\": -11}, \"legend\": {\"titleFont\": \"BentonGothic-Bold, sans\", \"titleFontSize\": 14, \"titleFontWeight\": \"normal\", \"symbolType\": \"square\", \"labelFont\": \"BentonGothic, sans\", \"labelFontSize\": 13}, \"range\": {\"category\": [\"#3580b1\", \"#ec8431\", \"#ab7fb4\", \"#c89d29\", \"#adc839\", \"#829eb1\"], \"diverging\": [\"#e68a4f\", \"#f4bb6a\", \"#f9e39c\", \"#dadfe2\", \"#a6b7c6\", \"#849eae\"], \"heatmap\": [\"#fbf2c7\", \"#f9e39c\", \"#f8d36e\", \"#f4bb6a\", \"#e68a4f\", \"#d15a40\", \"#ab4232\"], \"ordinal\": [\"#fbf2c7\", \"#f9e39c\", \"#f8d36e\", \"#f4bb6a\", \"#e68a4f\", \"#d15a40\", \"#ab4232\"], \"ramp\": [\"#fbf2c7\", \"#f9e39c\", \"#f8d36e\", \"#f4bb6a\", \"#e68a4f\", \"#d15a40\", \"#ab4232\"]}}, \"data\": {\"name\": \"data-03cfca40a3e35fc506610cd825c0bbd7\"}, \"mark\": {\"type\": \"bar\", \"size\": 20}, \"encoding\": {\"tooltip\": [{\"field\": \"year\", \"type\": \"quantitative\"}, {\"field\": \"percent_of_total\", \"type\": \"quantitative\"}], \"x\": {\"axis\": {\"format\": \"\"}, \"field\": \"year\", \"scale\": {\"domain\": [2012, 2021]}, \"title\": \"Year\", \"type\": \"quantitative\"}, \"y\": {\"axis\": {\"format\": \".0%\"}, \"field\": \"percent_of_total\", \"title\": \"\", \"type\": \"quantitative\"}}, \"title\": \"Percentage of total area burned at the highest severity by year\", \"width\": 600, \"$schema\": \"https://vega.github.io/schema/vega-lite/v4.17.0.json\", \"datasets\": {\"data-03cfca40a3e35fc506610cd825c0bbd7\": [{\"year\": 2012, \"ind\": 4, \"ind_name\": \"high\", \"sqm\": 57377700.0, \"percent_of_total\": 0.20846303756408915, \"total\": 68013.575568, \"acre\": 14178.3165585}, {\"year\": 2013, \"ind\": 4, \"ind_name\": \"high\", \"sqm\": 418892400.0, \"percent_of_total\": 0.33035699076150843, \"total\": 313328.942316, \"acre\": 103510.40650200001}, {\"year\": 2014, \"ind\": 4, \"ind_name\": \"high\", \"sqm\": 215902800.0, \"percent_of_total\": 0.4450067244817511, \"total\": 119887.31508750001, \"acre\": 53350.661394}, {\"year\": 2015, \"ind\": 4, \"ind_name\": \"high\", \"sqm\": 247331700.0, \"percent_of_total\": 0.3819595208775202, \"total\": 160008.839649, \"acre\": 61116.8997285}, {\"year\": 2016, \"ind\": 4, \"ind_name\": \"high\", \"sqm\": 198611100.0, \"percent_of_total\": 0.521603581372702, \"total\": 94090.220271, \"acre\": 49077.795865500004}, {\"year\": 2017, \"ind\": 4, \"ind_name\": \"high\", \"sqm\": 97002000.0, \"percent_of_total\": 0.2577543943560923, \"total\": 92994.260175, \"acre\": 23969.679210000002}, {\"year\": 2018, \"ind\": 4, \"ind_name\": \"high\", \"sqm\": 236677500.0, \"percent_of_total\": 0.25844980240961013, \"total\": 226288.40530050002, \"acre\": 58484.1936375}, {\"year\": 2019, \"ind\": 4, \"ind_name\": \"high\", \"sqm\": 129195900.0, \"percent_of_total\": 0.39446732855011246, \"total\": 80931.80488950001, \"acre\": 31924.9528695}, {\"year\": 2020, \"ind\": 4, \"ind_name\": \"high\", \"sqm\": 1689453000.0, \"percent_of_total\": 0.4561064621784219, \"total\": 915295.69998, \"acre\": 417472.28356500005}, {\"year\": 2021, \"ind\": 4, \"ind_name\": \"high\", \"sqm\": 2059678800.0, \"percent_of_total\": 0.44813556866012566, \"total\": 1135720.8966825001, \"acre\": 508956.929874}]}}, {});\n",
       "</script>\n"
      ],
      "text/plain": [
       "alt.Chart(...)"
      ]
     },
     "execution_count": 12,
     "metadata": {},
     "output_type": "execute_result"
    }
   ],
   "source": [
    "alt.Chart(high_severity, title=\"Percentage of total area burned at the highest severity by year\").mark_bar(size=20).encode(\n",
    "    x=alt.X(\n",
    "        \"year\",\n",
    "        title=\"Year\",\n",
    "        axis=alt.Axis(format=''),\n",
    "        scale=alt.Scale(domain=[2012, 2021])\n",
    "    ),\n",
    "    y=alt.Y(\n",
    "        'percent_of_total',\n",
    "        title='',\n",
    "        axis=alt.Axis(format=\".0%\"),\n",
    "    ),\n",
    "    tooltip=['year', 'percent_of_total']\n",
    ").properties(width=600)"
   ]
  },
  {
   "cell_type": "code",
   "execution_count": 13,
   "id": "5b1e2094",
   "metadata": {},
   "outputs": [],
   "source": [
    "high_severity.to_csv(\"output/sierra_nevada_high_severity_size_by_year.csv\")"
   ]
  },
  {
   "cell_type": "code",
   "execution_count": 14,
   "id": "31e45ac9",
   "metadata": {},
   "outputs": [
    {
     "data": {
      "text/html": [
       "<div>\n",
       "<style scoped>\n",
       "    .dataframe tbody tr th:only-of-type {\n",
       "        vertical-align: middle;\n",
       "    }\n",
       "\n",
       "    .dataframe tbody tr th {\n",
       "        vertical-align: top;\n",
       "    }\n",
       "\n",
       "    .dataframe thead th {\n",
       "        text-align: right;\n",
       "    }\n",
       "</style>\n",
       "<table border=\"1\" class=\"dataframe\">\n",
       "  <thead>\n",
       "    <tr style=\"text-align: right;\">\n",
       "      <th></th>\n",
       "      <th>year</th>\n",
       "      <th>ind</th>\n",
       "      <th>ind_name</th>\n",
       "      <th>sqm</th>\n",
       "      <th>percent_of_total</th>\n",
       "      <th>total</th>\n",
       "      <th>acre</th>\n",
       "    </tr>\n",
       "  </thead>\n",
       "  <tbody>\n",
       "    <tr>\n",
       "      <th>0</th>\n",
       "      <td>2012</td>\n",
       "      <td>4</td>\n",
       "      <td>high</td>\n",
       "      <td>5.737770e+07</td>\n",
       "      <td>0.208463</td>\n",
       "      <td>6.801358e+04</td>\n",
       "      <td>14178.316559</td>\n",
       "    </tr>\n",
       "    <tr>\n",
       "      <th>1</th>\n",
       "      <td>2013</td>\n",
       "      <td>4</td>\n",
       "      <td>high</td>\n",
       "      <td>4.188924e+08</td>\n",
       "      <td>0.330357</td>\n",
       "      <td>3.133289e+05</td>\n",
       "      <td>103510.406502</td>\n",
       "    </tr>\n",
       "    <tr>\n",
       "      <th>2</th>\n",
       "      <td>2014</td>\n",
       "      <td>4</td>\n",
       "      <td>high</td>\n",
       "      <td>2.159028e+08</td>\n",
       "      <td>0.445007</td>\n",
       "      <td>1.198873e+05</td>\n",
       "      <td>53350.661394</td>\n",
       "    </tr>\n",
       "    <tr>\n",
       "      <th>3</th>\n",
       "      <td>2015</td>\n",
       "      <td>4</td>\n",
       "      <td>high</td>\n",
       "      <td>2.473317e+08</td>\n",
       "      <td>0.381960</td>\n",
       "      <td>1.600088e+05</td>\n",
       "      <td>61116.899729</td>\n",
       "    </tr>\n",
       "    <tr>\n",
       "      <th>4</th>\n",
       "      <td>2016</td>\n",
       "      <td>4</td>\n",
       "      <td>high</td>\n",
       "      <td>1.986111e+08</td>\n",
       "      <td>0.521604</td>\n",
       "      <td>9.409022e+04</td>\n",
       "      <td>49077.795866</td>\n",
       "    </tr>\n",
       "    <tr>\n",
       "      <th>5</th>\n",
       "      <td>2017</td>\n",
       "      <td>4</td>\n",
       "      <td>high</td>\n",
       "      <td>9.700200e+07</td>\n",
       "      <td>0.257754</td>\n",
       "      <td>9.299426e+04</td>\n",
       "      <td>23969.679210</td>\n",
       "    </tr>\n",
       "    <tr>\n",
       "      <th>6</th>\n",
       "      <td>2018</td>\n",
       "      <td>4</td>\n",
       "      <td>high</td>\n",
       "      <td>2.366775e+08</td>\n",
       "      <td>0.258450</td>\n",
       "      <td>2.262884e+05</td>\n",
       "      <td>58484.193638</td>\n",
       "    </tr>\n",
       "    <tr>\n",
       "      <th>7</th>\n",
       "      <td>2019</td>\n",
       "      <td>4</td>\n",
       "      <td>high</td>\n",
       "      <td>1.291959e+08</td>\n",
       "      <td>0.394467</td>\n",
       "      <td>8.093180e+04</td>\n",
       "      <td>31924.952870</td>\n",
       "    </tr>\n",
       "    <tr>\n",
       "      <th>8</th>\n",
       "      <td>2020</td>\n",
       "      <td>4</td>\n",
       "      <td>high</td>\n",
       "      <td>1.689453e+09</td>\n",
       "      <td>0.456106</td>\n",
       "      <td>9.152957e+05</td>\n",
       "      <td>417472.283565</td>\n",
       "    </tr>\n",
       "    <tr>\n",
       "      <th>9</th>\n",
       "      <td>2021</td>\n",
       "      <td>4</td>\n",
       "      <td>high</td>\n",
       "      <td>2.059679e+09</td>\n",
       "      <td>0.448136</td>\n",
       "      <td>1.135721e+06</td>\n",
       "      <td>508956.929874</td>\n",
       "    </tr>\n",
       "  </tbody>\n",
       "</table>\n",
       "</div>"
      ],
      "text/plain": [
       "   year  ind ind_name           sqm  percent_of_total         total  \\\n",
       "0  2012    4     high  5.737770e+07          0.208463  6.801358e+04   \n",
       "1  2013    4     high  4.188924e+08          0.330357  3.133289e+05   \n",
       "2  2014    4     high  2.159028e+08          0.445007  1.198873e+05   \n",
       "3  2015    4     high  2.473317e+08          0.381960  1.600088e+05   \n",
       "4  2016    4     high  1.986111e+08          0.521604  9.409022e+04   \n",
       "5  2017    4     high  9.700200e+07          0.257754  9.299426e+04   \n",
       "6  2018    4     high  2.366775e+08          0.258450  2.262884e+05   \n",
       "7  2019    4     high  1.291959e+08          0.394467  8.093180e+04   \n",
       "8  2020    4     high  1.689453e+09          0.456106  9.152957e+05   \n",
       "9  2021    4     high  2.059679e+09          0.448136  1.135721e+06   \n",
       "\n",
       "            acre  \n",
       "0   14178.316559  \n",
       "1  103510.406502  \n",
       "2   53350.661394  \n",
       "3   61116.899729  \n",
       "4   49077.795866  \n",
       "5   23969.679210  \n",
       "6   58484.193638  \n",
       "7   31924.952870  \n",
       "8  417472.283565  \n",
       "9  508956.929874  "
      ]
     },
     "execution_count": 14,
     "metadata": {},
     "output_type": "execute_result"
    }
   ],
   "source": [
    "high_severity"
   ]
  },
  {
   "cell_type": "markdown",
   "id": "be94aa13",
   "metadata": {},
   "source": [
    "The % of fire burned at the highest severity in Sierra Nevada peaked in 2016."
   ]
  },
  {
   "cell_type": "code",
   "execution_count": 15,
   "id": "ff27c527",
   "metadata": {},
   "outputs": [
    {
     "data": {
      "text/html": [
       "\n",
       "<div id=\"altair-chart-80e052b59b3542149379a421903c32ae\"></div>\n",
       "<script type=\"text/javascript\">\n",
       "  (function(spec, embedOpt) {\n",
       "    const outputDiv = document.getElementById(\"altair-chart-80e052b59b3542149379a421903c32ae\");\n",
       "    const urls = {\n",
       "      \"vega\": \"http://localhost:55499/scripts/vega.js\",\n",
       "      \"vega-lite\": \"http://localhost:55499/scripts/vega-lite.js\",\n",
       "      \"vega-embed\": \"http://localhost:55499/scripts/vega-embed.js\",\n",
       "    };\n",
       "    function loadScript(lib) {\n",
       "      return new Promise(function(resolve, reject) {\n",
       "        var s = document.createElement('script');\n",
       "        s.src = urls[lib];\n",
       "        s.async = true;\n",
       "        s.onload = () => resolve(urls[lib]);\n",
       "        s.onerror = () => reject(`Error loading script: ${urls[lib]}`);\n",
       "        document.getElementsByTagName(\"head\")[0].appendChild(s);\n",
       "      });\n",
       "    }\n",
       "    function showError(err) {\n",
       "      outputDiv.innerHTML = `<div class=\"error\" style=\"color:red;\">${err}</div>`;\n",
       "      throw err;\n",
       "    }\n",
       "    function displayChart(vegaEmbed) {\n",
       "      vegaEmbed(outputDiv, spec, embedOpt)\n",
       "        .catch(err => showError(`Javascript Error: ${err.message}<br>This usually means there's a typo in your chart specification. See the javascript console for the full traceback.`));\n",
       "    }\n",
       "\n",
       "    if(typeof define === \"function\" && define.amd) {\n",
       "        // requirejs paths need '.js' extension stripped.\n",
       "        const paths = Object.keys(urls).reduce(function(paths, package) {\n",
       "            paths[package] = urls[package].replace(/\\.js$/, \"\");\n",
       "            return paths\n",
       "        }, {})\n",
       "        requirejs.config({paths});\n",
       "        require([\"vega-embed\"], displayChart, err => showError(`Error loading script: ${err.message}`));\n",
       "    } else if (typeof vegaEmbed === \"function\") {\n",
       "        displayChart(vegaEmbed);\n",
       "    } else {\n",
       "        loadScript(\"vega\")\n",
       "            .then(() => loadScript(\"vega-lite\"))\n",
       "            .then(() => loadScript(\"vega-embed\"))\n",
       "            .catch(showError)\n",
       "            .then(() => displayChart(vegaEmbed));\n",
       "    }\n",
       "  })({\"config\": {\"view\": {\"width\": 800, \"height\": 450}, \"background\": \"#ffffff\", \"title\": {\"anchor\": \"start\", \"font\": \"BentonGothic-Bold, sans\", \"fontColor\": \"#000000\", \"fontSize\": 22, \"fontWeight\": \"normal\"}, \"arc\": {\"fill\": \"#82c6df\"}, \"area\": {\"fill\": \"#82c6df\"}, \"line\": {\"stroke\": \"#82c6df\", \"strokeWidth\": 3}, \"path\": {\"stroke\": \"#82c6df\"}, \"rect\": {\"fill\": \"#82c6df\"}, \"shape\": {\"stroke\": \"#82c6df\"}, \"bar\": {\"fill\": \"#82c6df\"}, \"point\": {\"stroke\": \"#82c6df\"}, \"symbol\": {\"fill\": \"#82c6df\", \"size\": 30}, \"axis\": {\"titleFont\": \"BentonGothic-Bold, sans\", \"titleFontSize\": 14, \"titleFontWeight\": \"normal\", \"labelFont\": \"BentonGothic, sans\", \"labelFontSize\": 12, \"labelFontWeight\": \"normal\"}, \"axisX\": {\"labelAngle\": 0, \"labelPadding\": 4, \"tickSize\": 3}, \"axisY\": {\"labelBaseline\": \"middle\", \"maxExtent\": 45, \"minExtent\": 45, \"tickSize\": 2, \"titleAlign\": \"left\", \"titleAngle\": 0, \"titleX\": -45, \"titleY\": -11}, \"legend\": {\"titleFont\": \"BentonGothic-Bold, sans\", \"titleFontSize\": 14, \"titleFontWeight\": \"normal\", \"symbolType\": \"square\", \"labelFont\": \"BentonGothic, sans\", \"labelFontSize\": 13}, \"range\": {\"category\": [\"#3580b1\", \"#ec8431\", \"#ab7fb4\", \"#c89d29\", \"#adc839\", \"#829eb1\"], \"diverging\": [\"#e68a4f\", \"#f4bb6a\", \"#f9e39c\", \"#dadfe2\", \"#a6b7c6\", \"#849eae\"], \"heatmap\": [\"#fbf2c7\", \"#f9e39c\", \"#f8d36e\", \"#f4bb6a\", \"#e68a4f\", \"#d15a40\", \"#ab4232\"], \"ordinal\": [\"#fbf2c7\", \"#f9e39c\", \"#f8d36e\", \"#f4bb6a\", \"#e68a4f\", \"#d15a40\", \"#ab4232\"], \"ramp\": [\"#fbf2c7\", \"#f9e39c\", \"#f8d36e\", \"#f4bb6a\", \"#e68a4f\", \"#d15a40\", \"#ab4232\"]}}, \"data\": {\"name\": \"data-03cfca40a3e35fc506610cd825c0bbd7\"}, \"mark\": {\"type\": \"circle\", \"size\": 80}, \"encoding\": {\"color\": {\"field\": \"year\", \"type\": \"quantitative\"}, \"tooltip\": [{\"field\": \"year\", \"type\": \"quantitative\"}, {\"field\": \"acre\", \"type\": \"quantitative\"}, {\"field\": \"percent_of_total\", \"type\": \"quantitative\"}], \"x\": {\"axis\": {\"format\": \"\"}, \"field\": \"percent_of_total\", \"title\": \"%\", \"type\": \"quantitative\"}, \"y\": {\"field\": \"acre\", \"title\": \"Acres\", \"type\": \"quantitative\"}}, \"title\": \"acres v.s. percent\", \"width\": 600, \"$schema\": \"https://vega.github.io/schema/vega-lite/v4.17.0.json\", \"datasets\": {\"data-03cfca40a3e35fc506610cd825c0bbd7\": [{\"year\": 2012, \"ind\": 4, \"ind_name\": \"high\", \"sqm\": 57377700.0, \"percent_of_total\": 0.20846303756408915, \"total\": 68013.575568, \"acre\": 14178.3165585}, {\"year\": 2013, \"ind\": 4, \"ind_name\": \"high\", \"sqm\": 418892400.0, \"percent_of_total\": 0.33035699076150843, \"total\": 313328.942316, \"acre\": 103510.40650200001}, {\"year\": 2014, \"ind\": 4, \"ind_name\": \"high\", \"sqm\": 215902800.0, \"percent_of_total\": 0.4450067244817511, \"total\": 119887.31508750001, \"acre\": 53350.661394}, {\"year\": 2015, \"ind\": 4, \"ind_name\": \"high\", \"sqm\": 247331700.0, \"percent_of_total\": 0.3819595208775202, \"total\": 160008.839649, \"acre\": 61116.8997285}, {\"year\": 2016, \"ind\": 4, \"ind_name\": \"high\", \"sqm\": 198611100.0, \"percent_of_total\": 0.521603581372702, \"total\": 94090.220271, \"acre\": 49077.795865500004}, {\"year\": 2017, \"ind\": 4, \"ind_name\": \"high\", \"sqm\": 97002000.0, \"percent_of_total\": 0.2577543943560923, \"total\": 92994.260175, \"acre\": 23969.679210000002}, {\"year\": 2018, \"ind\": 4, \"ind_name\": \"high\", \"sqm\": 236677500.0, \"percent_of_total\": 0.25844980240961013, \"total\": 226288.40530050002, \"acre\": 58484.1936375}, {\"year\": 2019, \"ind\": 4, \"ind_name\": \"high\", \"sqm\": 129195900.0, \"percent_of_total\": 0.39446732855011246, \"total\": 80931.80488950001, \"acre\": 31924.9528695}, {\"year\": 2020, \"ind\": 4, \"ind_name\": \"high\", \"sqm\": 1689453000.0, \"percent_of_total\": 0.4561064621784219, \"total\": 915295.69998, \"acre\": 417472.28356500005}, {\"year\": 2021, \"ind\": 4, \"ind_name\": \"high\", \"sqm\": 2059678800.0, \"percent_of_total\": 0.44813556866012566, \"total\": 1135720.8966825001, \"acre\": 508956.929874}]}}, {});\n",
       "</script>\n"
      ],
      "text/plain": [
       "alt.Chart(...)"
      ]
     },
     "execution_count": 15,
     "metadata": {},
     "output_type": "execute_result"
    }
   ],
   "source": [
    "alt.Chart(high_severity, title=\"\").mark_circle(size=80).encode(\n",
    "    x=alt.X(\n",
    "        \"percent_of_total\",\n",
    "        title=\"%\",\n",
    "        axis=alt.Axis(format=''),\n",
    "#         scale=alt.Scale(domain=[2012, 2021])\n",
    "    ),\n",
    "    y=alt.Y(\n",
    "        'acre',\n",
    "        title='Acres'\n",
    "    ),\n",
    "    color = 'year',\n",
    "    tooltip=['year', 'acre', 'percent_of_total']\n",
    ").properties(width=600, title='acres v.s. percent')"
   ]
  },
  {
   "cell_type": "markdown",
   "id": "9df86452",
   "metadata": {},
   "source": [
    "# Basal area change"
   ]
  },
  {
   "cell_type": "code",
   "execution_count": 16,
   "id": "0f8128da",
   "metadata": {},
   "outputs": [
    {
     "name": "stderr",
     "output_type": "stream",
     "text": [
      "/var/folders/zv/3yvy_fbd0mz2lvqqtd13wypc0000gp/T/ipykernel_38874/1028497440.py:12: SettingWithCopyWarning: \n",
      "A value is trying to be set on a copy of a slice from a DataFrame\n",
      "\n",
      "See the caveats in the documentation: https://pandas.pydata.org/pandas-docs/stable/user_guide/indexing.html#returning-a-view-versus-a-copy\n",
      "  df['percent_of_total'].iloc[k] = df.acre[k] / grouped.acre[i]\n",
      "/var/folders/zv/3yvy_fbd0mz2lvqqtd13wypc0000gp/T/ipykernel_38874/1028497440.py:13: SettingWithCopyWarning: \n",
      "A value is trying to be set on a copy of a slice from a DataFrame\n",
      "\n",
      "See the caveats in the documentation: https://pandas.pydata.org/pandas-docs/stable/user_guide/indexing.html#returning-a-view-versus-a-copy\n",
      "  df['total'].iloc[k] = grouped.acre[i]\n"
     ]
    }
   ],
   "source": [
    "ba_by_year, ba_by_index = analyze_index('output/sum_of_sierra_area_by_ba_index.csv')"
   ]
  },
  {
   "cell_type": "code",
   "execution_count": 17,
   "id": "13f5bed6",
   "metadata": {},
   "outputs": [
    {
     "data": {
      "text/html": [
       "\n",
       "<div id=\"altair-chart-209f535564d341eda88f6d95bd584b0e\"></div>\n",
       "<script type=\"text/javascript\">\n",
       "  (function(spec, embedOpt) {\n",
       "    const outputDiv = document.getElementById(\"altair-chart-209f535564d341eda88f6d95bd584b0e\");\n",
       "    const urls = {\n",
       "      \"vega\": \"http://localhost:55499/scripts/vega.js\",\n",
       "      \"vega-lite\": \"http://localhost:55499/scripts/vega-lite.js\",\n",
       "      \"vega-embed\": \"http://localhost:55499/scripts/vega-embed.js\",\n",
       "    };\n",
       "    function loadScript(lib) {\n",
       "      return new Promise(function(resolve, reject) {\n",
       "        var s = document.createElement('script');\n",
       "        s.src = urls[lib];\n",
       "        s.async = true;\n",
       "        s.onload = () => resolve(urls[lib]);\n",
       "        s.onerror = () => reject(`Error loading script: ${urls[lib]}`);\n",
       "        document.getElementsByTagName(\"head\")[0].appendChild(s);\n",
       "      });\n",
       "    }\n",
       "    function showError(err) {\n",
       "      outputDiv.innerHTML = `<div class=\"error\" style=\"color:red;\">${err}</div>`;\n",
       "      throw err;\n",
       "    }\n",
       "    function displayChart(vegaEmbed) {\n",
       "      vegaEmbed(outputDiv, spec, embedOpt)\n",
       "        .catch(err => showError(`Javascript Error: ${err.message}<br>This usually means there's a typo in your chart specification. See the javascript console for the full traceback.`));\n",
       "    }\n",
       "\n",
       "    if(typeof define === \"function\" && define.amd) {\n",
       "        // requirejs paths need '.js' extension stripped.\n",
       "        const paths = Object.keys(urls).reduce(function(paths, package) {\n",
       "            paths[package] = urls[package].replace(/\\.js$/, \"\");\n",
       "            return paths\n",
       "        }, {})\n",
       "        requirejs.config({paths});\n",
       "        require([\"vega-embed\"], displayChart, err => showError(`Error loading script: ${err.message}`));\n",
       "    } else if (typeof vegaEmbed === \"function\") {\n",
       "        displayChart(vegaEmbed);\n",
       "    } else {\n",
       "        loadScript(\"vega\")\n",
       "            .then(() => loadScript(\"vega-lite\"))\n",
       "            .then(() => loadScript(\"vega-embed\"))\n",
       "            .catch(showError)\n",
       "            .then(() => displayChart(vegaEmbed));\n",
       "    }\n",
       "  })({\"config\": {\"view\": {\"width\": 800, \"height\": 450}, \"background\": \"#ffffff\", \"title\": {\"anchor\": \"start\", \"font\": \"BentonGothic-Bold, sans\", \"fontColor\": \"#000000\", \"fontSize\": 22, \"fontWeight\": \"normal\"}, \"arc\": {\"fill\": \"#82c6df\"}, \"area\": {\"fill\": \"#82c6df\"}, \"line\": {\"stroke\": \"#82c6df\", \"strokeWidth\": 3}, \"path\": {\"stroke\": \"#82c6df\"}, \"rect\": {\"fill\": \"#82c6df\"}, \"shape\": {\"stroke\": \"#82c6df\"}, \"bar\": {\"fill\": \"#82c6df\"}, \"point\": {\"stroke\": \"#82c6df\"}, \"symbol\": {\"fill\": \"#82c6df\", \"size\": 30}, \"axis\": {\"titleFont\": \"BentonGothic-Bold, sans\", \"titleFontSize\": 14, \"titleFontWeight\": \"normal\", \"labelFont\": \"BentonGothic, sans\", \"labelFontSize\": 12, \"labelFontWeight\": \"normal\"}, \"axisX\": {\"labelAngle\": 0, \"labelPadding\": 4, \"tickSize\": 3}, \"axisY\": {\"labelBaseline\": \"middle\", \"maxExtent\": 45, \"minExtent\": 45, \"tickSize\": 2, \"titleAlign\": \"left\", \"titleAngle\": 0, \"titleX\": -45, \"titleY\": -11}, \"legend\": {\"titleFont\": \"BentonGothic-Bold, sans\", \"titleFontSize\": 14, \"titleFontWeight\": \"normal\", \"symbolType\": \"square\", \"labelFont\": \"BentonGothic, sans\", \"labelFontSize\": 13}, \"range\": {\"category\": [\"#3580b1\", \"#ec8431\", \"#ab7fb4\", \"#c89d29\", \"#adc839\", \"#829eb1\"], \"diverging\": [\"#e68a4f\", \"#f4bb6a\", \"#f9e39c\", \"#dadfe2\", \"#a6b7c6\", \"#849eae\"], \"heatmap\": [\"#fbf2c7\", \"#f9e39c\", \"#f8d36e\", \"#f4bb6a\", \"#e68a4f\", \"#d15a40\", \"#ab4232\"], \"ordinal\": [\"#fbf2c7\", \"#f9e39c\", \"#f8d36e\", \"#f4bb6a\", \"#e68a4f\", \"#d15a40\", \"#ab4232\"], \"ramp\": [\"#fbf2c7\", \"#f9e39c\", \"#f8d36e\", \"#f4bb6a\", \"#e68a4f\", \"#d15a40\", \"#ab4232\"]}}, \"data\": {\"name\": \"data-79df015b4891ebd80e531471de4511ee\"}, \"mark\": {\"type\": \"bar\", \"size\": 20}, \"encoding\": {\"tooltip\": [{\"field\": \"year\", \"type\": \"quantitative\"}, {\"field\": \"acre\", \"type\": \"quantitative\"}], \"x\": {\"axis\": {\"format\": \"\"}, \"field\": \"year\", \"scale\": {\"domain\": [2012, 2021]}, \"title\": \"Year\", \"type\": \"quantitative\"}, \"y\": {\"axis\": {\"format\": \"\"}, \"field\": \"acre\", \"title\": \"Acres\", \"type\": \"quantitative\"}}, \"title\": \"Areas with more than 90% basal loss by year\", \"width\": 600, \"$schema\": \"https://vega.github.io/schema/vega-lite/v4.17.0.json\", \"datasets\": {\"data-79df015b4891ebd80e531471de4511ee\": [{\"year\": 2012, \"ind\": 7, \"ind_name\": \">=90%\", \"sqm\": 58109400.0, \"percent_of_total\": 0.2111214293188239, \"total\": 68013.575568, \"acre\": 14359.123287}, {\"year\": 2013, \"ind\": 7, \"ind_name\": \">=90%\", \"sqm\": 421979400.0, \"percent_of_total\": 0.3327915348842491, \"total\": 313328.942316, \"acre\": 104273.219637}, {\"year\": 2014, \"ind\": 7, \"ind_name\": \">=90%\", \"sqm\": 216926100.0, \"percent_of_total\": 0.4471158929648008, \"total\": 119887.31508750001, \"acre\": 53603.5239405}, {\"year\": 2015, \"ind\": 7, \"ind_name\": \">=90%\", \"sqm\": 249437700.0, \"percent_of_total\": 0.38521186075537683, \"total\": 160008.839649, \"acre\": 61637.30285850001}, {\"year\": 2016, \"ind\": 7, \"ind_name\": \">=90%\", \"sqm\": 199692000.0, \"percent_of_total\": 0.5244423014195964, \"total\": 94090.220271, \"acre\": 49344.89166}, {\"year\": 2017, \"ind\": 7, \"ind_name\": \">=90%\", \"sqm\": 95340600.0, \"percent_of_total\": 0.25333971063015664, \"total\": 92994.260175, \"acre\": 23559.138963}, {\"year\": 2018, \"ind\": 7, \"ind_name\": \">=90%\", \"sqm\": 231825600.0, \"percent_of_total\": 0.2531515691753095, \"total\": 226288.40530050002, \"acre\": 57285.264888000005}, {\"year\": 2019, \"ind\": 7, \"ind_name\": \">=90%\", \"sqm\": 127346400.0, \"percent_of_total\": 0.3888203434356202, \"total\": 80931.80488950001, \"acre\": 31467.932172}, {\"year\": 2020, \"ind\": 7, \"ind_name\": \">=90%\", \"sqm\": 1668973500.0, \"percent_of_total\": 0.45057755294437807, \"total\": 915295.69998, \"acre\": 412411.69671750005}, {\"year\": 2021, \"ind\": 7, \"ind_name\": \">=90%\", \"sqm\": 2029318200.0, \"percent_of_total\": 0.44152984705641607, \"total\": 1135720.8966825001, \"acre\": 501454.673811}]}}, {});\n",
       "</script>\n"
      ],
      "text/plain": [
       "alt.Chart(...)"
      ]
     },
     "execution_count": 17,
     "metadata": {},
     "output_type": "execute_result"
    }
   ],
   "source": [
    "ba_loss_ninety = ba_by_index[ba_by_index.ind == 7].reset_index(drop=True)\n",
    "\n",
    "alt.Chart(ba_loss_ninety, title=\"Areas with more than 90% basal loss by year\").mark_bar(size=20).encode(\n",
    "    x=alt.X(\n",
    "        \"year\",\n",
    "        title=\"Year\",\n",
    "        axis=alt.Axis(format=''),\n",
    "        scale=alt.Scale(domain=[2012, 2021])\n",
    "    ),\n",
    "    y=alt.Y(\n",
    "        'acre',\n",
    "        title='Acres',\n",
    "        axis=alt.Axis(format=\"\"),\n",
    "    ),\n",
    "    tooltip=['year', 'acre']\n",
    ").properties(width=600)"
   ]
  },
  {
   "cell_type": "markdown",
   "id": "db7d7f86",
   "metadata": {},
   "source": [
    "Wildfire land that had lost more than 90% of its basal area totaled 501,454 acres in 2021."
   ]
  },
  {
   "cell_type": "code",
   "execution_count": 23,
   "id": "53e737d0",
   "metadata": {},
   "outputs": [
    {
     "data": {
      "text/html": [
       "<div>\n",
       "<style scoped>\n",
       "    .dataframe tbody tr th:only-of-type {\n",
       "        vertical-align: middle;\n",
       "    }\n",
       "\n",
       "    .dataframe tbody tr th {\n",
       "        vertical-align: top;\n",
       "    }\n",
       "\n",
       "    .dataframe thead th {\n",
       "        text-align: right;\n",
       "    }\n",
       "</style>\n",
       "<table border=\"1\" class=\"dataframe\">\n",
       "  <thead>\n",
       "    <tr style=\"text-align: right;\">\n",
       "      <th></th>\n",
       "      <th>year</th>\n",
       "      <th>ind</th>\n",
       "      <th>ind_name</th>\n",
       "      <th>sqm</th>\n",
       "      <th>percent_of_total</th>\n",
       "      <th>total</th>\n",
       "      <th>acre</th>\n",
       "    </tr>\n",
       "  </thead>\n",
       "  <tbody>\n",
       "    <tr>\n",
       "      <th>0</th>\n",
       "      <td>2012</td>\n",
       "      <td>7</td>\n",
       "      <td>&gt;=90%</td>\n",
       "      <td>5.810940e+07</td>\n",
       "      <td>0.211121</td>\n",
       "      <td>6.801358e+04</td>\n",
       "      <td>14359.123287</td>\n",
       "    </tr>\n",
       "    <tr>\n",
       "      <th>1</th>\n",
       "      <td>2013</td>\n",
       "      <td>7</td>\n",
       "      <td>&gt;=90%</td>\n",
       "      <td>4.219794e+08</td>\n",
       "      <td>0.332792</td>\n",
       "      <td>3.133289e+05</td>\n",
       "      <td>104273.219637</td>\n",
       "    </tr>\n",
       "    <tr>\n",
       "      <th>2</th>\n",
       "      <td>2014</td>\n",
       "      <td>7</td>\n",
       "      <td>&gt;=90%</td>\n",
       "      <td>2.169261e+08</td>\n",
       "      <td>0.447116</td>\n",
       "      <td>1.198873e+05</td>\n",
       "      <td>53603.523941</td>\n",
       "    </tr>\n",
       "    <tr>\n",
       "      <th>3</th>\n",
       "      <td>2015</td>\n",
       "      <td>7</td>\n",
       "      <td>&gt;=90%</td>\n",
       "      <td>2.494377e+08</td>\n",
       "      <td>0.385212</td>\n",
       "      <td>1.600088e+05</td>\n",
       "      <td>61637.302859</td>\n",
       "    </tr>\n",
       "    <tr>\n",
       "      <th>4</th>\n",
       "      <td>2016</td>\n",
       "      <td>7</td>\n",
       "      <td>&gt;=90%</td>\n",
       "      <td>1.996920e+08</td>\n",
       "      <td>0.524442</td>\n",
       "      <td>9.409022e+04</td>\n",
       "      <td>49344.891660</td>\n",
       "    </tr>\n",
       "    <tr>\n",
       "      <th>5</th>\n",
       "      <td>2017</td>\n",
       "      <td>7</td>\n",
       "      <td>&gt;=90%</td>\n",
       "      <td>9.534060e+07</td>\n",
       "      <td>0.253340</td>\n",
       "      <td>9.299426e+04</td>\n",
       "      <td>23559.138963</td>\n",
       "    </tr>\n",
       "    <tr>\n",
       "      <th>6</th>\n",
       "      <td>2018</td>\n",
       "      <td>7</td>\n",
       "      <td>&gt;=90%</td>\n",
       "      <td>2.318256e+08</td>\n",
       "      <td>0.253152</td>\n",
       "      <td>2.262884e+05</td>\n",
       "      <td>57285.264888</td>\n",
       "    </tr>\n",
       "    <tr>\n",
       "      <th>7</th>\n",
       "      <td>2019</td>\n",
       "      <td>7</td>\n",
       "      <td>&gt;=90%</td>\n",
       "      <td>1.273464e+08</td>\n",
       "      <td>0.388820</td>\n",
       "      <td>8.093180e+04</td>\n",
       "      <td>31467.932172</td>\n",
       "    </tr>\n",
       "    <tr>\n",
       "      <th>8</th>\n",
       "      <td>2020</td>\n",
       "      <td>7</td>\n",
       "      <td>&gt;=90%</td>\n",
       "      <td>1.668974e+09</td>\n",
       "      <td>0.450578</td>\n",
       "      <td>9.152957e+05</td>\n",
       "      <td>412411.696718</td>\n",
       "    </tr>\n",
       "    <tr>\n",
       "      <th>9</th>\n",
       "      <td>2021</td>\n",
       "      <td>7</td>\n",
       "      <td>&gt;=90%</td>\n",
       "      <td>2.029318e+09</td>\n",
       "      <td>0.441530</td>\n",
       "      <td>1.135721e+06</td>\n",
       "      <td>501454.673811</td>\n",
       "    </tr>\n",
       "  </tbody>\n",
       "</table>\n",
       "</div>"
      ],
      "text/plain": [
       "   year  ind ind_name           sqm  percent_of_total         total  \\\n",
       "0  2012    7    >=90%  5.810940e+07          0.211121  6.801358e+04   \n",
       "1  2013    7    >=90%  4.219794e+08          0.332792  3.133289e+05   \n",
       "2  2014    7    >=90%  2.169261e+08          0.447116  1.198873e+05   \n",
       "3  2015    7    >=90%  2.494377e+08          0.385212  1.600088e+05   \n",
       "4  2016    7    >=90%  1.996920e+08          0.524442  9.409022e+04   \n",
       "5  2017    7    >=90%  9.534060e+07          0.253340  9.299426e+04   \n",
       "6  2018    7    >=90%  2.318256e+08          0.253152  2.262884e+05   \n",
       "7  2019    7    >=90%  1.273464e+08          0.388820  8.093180e+04   \n",
       "8  2020    7    >=90%  1.668974e+09          0.450578  9.152957e+05   \n",
       "9  2021    7    >=90%  2.029318e+09          0.441530  1.135721e+06   \n",
       "\n",
       "            acre  \n",
       "0   14359.123287  \n",
       "1  104273.219637  \n",
       "2   53603.523941  \n",
       "3   61637.302859  \n",
       "4   49344.891660  \n",
       "5   23559.138963  \n",
       "6   57285.264888  \n",
       "7   31467.932172  \n",
       "8  412411.696718  \n",
       "9  501454.673811  "
      ]
     },
     "execution_count": 23,
     "metadata": {},
     "output_type": "execute_result"
    }
   ],
   "source": [
    "ba_loss_ninety"
   ]
  },
  {
   "cell_type": "markdown",
   "id": "35f4e815",
   "metadata": {},
   "source": [
    "# Canopy coverage loss"
   ]
  },
  {
   "cell_type": "code",
   "execution_count": 19,
   "id": "187d4b4f",
   "metadata": {},
   "outputs": [
    {
     "name": "stderr",
     "output_type": "stream",
     "text": [
      "/var/folders/zv/3yvy_fbd0mz2lvqqtd13wypc0000gp/T/ipykernel_38874/1028497440.py:12: SettingWithCopyWarning: \n",
      "A value is trying to be set on a copy of a slice from a DataFrame\n",
      "\n",
      "See the caveats in the documentation: https://pandas.pydata.org/pandas-docs/stable/user_guide/indexing.html#returning-a-view-versus-a-copy\n",
      "  df['percent_of_total'].iloc[k] = df.acre[k] / grouped.acre[i]\n",
      "/var/folders/zv/3yvy_fbd0mz2lvqqtd13wypc0000gp/T/ipykernel_38874/1028497440.py:13: SettingWithCopyWarning: \n",
      "A value is trying to be set on a copy of a slice from a DataFrame\n",
      "\n",
      "See the caveats in the documentation: https://pandas.pydata.org/pandas-docs/stable/user_guide/indexing.html#returning-a-view-versus-a-copy\n",
      "  df['total'].iloc[k] = grouped.acre[i]\n"
     ]
    }
   ],
   "source": [
    "cc_by_year, cc_by_index = analyze_index('output/sum_of_sierra_area_by_cc_index.csv')"
   ]
  },
  {
   "cell_type": "code",
   "execution_count": 20,
   "id": "b53d711a",
   "metadata": {},
   "outputs": [
    {
     "data": {
      "text/html": [
       "\n",
       "<div id=\"altair-chart-9cab743c7af64d52aa421ba8fb5cf854\"></div>\n",
       "<script type=\"text/javascript\">\n",
       "  (function(spec, embedOpt) {\n",
       "    const outputDiv = document.getElementById(\"altair-chart-9cab743c7af64d52aa421ba8fb5cf854\");\n",
       "    const urls = {\n",
       "      \"vega\": \"http://localhost:55499/scripts/vega.js\",\n",
       "      \"vega-lite\": \"http://localhost:55499/scripts/vega-lite.js\",\n",
       "      \"vega-embed\": \"http://localhost:55499/scripts/vega-embed.js\",\n",
       "    };\n",
       "    function loadScript(lib) {\n",
       "      return new Promise(function(resolve, reject) {\n",
       "        var s = document.createElement('script');\n",
       "        s.src = urls[lib];\n",
       "        s.async = true;\n",
       "        s.onload = () => resolve(urls[lib]);\n",
       "        s.onerror = () => reject(`Error loading script: ${urls[lib]}`);\n",
       "        document.getElementsByTagName(\"head\")[0].appendChild(s);\n",
       "      });\n",
       "    }\n",
       "    function showError(err) {\n",
       "      outputDiv.innerHTML = `<div class=\"error\" style=\"color:red;\">${err}</div>`;\n",
       "      throw err;\n",
       "    }\n",
       "    function displayChart(vegaEmbed) {\n",
       "      vegaEmbed(outputDiv, spec, embedOpt)\n",
       "        .catch(err => showError(`Javascript Error: ${err.message}<br>This usually means there's a typo in your chart specification. See the javascript console for the full traceback.`));\n",
       "    }\n",
       "\n",
       "    if(typeof define === \"function\" && define.amd) {\n",
       "        // requirejs paths need '.js' extension stripped.\n",
       "        const paths = Object.keys(urls).reduce(function(paths, package) {\n",
       "            paths[package] = urls[package].replace(/\\.js$/, \"\");\n",
       "            return paths\n",
       "        }, {})\n",
       "        requirejs.config({paths});\n",
       "        require([\"vega-embed\"], displayChart, err => showError(`Error loading script: ${err.message}`));\n",
       "    } else if (typeof vegaEmbed === \"function\") {\n",
       "        displayChart(vegaEmbed);\n",
       "    } else {\n",
       "        loadScript(\"vega\")\n",
       "            .then(() => loadScript(\"vega-lite\"))\n",
       "            .then(() => loadScript(\"vega-embed\"))\n",
       "            .catch(showError)\n",
       "            .then(() => displayChart(vegaEmbed));\n",
       "    }\n",
       "  })({\"config\": {\"view\": {\"width\": 800, \"height\": 450}, \"background\": \"#ffffff\", \"title\": {\"anchor\": \"start\", \"font\": \"BentonGothic-Bold, sans\", \"fontColor\": \"#000000\", \"fontSize\": 22, \"fontWeight\": \"normal\"}, \"arc\": {\"fill\": \"#82c6df\"}, \"area\": {\"fill\": \"#82c6df\"}, \"line\": {\"stroke\": \"#82c6df\", \"strokeWidth\": 3}, \"path\": {\"stroke\": \"#82c6df\"}, \"rect\": {\"fill\": \"#82c6df\"}, \"shape\": {\"stroke\": \"#82c6df\"}, \"bar\": {\"fill\": \"#82c6df\"}, \"point\": {\"stroke\": \"#82c6df\"}, \"symbol\": {\"fill\": \"#82c6df\", \"size\": 30}, \"axis\": {\"titleFont\": \"BentonGothic-Bold, sans\", \"titleFontSize\": 14, \"titleFontWeight\": \"normal\", \"labelFont\": \"BentonGothic, sans\", \"labelFontSize\": 12, \"labelFontWeight\": \"normal\"}, \"axisX\": {\"labelAngle\": 0, \"labelPadding\": 4, \"tickSize\": 3}, \"axisY\": {\"labelBaseline\": \"middle\", \"maxExtent\": 45, \"minExtent\": 45, \"tickSize\": 2, \"titleAlign\": \"left\", \"titleAngle\": 0, \"titleX\": -45, \"titleY\": -11}, \"legend\": {\"titleFont\": \"BentonGothic-Bold, sans\", \"titleFontSize\": 14, \"titleFontWeight\": \"normal\", \"symbolType\": \"square\", \"labelFont\": \"BentonGothic, sans\", \"labelFontSize\": 13}, \"range\": {\"category\": [\"#3580b1\", \"#ec8431\", \"#ab7fb4\", \"#c89d29\", \"#adc839\", \"#829eb1\"], \"diverging\": [\"#e68a4f\", \"#f4bb6a\", \"#f9e39c\", \"#dadfe2\", \"#a6b7c6\", \"#849eae\"], \"heatmap\": [\"#fbf2c7\", \"#f9e39c\", \"#f8d36e\", \"#f4bb6a\", \"#e68a4f\", \"#d15a40\", \"#ab4232\"], \"ordinal\": [\"#fbf2c7\", \"#f9e39c\", \"#f8d36e\", \"#f4bb6a\", \"#e68a4f\", \"#d15a40\", \"#ab4232\"], \"ramp\": [\"#fbf2c7\", \"#f9e39c\", \"#f8d36e\", \"#f4bb6a\", \"#e68a4f\", \"#d15a40\", \"#ab4232\"]}}, \"data\": {\"name\": \"data-d3ad4b93cf7d7d8ebcf477f848273f49\"}, \"mark\": {\"type\": \"bar\", \"size\": 20}, \"encoding\": {\"tooltip\": [{\"field\": \"year\", \"type\": \"quantitative\"}, {\"field\": \"acre\", \"type\": \"quantitative\"}], \"x\": {\"axis\": {\"format\": \"\"}, \"field\": \"year\", \"scale\": {\"domain\": [2012, 2021]}, \"title\": \"Year\", \"type\": \"quantitative\"}, \"y\": {\"axis\": {\"format\": \"\"}, \"field\": \"acre\", \"title\": \"Acres\", \"type\": \"quantitative\"}}, \"title\": \"Areas with more than 75% canopy coverage loss by year\", \"width\": 600, \"$schema\": \"https://vega.github.io/schema/vega-lite/v4.17.0.json\", \"datasets\": {\"data-d3ad4b93cf7d7d8ebcf477f848273f49\": [{\"year\": 2012, \"ind\": 5, \"ind_name\": \">=75%\", \"sqm\": 69695100.0, \"percent_of_total\": 0.25321426702940253, \"total\": 68013.575568, \"acre\": 17222.0076855}, {\"year\": 2013, \"ind\": 5, \"ind_name\": \">=75%\", \"sqm\": 482051700.0, \"percent_of_total\": 0.38016719568908247, \"total\": 313328.942316, \"acre\": 119117.38532850001}, {\"year\": 2014, \"ind\": 5, \"ind_name\": \">=75%\", \"sqm\": 235917000.0, \"percent_of_total\": 0.4862588693595511, \"total\": 119887.31508750001, \"acre\": 58296.270285000006}, {\"year\": 2015, \"ind\": 5, \"ind_name\": \">=75%\", \"sqm\": 286563600.0, \"percent_of_total\": 0.4425461651577107, \"total\": 160008.839649, \"acre\": 70811.298378}, {\"year\": 2016, \"ind\": 5, \"ind_name\": \">=75%\", \"sqm\": 220093200.0, \"percent_of_total\": 0.5780210741281749, \"total\": 94090.220271, \"acre\": 54386.130186}, {\"year\": 2017, \"ind\": 5, \"ind_name\": \">=75%\", \"sqm\": 110234700.0, \"percent_of_total\": 0.2929164175535095, \"total\": 92994.260175, \"acre\": 27239.5455435}, {\"year\": 2018, \"ind\": 5, \"ind_name\": \">=75%\", \"sqm\": 274882500.0, \"percent_of_total\": 0.30016933511153215, \"total\": 226288.40530050002, \"acre\": 67924.8401625}, {\"year\": 2019, \"ind\": 5, \"ind_name\": \">=75%\", \"sqm\": 143145900.0, \"percent_of_total\": 0.4370601603139229, \"total\": 80931.80488950001, \"acre\": 35372.067619500005}, {\"year\": 2020, \"ind\": 5, \"ind_name\": \">=75%\", \"sqm\": 1842813000.0, \"percent_of_total\": 0.49750950034502534, \"total\": 915295.69998, \"acre\": 455368.306365}, {\"year\": 2021, \"ind\": 5, \"ind_name\": \">=75%\", \"sqm\": 2282471100.0, \"percent_of_total\": 0.49660970649831543, \"total\": 1135720.8966825001, \"acre\": 564010.0211655}]}}, {});\n",
       "</script>\n"
      ],
      "text/plain": [
       "alt.Chart(...)"
      ]
     },
     "execution_count": 20,
     "metadata": {},
     "output_type": "execute_result"
    }
   ],
   "source": [
    "cc_loss_svnfv = cc_by_index[cc_by_index.ind == 5].reset_index(drop=True)\n",
    "\n",
    "alt.Chart(cc_loss_svnfv, title=\"Areas with more than 75% canopy coverage loss by year\").mark_bar(size=20).encode(\n",
    "    x=alt.X(\n",
    "        \"year\",\n",
    "        title=\"Year\",\n",
    "        axis=alt.Axis(format=''),\n",
    "        scale=alt.Scale(domain=[2012, 2021])\n",
    "    ),\n",
    "    y=alt.Y(\n",
    "        'acre',\n",
    "        title='Acres',\n",
    "        axis=alt.Axis(format=\"\"),\n",
    "    ),\n",
    "    tooltip=['year', 'acre']\n",
    ").properties(width=600)"
   ]
  },
  {
   "cell_type": "markdown",
   "id": "d7c2826e",
   "metadata": {},
   "source": [
    "564,010 acres of wildfire land lost more than 75% of its canopy coverage in 2021."
   ]
  },
  {
   "cell_type": "code",
   "execution_count": 22,
   "id": "83699ad0",
   "metadata": {},
   "outputs": [
    {
     "data": {
      "text/html": [
       "<div>\n",
       "<style scoped>\n",
       "    .dataframe tbody tr th:only-of-type {\n",
       "        vertical-align: middle;\n",
       "    }\n",
       "\n",
       "    .dataframe tbody tr th {\n",
       "        vertical-align: top;\n",
       "    }\n",
       "\n",
       "    .dataframe thead th {\n",
       "        text-align: right;\n",
       "    }\n",
       "</style>\n",
       "<table border=\"1\" class=\"dataframe\">\n",
       "  <thead>\n",
       "    <tr style=\"text-align: right;\">\n",
       "      <th></th>\n",
       "      <th>year</th>\n",
       "      <th>ind</th>\n",
       "      <th>ind_name</th>\n",
       "      <th>sqm</th>\n",
       "      <th>percent_of_total</th>\n",
       "      <th>total</th>\n",
       "      <th>acre</th>\n",
       "    </tr>\n",
       "  </thead>\n",
       "  <tbody>\n",
       "    <tr>\n",
       "      <th>0</th>\n",
       "      <td>2012</td>\n",
       "      <td>5</td>\n",
       "      <td>&gt;=75%</td>\n",
       "      <td>6.969510e+07</td>\n",
       "      <td>0.253214</td>\n",
       "      <td>6.801358e+04</td>\n",
       "      <td>17222.007686</td>\n",
       "    </tr>\n",
       "    <tr>\n",
       "      <th>1</th>\n",
       "      <td>2013</td>\n",
       "      <td>5</td>\n",
       "      <td>&gt;=75%</td>\n",
       "      <td>4.820517e+08</td>\n",
       "      <td>0.380167</td>\n",
       "      <td>3.133289e+05</td>\n",
       "      <td>119117.385329</td>\n",
       "    </tr>\n",
       "    <tr>\n",
       "      <th>2</th>\n",
       "      <td>2014</td>\n",
       "      <td>5</td>\n",
       "      <td>&gt;=75%</td>\n",
       "      <td>2.359170e+08</td>\n",
       "      <td>0.486259</td>\n",
       "      <td>1.198873e+05</td>\n",
       "      <td>58296.270285</td>\n",
       "    </tr>\n",
       "    <tr>\n",
       "      <th>3</th>\n",
       "      <td>2015</td>\n",
       "      <td>5</td>\n",
       "      <td>&gt;=75%</td>\n",
       "      <td>2.865636e+08</td>\n",
       "      <td>0.442546</td>\n",
       "      <td>1.600088e+05</td>\n",
       "      <td>70811.298378</td>\n",
       "    </tr>\n",
       "    <tr>\n",
       "      <th>4</th>\n",
       "      <td>2016</td>\n",
       "      <td>5</td>\n",
       "      <td>&gt;=75%</td>\n",
       "      <td>2.200932e+08</td>\n",
       "      <td>0.578021</td>\n",
       "      <td>9.409022e+04</td>\n",
       "      <td>54386.130186</td>\n",
       "    </tr>\n",
       "    <tr>\n",
       "      <th>5</th>\n",
       "      <td>2017</td>\n",
       "      <td>5</td>\n",
       "      <td>&gt;=75%</td>\n",
       "      <td>1.102347e+08</td>\n",
       "      <td>0.292916</td>\n",
       "      <td>9.299426e+04</td>\n",
       "      <td>27239.545544</td>\n",
       "    </tr>\n",
       "    <tr>\n",
       "      <th>6</th>\n",
       "      <td>2018</td>\n",
       "      <td>5</td>\n",
       "      <td>&gt;=75%</td>\n",
       "      <td>2.748825e+08</td>\n",
       "      <td>0.300169</td>\n",
       "      <td>2.262884e+05</td>\n",
       "      <td>67924.840162</td>\n",
       "    </tr>\n",
       "    <tr>\n",
       "      <th>7</th>\n",
       "      <td>2019</td>\n",
       "      <td>5</td>\n",
       "      <td>&gt;=75%</td>\n",
       "      <td>1.431459e+08</td>\n",
       "      <td>0.437060</td>\n",
       "      <td>8.093180e+04</td>\n",
       "      <td>35372.067620</td>\n",
       "    </tr>\n",
       "    <tr>\n",
       "      <th>8</th>\n",
       "      <td>2020</td>\n",
       "      <td>5</td>\n",
       "      <td>&gt;=75%</td>\n",
       "      <td>1.842813e+09</td>\n",
       "      <td>0.497510</td>\n",
       "      <td>9.152957e+05</td>\n",
       "      <td>455368.306365</td>\n",
       "    </tr>\n",
       "    <tr>\n",
       "      <th>9</th>\n",
       "      <td>2021</td>\n",
       "      <td>5</td>\n",
       "      <td>&gt;=75%</td>\n",
       "      <td>2.282471e+09</td>\n",
       "      <td>0.496610</td>\n",
       "      <td>1.135721e+06</td>\n",
       "      <td>564010.021166</td>\n",
       "    </tr>\n",
       "  </tbody>\n",
       "</table>\n",
       "</div>"
      ],
      "text/plain": [
       "   year  ind ind_name           sqm  percent_of_total         total  \\\n",
       "0  2012    5    >=75%  6.969510e+07          0.253214  6.801358e+04   \n",
       "1  2013    5    >=75%  4.820517e+08          0.380167  3.133289e+05   \n",
       "2  2014    5    >=75%  2.359170e+08          0.486259  1.198873e+05   \n",
       "3  2015    5    >=75%  2.865636e+08          0.442546  1.600088e+05   \n",
       "4  2016    5    >=75%  2.200932e+08          0.578021  9.409022e+04   \n",
       "5  2017    5    >=75%  1.102347e+08          0.292916  9.299426e+04   \n",
       "6  2018    5    >=75%  2.748825e+08          0.300169  2.262884e+05   \n",
       "7  2019    5    >=75%  1.431459e+08          0.437060  8.093180e+04   \n",
       "8  2020    5    >=75%  1.842813e+09          0.497510  9.152957e+05   \n",
       "9  2021    5    >=75%  2.282471e+09          0.496610  1.135721e+06   \n",
       "\n",
       "            acre  \n",
       "0   17222.007686  \n",
       "1  119117.385329  \n",
       "2   58296.270285  \n",
       "3   70811.298378  \n",
       "4   54386.130186  \n",
       "5   27239.545544  \n",
       "6   67924.840162  \n",
       "7   35372.067620  \n",
       "8  455368.306365  \n",
       "9  564010.021166  "
      ]
     },
     "execution_count": 22,
     "metadata": {},
     "output_type": "execute_result"
    }
   ],
   "source": [
    "cc_loss_svnfv"
   ]
  },
  {
   "cell_type": "code",
   "execution_count": null,
   "id": "3cbeb4c6",
   "metadata": {},
   "outputs": [],
   "source": []
  },
  {
   "cell_type": "code",
   "execution_count": null,
   "id": "9546fdfd",
   "metadata": {},
   "outputs": [],
   "source": []
  },
  {
   "cell_type": "code",
   "execution_count": null,
   "id": "1a64244f",
   "metadata": {},
   "outputs": [],
   "source": []
  },
  {
   "cell_type": "code",
   "execution_count": null,
   "id": "32bfd71f",
   "metadata": {},
   "outputs": [],
   "source": []
  },
  {
   "cell_type": "code",
   "execution_count": null,
   "id": "79a3a518",
   "metadata": {},
   "outputs": [],
   "source": []
  },
  {
   "cell_type": "code",
   "execution_count": null,
   "id": "3a57ee24",
   "metadata": {},
   "outputs": [],
   "source": []
  }
 ],
 "metadata": {
  "kernelspec": {
   "display_name": "Python 3 (ipykernel)",
   "language": "python",
   "name": "python3"
  },
  "language_info": {
   "codemirror_mode": {
    "name": "ipython",
    "version": 3
   },
   "file_extension": ".py",
   "mimetype": "text/x-python",
   "name": "python",
   "nbconvert_exporter": "python",
   "pygments_lexer": "ipython3",
   "version": "3.8.12"
  }
 },
 "nbformat": 4,
 "nbformat_minor": 5
}
