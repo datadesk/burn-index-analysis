{
 "cells": [
  {
   "cell_type": "markdown",
   "id": "e01ffc04",
   "metadata": {},
   "source": [
    "This analysis looks at burn severity of wildfires in the Sierra Nevada region from 2012 to 2021. \n",
    "\n",
    " \n",
    "- Not all wildfires were documented in the CBI-4 data sets\n",
    "- The size here is calculated by numberOfCell * x-resolution * y-resolution. >> sq. meters\n",
    "- The index is used to classify burn severity as unchanged, low, moderate or high severity. >> impacts not intensity\n",
    "    - Unchanged: Areas indistinguishable from pre-fire conditions. This does not necessarily indicate that the area was unburned. \n",
    "    - Low: Areas of surface fire with little change in cover and little mortality of the structurally dominant vegetation. \n",
    "    - Moderate: Areas between low and high severity, with a mixture of effects on the structurally dominant vegetation. \n",
    "    - High: Areas where the dominant vegetation has high to complete mortality. \n",
    "\n",
    "refs: calculating tif class area size\n",
    "- https://gis.stackexchange.com/questions/199113/how-to-calculate-raster-area-or-number-of-cells-for-multiple-classes-in-a-raster?noredirect=1&lq=1\n",
    "- https://gis.stackexchange.com/questions/277126/what-are-the-methods-for-calculating-area-from-a-raster-in-qgis"
   ]
  },
  {
   "cell_type": "markdown",
   "id": "9db16b12",
   "metadata": {},
   "source": [
    "Questions\n",
    "- How much has the area burned at the highest severity increased since 2012? \n",
    "- Has % of area burned at the highest severity also increased? \n",
    "- New areas burned at highest severity?\n",
    "- Impacts of the increasing areas with high burn index? >> satellite imgs?\n",
    "    - tree canopy?\n",
    "    - animal habitats? \n",
    "    - property loss? \n",
    "    - ..."
   ]
  },
  {
   "cell_type": "code",
   "execution_count": 27,
   "id": "eee8f69b",
   "metadata": {},
   "outputs": [],
   "source": [
    "import pandas as pd\n",
    "import matplotlib.pyplot as plt\n",
    "from osgeo import gdal\n",
    "import rasterio"
   ]
  },
  {
   "cell_type": "code",
   "execution_count": 10,
   "id": "37fce758",
   "metadata": {},
   "outputs": [],
   "source": [
    "df = pd.read_csv('output/sum_of_fire_size_by_burn_index.csv', index_col=0)\n",
    "df = df.rename(columns={'size': 'sqm'})\n",
    "df['percent_of_total_burn'] = 0"
   ]
  },
  {
   "cell_type": "code",
   "execution_count": 11,
   "id": "48a5b4bf",
   "metadata": {},
   "outputs": [],
   "source": [
    "grouped_by_year = df.groupby('year').sqm.sum().reset_index()"
   ]
  },
  {
   "cell_type": "code",
   "execution_count": 12,
   "id": "07b5a96b",
   "metadata": {},
   "outputs": [
    {
     "name": "stderr",
     "output_type": "stream",
     "text": [
      "/var/folders/zv/3yvy_fbd0mz2lvqqtd13wypc0000gp/T/ipykernel_67052/3305675155.py:4: SettingWithCopyWarning: \n",
      "A value is trying to be set on a copy of a slice from a DataFrame\n",
      "\n",
      "See the caveats in the documentation: https://pandas.pydata.org/pandas-docs/stable/user_guide/indexing.html#returning-a-view-versus-a-copy\n",
      "  df['percent_of_total_burn'][k] = df.sqm[k] / grouped_by_year.sqm[i]\n"
     ]
    }
   ],
   "source": [
    "for i in range(len(grouped_by_year)):\n",
    "    for k in range(len(df)):\n",
    "        if grouped_by_year.year[i] == df.year[k]:\n",
    "            df['percent_of_total_burn'][k] = df.sqm[k] / grouped_by_year.sqm[i]"
   ]
  },
  {
   "cell_type": "code",
   "execution_count": 13,
   "id": "ce2fbe5e",
   "metadata": {},
   "outputs": [
    {
     "data": {
      "text/plain": [
       "Text(0.5, 1.0, 'total area burned by year')"
      ]
     },
     "execution_count": 13,
     "metadata": {},
     "output_type": "execute_result"
    },
    {
     "data": {
      "image/png": "[encoded data removed]",
      "text/plain": [
       "<Figure size 432x288 with 1 Axes>"
      ]
     },
     "metadata": {
      "needs_background": "light"
     },
     "output_type": "display_data"
    }
   ],
   "source": [
    "plt.bar(grouped_by_year.year, grouped_by_year.sqm)\n",
    "plt.title('total area burned by year')"
   ]
  },
  {
   "cell_type": "code",
   "execution_count": 14,
   "id": "76d7772c",
   "metadata": {},
   "outputs": [],
   "source": [
    "total_burn_after20 = grouped_by_year.iloc[8:].sqm.sum()\n",
    "total_burn_before20 = grouped_by_year.iloc[:8].sqm.sum()"
   ]
  },
  {
   "cell_type": "code",
   "execution_count": 15,
   "id": "e21fe4cb",
   "metadata": {},
   "outputs": [
    {
     "data": {
      "text/plain": [
       "1.6020812986433912"
      ]
     },
     "execution_count": 15,
     "metadata": {},
     "output_type": "execute_result"
    }
   ],
   "source": [
    "total_burn_after20 / total_burn_before20"
   ]
  },
  {
   "cell_type": "markdown",
   "id": "0b4eafb5",
   "metadata": {},
   "source": [
    "- Total area burned after 2020 was 1.6 times of the total area burned from 2012 to 2019.\n",
    "- Total area burned in 2021 was 10.6 times of 2012's burned area."
   ]
  },
  {
   "cell_type": "code",
   "execution_count": 16,
   "id": "8e8c1c94",
   "metadata": {},
   "outputs": [
    {
     "data": {
      "text/plain": [
       "Text(0.5, 1.0, 'total area burned at the highest severity by year')"
      ]
     },
     "execution_count": 16,
     "metadata": {},
     "output_type": "execute_result"
    },
    {
     "data": {
      "image/png": "[encoded data removed]",
      "text/plain": [
       "<Figure size 432x288 with 1 Axes>"
      ]
     },
     "metadata": {
      "needs_background": "light"
     },
     "output_type": "display_data"
    }
   ],
   "source": [
    "high_severity = df[df.severity_index == 4].reset_index(drop=True)\n",
    "plt.bar(high_severity.year, high_severity.sqm)\n",
    "plt.title('total area burned at the highest severity by year')"
   ]
  },
  {
   "cell_type": "code",
   "execution_count": 17,
   "id": "6c2a7b10",
   "metadata": {},
   "outputs": [],
   "source": [
    "hsevere_after20 = high_severity.iloc[8:].sqm.sum()\n",
    "hsevere_before20 = high_severity.iloc[:8].sqm.sum()"
   ]
  },
  {
   "cell_type": "code",
   "execution_count": 18,
   "id": "1a049fbd",
   "metadata": {},
   "outputs": [
    {
     "data": {
      "text/plain": [
       "2.202554695513226"
      ]
     },
     "execution_count": 18,
     "metadata": {},
     "output_type": "execute_result"
    }
   ],
   "source": [
    "hsevere_after20 / hsevere_before20"
   ]
  },
  {
   "cell_type": "markdown",
   "id": "0a6bb4fd",
   "metadata": {},
   "source": [
    "- Total area burned at the highest severity after 2020 was 2.2 times of that from 2012 to 2019.\n",
    "- Total area burned at the highest severity in 2021 was 22 times of the value of 2012."
   ]
  },
  {
   "cell_type": "code",
   "execution_count": 19,
   "id": "11bdcb8b",
   "metadata": {},
   "outputs": [
    {
     "data": {
      "text/plain": [
       "Text(0.5, 1.0, 'percentage of total area burned at the highest severity by year')"
      ]
     },
     "execution_count": 19,
     "metadata": {},
     "output_type": "execute_result"
    },
    {
     "data": {
      "image/png": "[encoded data removed]",
      "text/plain": [
       "<Figure size 432x288 with 1 Axes>"
      ]
     },
     "metadata": {
      "needs_background": "light"
     },
     "output_type": "display_data"
    }
   ],
   "source": [
    "plt.bar(high_severity.year, high_severity['percent_of_total_burn'])\n",
    "plt.title('percentage of total area burned at the highest severity by year')"
   ]
  },
  {
   "cell_type": "markdown",
   "id": "be94aa13",
   "metadata": {},
   "source": [
    "The % of fire burned at the highest severity in Sierra Nevada peaked in 2016."
   ]
  },
  {
   "cell_type": "code",
   "execution_count": 28,
   "id": "099a8ccc",
   "metadata": {},
   "outputs": [],
   "source": [
    "def read_geotiff(file):\n",
    "    df = rasterio.open(file)\n",
    "    return df"
   ]
  },
  {
   "cell_type": "code",
   "execution_count": 29,
   "id": "7b7bac43",
   "metadata": {},
   "outputs": [],
   "source": [
    "tif_ls = []\n",
    "\n",
    "for i in range(10):\n",
    "    year = 2012+i\n",
    "    tif = read_geotiff('output/tif_file_by_index/'+str(year)+'_sierra_clipped_high.tif')\n",
    "    tif_ls.append({'year': year, 'img':tif})\n"
   ]
  },
  {
   "cell_type": "code",
   "execution_count": 30,
   "id": "3ba86434",
   "metadata": {},
   "outputs": [
    {
     "name": "stdout",
     "output_type": "stream",
     "text": [
      "10\n"
     ]
    }
   ],
   "source": [
    "print(len(tif_ls))"
   ]
  },
  {
   "cell_type": "code",
   "execution_count": 32,
   "id": "60fae7aa",
   "metadata": {},
   "outputs": [],
   "source": [
    "# def show(imgs):\n",
    "#     '''Show in Jupyter notebook one or sequence of PIL images in a row.'''\n",
    "#     figsize = [15,10]\n",
    "#     row = 2\n",
    "#     col = int(len(imgs)/row)\n",
    "#     fig, ax = plt.subplots(row, col,figsize=figsize)\n",
    "#     if len(imgs)==1:\n",
    "#         ax=[ax]\n",
    "    \n",
    "#     for num,el in enumerate(imgs):\n",
    "#         if (num < col):\n",
    "#             nrol = 0\n",
    "#         else:\n",
    "#             nrol = 1\n",
    "#         ax[nrol,int(num%col)].set_title(el['year'])\n",
    "#         ax[nrol,int(num%col)].imshow(el['img'])\n",
    "#         ax[nrol,int(num%col)].axis('off')\n",
    "    \n",
    "# show(tif_ls)"
   ]
  },
  {
   "cell_type": "code",
   "execution_count": null,
   "id": "235d19ed",
   "metadata": {},
   "outputs": [],
   "source": []
  }
 ],
 "metadata": {
  "kernelspec": {
   "display_name": "Python 3 (ipykernel)",
   "language": "python",
   "name": "python3"
  },
  "language_info": {
   "codemirror_mode": {
    "name": "ipython",
    "version": 3
   },
   "file_extension": ".py",
   "mimetype": "text/x-python",
   "name": "python",
   "nbconvert_exporter": "python",
   "pygments_lexer": "ipython3",
   "version": "3.8.12"
  }
 },
 "nbformat": 4,
 "nbformat_minor": 5
}
