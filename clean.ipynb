{
 "cells": [
  {
   "cell_type": "code",
   "execution_count": 1,
   "id": "d9d0237f",
   "metadata": {},
   "outputs": [],
   "source": [
    "import fiona\n",
    "import rasterio\n",
    "import rasterio.mask\n",
    "from rasterio.plot import show\n",
    "from rasterio.warp import calculate_default_transform, reproject, Resampling\n",
    "\n",
    "import geopandas as gpd\n",
    "\n",
    "from osgeo import gdal\n",
    "import numpy as np\n",
    "import matplotlib.pyplot as plt\n",
    "import pandas as pd"
   ]
  },
  {
   "cell_type": "markdown",
   "id": "043315e6",
   "metadata": {},
   "source": [
    "Burn severity data:\n",
    "- https://data.fs.usda.gov/geodata/rastergateway/ravg/index.php\n"
   ]
  },
  {
   "cell_type": "markdown",
   "id": "fef747cb",
   "metadata": {},
   "source": [
    "\n",
    "Code modified from:\n",
    "\n",
    "- https://here.isnew.info/how-to-calculate-the-area-of-a-certain-class-in-a-geotiff-file-using-numpy.html\n",
    "- https://thinkinfi.com/clip-raster-with-a-shape-file-in-python/\n"
   ]
  },
  {
   "cell_type": "code",
   "execution_count": 4,
   "id": "b1fe9983",
   "metadata": {},
   "outputs": [],
   "source": [
    "def make_projections_the_same(shapefile, rasterfile, year):\n",
    "    # Read shape file using gpd\n",
    "    shape_file = gpd.read_file(shapefile)\n",
    "\n",
    "    # Read imagery file \n",
    "    raster_file = rasterio.open(rasterfile)\n",
    "    \n",
    "    # Check coordinate reference system (CRS) of both datasets\n",
    "    print('Raster file Projection: ', raster_file.crs)\n",
    "    \n",
    "    # Transform projection of shapefile to the raster file's coordinate system\n",
    "    # Specify output projection system\n",
    "    dst_crs = 'ESRI:102039'\n",
    "    \n",
    "    shape_file = shape_file.to_crs(dst_crs)\n",
    "    shape_file.to_file('output/reprojected_shape/reprojected_sierra.shp')"
   ]
  },
  {
   "cell_type": "code",
   "execution_count": 5,
   "id": "ceab6950",
   "metadata": {},
   "outputs": [
    {
     "name": "stdout",
     "output_type": "stream",
     "text": [
      "Raster file Projection:  ESRI:102039\n"
     ]
    },
    {
     "name": "stderr",
     "output_type": "stream",
     "text": [
      "/Users/schen/.pyenv/versions/3.8.12/lib/python3.8/site-packages/geopandas/io/file.py:362: FutureWarning: pandas.Int64Index is deprecated and will be removed from pandas in a future version. Use pandas.Index with the appropriate dtype instead.\n",
      "  pd.Int64Index,\n"
     ]
    }
   ],
   "source": [
    "make_projections_the_same('input/sierra-nevada-raw.shp', 'input/cbi4/ravg_2021_cbi4.tif', 2021)"
   ]
  },
  {
   "cell_type": "code",
   "execution_count": 6,
   "id": "40bdb42c",
   "metadata": {},
   "outputs": [],
   "source": [
    "def clip_raster_with_shapefile(shapefile, rasterfile, year, region, cat):\n",
    "    # Read Shape file\n",
    "    with fiona.open(shapefile, \"r\") as shapefile:\n",
    "        shapes = [feature[\"geometry\"] for feature in shapefile]\n",
    "\n",
    "    # read raster file\n",
    "    with rasterio.open(rasterfile) as src:\n",
    "        out_image, out_transform = rasterio.mask.mask(src, shapes, crop=True)\n",
    "        out_meta = src.meta\n",
    "\n",
    "    # Save clipped raster\n",
    "    out_meta.update({\"driver\": \"GTiff\",\n",
    "                     \"height\": out_image.shape[1],\n",
    "                     \"width\": out_image.shape[2],\n",
    "                     \"transform\": out_transform})\n",
    "\n",
    "    with rasterio.open(\"output/clipped_tif/\"+str(year)+\"_\"+region+\"_\"+cat+\"_clipped.tif\", \"w\", **out_meta) as dest:\n",
    "        dest.write(out_image)"
   ]
  },
  {
   "cell_type": "code",
   "execution_count": 7,
   "id": "2ea880c7",
   "metadata": {},
   "outputs": [],
   "source": [
    "def read_clipped_tiff(file):\n",
    "    df = gdal.Open(file)\n",
    "    # Get data from raster with classifications\n",
    "    band = df.GetRasterBand(1)\n",
    "    arr = band.ReadAsArray()\n",
    "    return arr, df"
   ]
  },
  {
   "cell_type": "code",
   "execution_count": 8,
   "id": "4dc3071c",
   "metadata": {},
   "outputs": [],
   "source": [
    "def extract_one_class(df, arr, classname, sel_area_name, year):\n",
    "    sel_arr = np.where(arr == classname, 1, 0)\n",
    "    # calculate the number of cells in the selected class\n",
    "    sel_arr_ncells = np.sum(arr == classname)\n",
    "    # based on this tutorial: https://gdal.org/tutorials/geotransforms_tut.html\n",
    "    # extract the resolution of the data set\n",
    "    dx = df.GetGeoTransform()[1]\n",
    "    dy = -df.GetGeoTransform()[5]\n",
    "    # The area of a cell can be calculated by multiplying the x- and y-resolution\n",
    "    area_size = sel_arr_ncells * dx * dy\n",
    "#     print(\"Total area of the fire burnt at the \" + sel_area_name + \" in \" + str(year) + \" was\", area_size)\n",
    "    return sel_arr, area_size"
   ]
  },
  {
   "cell_type": "code",
   "execution_count": 9,
   "id": "7bd06493",
   "metadata": {},
   "outputs": [],
   "source": [
    "def write_geotiff(file, arr, input_df):\n",
    "    if arr.dtype == np.float32:\n",
    "        arr_type = gdal.GDT_Float32\n",
    "    else:\n",
    "        arr_type = gdal.GDT_Int32\n",
    "    \n",
    "    driver = gdal.GetDriverByName(\"GTiff\")\n",
    "    output_df = driver.Create(file, arr.shape[1], arr.shape[0], 1, arr_type)\n",
    "    output_df.SetProjection(input_df.GetProjection())\n",
    "    output_df.SetGeoTransform(input_df.GetGeoTransform())\n",
    "    band = output_df.GetRasterBand(1)\n",
    "    band.WriteArray(arr)\n",
    "    band.FlushCache()\n",
    "    band.ComputeStatistics(False)"
   ]
  },
  {
   "cell_type": "code",
   "execution_count": 10,
   "id": "c45cc690",
   "metadata": {},
   "outputs": [],
   "source": [
    "def create_df_to_compare_years(start_year, end_year, clipped_shapefile_path, region, cat, cat_dict):\n",
    "    final = []\n",
    "    for i in range((end_year + 1 - start_year)):\n",
    "        year = start_year+i\n",
    "        clip_raster_with_shapefile(clipped_shapefile_path, 'input/'+cat+'/ravg_'+str(year)+'_'+cat+'.tif', year, region, cat)\n",
    "        arr, df = read_clipped_tiff(\"output/clipped_tif/\"+str(year)+\"_\"+ region + \"_\" + cat +\"_clipped.tif\")\n",
    "        \n",
    "        for n in range(len(cat_dict)):\n",
    "            sel_index = n+1\n",
    "            sel_area_name = cat_dict[sel_index]\n",
    "            sel_arr, sel_area_size = extract_one_class(df, arr, sel_index, sel_area_name, year)\n",
    "            final.append({\n",
    "                'year': year,\n",
    "                'ind': sel_index,\n",
    "                'ind_name': sel_area_name,\n",
    "                'sqm': sel_area_size\n",
    "            })\n",
    "            write_geotiff(\"output/tif_file_by_index/\"+cat+\"_\"+str(year)+\"_\"+region+\"_clipped_\"+sel_area_name+\".tif\", sel_arr, df)\n",
    "            print(str(year) + \" \" + sel_area_name + ' finished!')\n",
    "    return pd.DataFrame(final)"
   ]
  },
  {
   "cell_type": "code",
   "execution_count": 11,
   "id": "fdd051a0",
   "metadata": {},
   "outputs": [],
   "source": [
    "burn_index_dict = {\n",
    "    \n",
    "    1: 'unchanged',\n",
    "    2: 'low',\n",
    "    3: 'medium',\n",
    "    4: 'high'\n",
    "    \n",
    "}"
   ]
  },
  {
   "cell_type": "code",
   "execution_count": 12,
   "id": "0a5407df",
   "metadata": {},
   "outputs": [
    {
     "name": "stdout",
     "output_type": "stream",
     "text": [
      "2012 unchanged finished!\n",
      "2012 low finished!\n",
      "2012 medium finished!\n",
      "2012 high finished!\n",
      "2013 unchanged finished!\n",
      "2013 low finished!\n",
      "2013 medium finished!\n",
      "2013 high finished!\n",
      "2014 unchanged finished!\n",
      "2014 low finished!\n",
      "2014 medium finished!\n",
      "2014 high finished!\n",
      "2015 unchanged finished!\n",
      "2015 low finished!\n",
      "2015 medium finished!\n",
      "2015 high finished!\n",
      "2016 unchanged finished!\n",
      "2016 low finished!\n",
      "2016 medium finished!\n",
      "2016 high finished!\n",
      "2017 unchanged finished!\n",
      "2017 low finished!\n",
      "2017 medium finished!\n",
      "2017 high finished!\n",
      "2018 unchanged finished!\n",
      "2018 low finished!\n",
      "2018 medium finished!\n",
      "2018 high finished!\n",
      "2019 unchanged finished!\n",
      "2019 low finished!\n",
      "2019 medium finished!\n",
      "2019 high finished!\n",
      "2020 unchanged finished!\n",
      "2020 low finished!\n",
      "2020 medium finished!\n",
      "2020 high finished!\n",
      "2021 unchanged finished!\n",
      "2021 low finished!\n",
      "2021 medium finished!\n",
      "2021 high finished!\n"
     ]
    }
   ],
   "source": [
    "df_cbi4_sierra = create_df_to_compare_years(2012, 2021, 'output/reprojected_shape/reprojected_sierra.shp', 'sierra', 'cbi4', burn_index_dict)"
   ]
  },
  {
   "cell_type": "code",
   "execution_count": 13,
   "id": "df9bcd92",
   "metadata": {},
   "outputs": [],
   "source": [
    "df_cbi4_sierra.to_csv('output/sum_of_sierra_fire_size_by_burn_index.csv')"
   ]
  },
  {
   "cell_type": "markdown",
   "id": "096b5e86",
   "metadata": {},
   "source": [
    "# Making sure the numbers are correct"
   ]
  },
  {
   "cell_type": "markdown",
   "id": "61a2e943",
   "metadata": {},
   "source": [
    "## 1. Using CalFire data (x)\n",
    "I tried comparing our analysis with Calfire's data, which documents [acres burned by year.](https://www.fire.ca.gov/stats-events/)\n",
    "\n",
    "The numbers don't match bc CBI-4 data has records for only wildland fires reported within the conterminous United States (CONUS) that include at least 1000 acres of forested National Forest System (NFS) land (500 acres for Regions 8 and 9 as of 2016)."
   ]
  },
  {
   "cell_type": "markdown",
   "id": "44efd97f",
   "metadata": {},
   "source": [
    "## 2. QGIS Grass r.report (v)\n",
    "I also tried using QGIS to do the same cleaning and analysis with the help of the GRASS plugin.\n",
    "https://grass.osgeo.org/grass78/manuals/r.report.html\n",
    "\n",
    "Clean and anlyze the geodata all in QGIS and compare the results. The steps are:\n",
    "1. Crop the tifs with Sierra Nevada's vector file\n",
    "2. Use Grass r.report to find out the areas burned by index (in sq. meter)\n",
    "\n",
    "The final results calculated by the GRASS plugin, stored in the \"qgis-grass\" folder, are the same as the results produced by my analysis. "
   ]
  },
  {
   "cell_type": "markdown",
   "id": "02a7a2d6",
   "metadata": {},
   "source": [
    "## 3. Areas burned by a single wildfire (~v)\n",
    "\n",
    "The third way to verify our analysis result is to get the size of a single wildfire using our python script and compare the number with the state [official's data.](https://hub.arcgis.com/maps/CALFIRE-Forestry::california-fire-perimeters/about) "
   ]
  },
  {
   "cell_type": "markdown",
   "id": "0cd7a93d",
   "metadata": {},
   "source": [
    "In the following sections, I calcualte acres burned by two fires - North Complex Fire and Creek Fire - in the Sierra Nevada region in 2021."
   ]
  },
  {
   "cell_type": "code",
   "execution_count": 12,
   "id": "97db94ca",
   "metadata": {},
   "outputs": [
    {
     "name": "stdout",
     "output_type": "stream",
     "text": [
      "2020 unchanged finished!\n",
      "2020 low finished!\n",
      "2020 medium finished!\n",
      "2020 high finished!\n"
     ]
    }
   ],
   "source": [
    "# calculate acres burned by the North Complex Fire in 2020\n",
    "df_cbi4_nc = create_df_to_compare_years(2020, 2020, 'output/reprojected_shape/north_complex_fire.shp', 'nc', 'cbi4', burn_index_dict)\n",
    "df_cbi4_nc.to_csv('output/sum_of_nc_fire_size_by_burn_index.csv')"
   ]
  },
  {
   "cell_type": "code",
   "execution_count": 13,
   "id": "57155982",
   "metadata": {},
   "outputs": [
    {
     "name": "stdout",
     "output_type": "stream",
     "text": [
      "2020 unchanged finished!\n",
      "2020 low finished!\n",
      "2020 medium finished!\n",
      "2020 high finished!\n"
     ]
    }
   ],
   "source": [
    "# calculate acres burned by the Creek Fire in 2020\n",
    "df_cbi4_crk = create_df_to_compare_years(2020, 2020, 'output/reprojected_shape/creek_fire.shp', 'crk', 'cbi4', burn_index_dict)\n",
    "df_cbi4_crk.to_csv('output/sum_of_crk_fire_size_by_burn_index.csv')"
   ]
  },
  {
   "cell_type": "code",
   "execution_count": 14,
   "id": "140fbe09",
   "metadata": {},
   "outputs": [],
   "source": [
    "nc =  pd.read_csv('output/sum_of_nc_fire_size_by_burn_index.csv', index_col=0)\n",
    "crk = pd.read_csv('output/sum_of_crk_fire_size_by_burn_index.csv', index_col=0)\n",
    "\n",
    "\n",
    "# sq. meter to acre\n",
    "nc['acre'] = nc.sqm.apply(lambda x: x*0.000247105)\n",
    "crk['acre'] = crk.sqm.apply(lambda x: x*0.000247105)"
   ]
  },
  {
   "cell_type": "markdown",
   "id": "52544270",
   "metadata": {},
   "source": [
    "### Numbers from U.S. Forest Service\n",
    "- North Complex fire acre burned: [318,935](https://inciweb.nwcg.gov/incident/6997/) \n",
    "- Creek fire acre burned: [379,895](https://inciweb.nwcg.gov/incident/7147)"
   ]
  },
  {
   "cell_type": "markdown",
   "id": "ecae6931",
   "metadata": {},
   "source": [
    "### Numbers calculated by our script"
   ]
  },
  {
   "cell_type": "code",
   "execution_count": 15,
   "id": "36d34daa",
   "metadata": {},
   "outputs": [
    {
     "data": {
      "text/plain": [
       "316604.14611750003"
      ]
     },
     "execution_count": 15,
     "metadata": {},
     "output_type": "execute_result"
    }
   ],
   "source": [
    "# North Complex fire size\n",
    "nc.acre.sum()"
   ]
  },
  {
   "cell_type": "code",
   "execution_count": 16,
   "id": "d0473a9f",
   "metadata": {},
   "outputs": [
    {
     "data": {
      "text/plain": [
       "364200.5722185"
      ]
     },
     "execution_count": 16,
     "metadata": {},
     "output_type": "execute_result"
    }
   ],
   "source": [
    "# Creek fire size\n",
    "crk.acre.sum()"
   ]
  },
  {
   "cell_type": "code",
   "execution_count": 17,
   "id": "fb7a8afc",
   "metadata": {},
   "outputs": [
    {
     "data": {
      "text/plain": [
       "0.007362509633485364"
      ]
     },
     "execution_count": 17,
     "metadata": {},
     "output_type": "execute_result"
    }
   ],
   "source": [
    "(318935-316604)/316604"
   ]
  },
  {
   "cell_type": "code",
   "execution_count": 18,
   "id": "669f1ceb",
   "metadata": {},
   "outputs": [
    {
     "data": {
      "text/plain": [
       "0.043094453596924764"
      ]
     },
     "execution_count": 18,
     "metadata": {},
     "output_type": "execute_result"
    }
   ],
   "source": [
    "(379895-364200)/364200"
   ]
  },
  {
   "cell_type": "markdown",
   "id": "c7d017f9",
   "metadata": {},
   "source": [
    "The difference could be due to areas with an index of 0 or 9, which represent unmappable areas and areas outside the perimeter."
   ]
  },
  {
   "cell_type": "markdown",
   "id": "2900359e",
   "metadata": {},
   "source": [
    "# Basal area change\n",
    "\n",
    "Seven-category percent change in basal area (BA): 0 = outside perimeter 1 = 0% BA loss 2 = 0% < BA loss < 10% 3 = 10% <= BA loss < 25% 4 = 25% <= BA loss < 50% 5 = 50% <= BA loss < 75% 6 = 75% <= BA loss < 90% 7 = BA loss >= 90% 9 = unmappable "
   ]
  },
  {
   "cell_type": "code",
   "execution_count": 19,
   "id": "df50fe89",
   "metadata": {},
   "outputs": [
    {
     "name": "stdout",
     "output_type": "stream",
     "text": [
      "2012 0% finished!\n",
      "2012 <10% finished!\n",
      "2012 10~25% finished!\n",
      "2012 25~50% finished!\n",
      "2012 50~75% finished!\n",
      "2012 75~90% finished!\n",
      "2012 >=90% finished!\n",
      "2013 0% finished!\n",
      "2013 <10% finished!\n",
      "2013 10~25% finished!\n",
      "2013 25~50% finished!\n",
      "2013 50~75% finished!\n",
      "2013 75~90% finished!\n",
      "2013 >=90% finished!\n",
      "2014 0% finished!\n",
      "2014 <10% finished!\n",
      "2014 10~25% finished!\n",
      "2014 25~50% finished!\n",
      "2014 50~75% finished!\n",
      "2014 75~90% finished!\n",
      "2014 >=90% finished!\n",
      "2015 0% finished!\n",
      "2015 <10% finished!\n",
      "2015 10~25% finished!\n",
      "2015 25~50% finished!\n",
      "2015 50~75% finished!\n",
      "2015 75~90% finished!\n",
      "2015 >=90% finished!\n",
      "2016 0% finished!\n",
      "2016 <10% finished!\n",
      "2016 10~25% finished!\n",
      "2016 25~50% finished!\n",
      "2016 50~75% finished!\n",
      "2016 75~90% finished!\n",
      "2016 >=90% finished!\n",
      "2017 0% finished!\n",
      "2017 <10% finished!\n",
      "2017 10~25% finished!\n",
      "2017 25~50% finished!\n",
      "2017 50~75% finished!\n",
      "2017 75~90% finished!\n",
      "2017 >=90% finished!\n",
      "2018 0% finished!\n",
      "2018 <10% finished!\n",
      "2018 10~25% finished!\n",
      "2018 25~50% finished!\n",
      "2018 50~75% finished!\n",
      "2018 75~90% finished!\n",
      "2018 >=90% finished!\n",
      "2019 0% finished!\n",
      "2019 <10% finished!\n",
      "2019 10~25% finished!\n",
      "2019 25~50% finished!\n",
      "2019 50~75% finished!\n",
      "2019 75~90% finished!\n",
      "2019 >=90% finished!\n",
      "2020 0% finished!\n",
      "2020 <10% finished!\n",
      "2020 10~25% finished!\n",
      "2020 25~50% finished!\n",
      "2020 50~75% finished!\n",
      "2020 75~90% finished!\n",
      "2020 >=90% finished!\n",
      "2021 0% finished!\n",
      "2021 <10% finished!\n",
      "2021 10~25% finished!\n",
      "2021 25~50% finished!\n",
      "2021 50~75% finished!\n",
      "2021 75~90% finished!\n",
      "2021 >=90% finished!\n"
     ]
    }
   ],
   "source": [
    "ba_index_dict = {\n",
    "    \n",
    "    1: '0%',\n",
    "    2: '<10%',\n",
    "    3: '10~25%',\n",
    "    4: '25~50%',\n",
    "    5: '50~75%',\n",
    "    6: '75~90%',\n",
    "    7: '>=90%'\n",
    "}\n",
    "\n",
    "df_ba_sierra = create_df_to_compare_years(2012, 2021, 'output/reprojected_shape/reprojected_sierra.shp', 'sierra', 'ba7', ba_index_dict)"
   ]
  },
  {
   "cell_type": "code",
   "execution_count": 20,
   "id": "bd7f9bc1",
   "metadata": {},
   "outputs": [],
   "source": [
    "df_ba_sierra.to_csv(\"output/sum_of_sierra_area_by_ba_index.csv\")"
   ]
  },
  {
   "cell_type": "markdown",
   "id": "1aba2f41",
   "metadata": {},
   "source": [
    "# Canopy coverage change\n",
    "Five-category percent change in canopy cover (CC): 0 = outside perimeter 1 = 0% CC loss 2 = 0% < CC loss < 25% 3 = 25% <= CC loss < 50% 4 = 50% <= CC loss < 75% 5 = CC loss >= 75% 9 = unmappable"
   ]
  },
  {
   "cell_type": "code",
   "execution_count": 21,
   "id": "0d20ee10",
   "metadata": {},
   "outputs": [
    {
     "name": "stdout",
     "output_type": "stream",
     "text": [
      "2012 0% finished!\n",
      "2012 <25% finished!\n",
      "2012 25~50% finished!\n",
      "2012 50~75% finished!\n",
      "2012 >=75% finished!\n",
      "2013 0% finished!\n",
      "2013 <25% finished!\n",
      "2013 25~50% finished!\n",
      "2013 50~75% finished!\n",
      "2013 >=75% finished!\n",
      "2014 0% finished!\n",
      "2014 <25% finished!\n",
      "2014 25~50% finished!\n",
      "2014 50~75% finished!\n",
      "2014 >=75% finished!\n",
      "2015 0% finished!\n",
      "2015 <25% finished!\n",
      "2015 25~50% finished!\n",
      "2015 50~75% finished!\n",
      "2015 >=75% finished!\n",
      "2016 0% finished!\n",
      "2016 <25% finished!\n",
      "2016 25~50% finished!\n",
      "2016 50~75% finished!\n",
      "2016 >=75% finished!\n",
      "2017 0% finished!\n",
      "2017 <25% finished!\n",
      "2017 25~50% finished!\n",
      "2017 50~75% finished!\n",
      "2017 >=75% finished!\n",
      "2018 0% finished!\n",
      "2018 <25% finished!\n",
      "2018 25~50% finished!\n",
      "2018 50~75% finished!\n",
      "2018 >=75% finished!\n",
      "2019 0% finished!\n",
      "2019 <25% finished!\n",
      "2019 25~50% finished!\n",
      "2019 50~75% finished!\n",
      "2019 >=75% finished!\n",
      "2020 0% finished!\n",
      "2020 <25% finished!\n",
      "2020 25~50% finished!\n",
      "2020 50~75% finished!\n",
      "2020 >=75% finished!\n",
      "2021 0% finished!\n",
      "2021 <25% finished!\n",
      "2021 25~50% finished!\n",
      "2021 50~75% finished!\n",
      "2021 >=75% finished!\n"
     ]
    }
   ],
   "source": [
    "cc_index_dict = {\n",
    "    \n",
    "    1: '0%',\n",
    "    2: '<25%',\n",
    "    3: '25~50%',\n",
    "    4: '50~75%',\n",
    "    5: '>=75%'\n",
    "}\n",
    "\n",
    "df_cc_sierra = create_df_to_compare_years(2012, 2021, 'output/reprojected_shape/reprojected_sierra.shp', 'sierra', 'cc5', cc_index_dict)"
   ]
  },
  {
   "cell_type": "code",
   "execution_count": 22,
   "id": "a394bd1b",
   "metadata": {},
   "outputs": [],
   "source": [
    "df_cc_sierra.to_csv(\"output/sum_of_sierra_area_by_cc_index.csv\")"
   ]
  },
  {
   "cell_type": "code",
   "execution_count": null,
   "id": "c88339b4",
   "metadata": {},
   "outputs": [],
   "source": []
  }
 ],
 "metadata": {
  "kernelspec": {
   "display_name": "Python 3 (ipykernel)",
   "language": "python",
   "name": "python3"
  },
  "language_info": {
   "codemirror_mode": {
    "name": "ipython",
    "version": 3
   },
   "file_extension": ".py",
   "mimetype": "text/x-python",
   "name": "python",
   "nbconvert_exporter": "python",
   "pygments_lexer": "ipython3",
   "version": "3.8.12"
  }
 },
 "nbformat": 4,
 "nbformat_minor": 5
}
