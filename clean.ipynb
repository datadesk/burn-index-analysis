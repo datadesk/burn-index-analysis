{
 "cells": [
  {
   "cell_type": "markdown",
   "id": "043315e6",
   "metadata": {},
   "source": [
    "The following code took reference from:\n",
    "- https://here.isnew.info/how-to-calculate-the-area-of-a-certain-class-in-a-geotiff-file-using-numpy.html\n",
    "- https://thinkinfi.com/clip-raster-with-a-shape-file-in-python/\n",
    "\n",
    "Burn severity data:\n",
    "- https://data.fs.usda.gov/geodata/rastergateway/ravg/index.php\n"
   ]
  },
  {
   "cell_type": "code",
   "execution_count": 24,
   "id": "d9d0237f",
   "metadata": {},
   "outputs": [],
   "source": [
    "import fiona\n",
    "import rasterio\n",
    "import rasterio.mask\n",
    "from rasterio.plot import show\n",
    "from rasterio.warp import calculate_default_transform, reproject, Resampling\n",
    "\n",
    "import geopandas as gpd\n",
    "\n",
    "from osgeo import gdal\n",
    "import numpy as np\n",
    "import matplotlib.pyplot as plt\n",
    "import pandas as pd"
   ]
  },
  {
   "cell_type": "code",
   "execution_count": 25,
   "id": "b1fe9983",
   "metadata": {},
   "outputs": [],
   "source": [
    "def make_projections_the_same(shapefile, rasterfile, year):\n",
    "    # Read shape file using gpd\n",
    "    shape_file = gpd.read_file(shapefile)\n",
    "\n",
    "    # Read imagery file \n",
    "    raster_file = rasterio.open(rasterfile)\n",
    "    \n",
    "    # Check coordinate reference system (CRS) of both datasets\n",
    "    print('Raster file Projection: ', raster_file.crs)\n",
    "    \n",
    "    # Transform projection of shapefile to the raster file's coordinate system\n",
    "    # Specify output projection system\n",
    "    dst_crs = 'ESRI:102039'\n",
    "    \n",
    "    shape_file = shape_file.to_crs(dst_crs)\n",
    "    shape_file.to_file('output/reprojected_shape/reprojected_sierra.shp')"
   ]
  },
  {
   "cell_type": "code",
   "execution_count": 26,
   "id": "ceab6950",
   "metadata": {},
   "outputs": [
    {
     "name": "stdout",
     "output_type": "stream",
     "text": [
      "Raster file Projection:  ESRI:102039\n"
     ]
    },
    {
     "name": "stderr",
     "output_type": "stream",
     "text": [
      "/Users/schen/.pyenv/versions/3.8.12/lib/python3.8/site-packages/geopandas/io/file.py:362: FutureWarning: pandas.Int64Index is deprecated and will be removed from pandas in a future version. Use pandas.Index with the appropriate dtype instead.\n",
      "  pd.Int64Index,\n"
     ]
    }
   ],
   "source": [
    "make_projections_the_same('Sierra_Nevada_Conservancy_Boundary/Sierra_Nevada_Conservancy_Boundary.shp', 'input/ravg_2021_cbi4.tif', 2021)"
   ]
  },
  {
   "cell_type": "code",
   "execution_count": 27,
   "id": "40bdb42c",
   "metadata": {},
   "outputs": [],
   "source": [
    "def clip_raster_with_shapefile(shapefile, rasterfile, year, region):\n",
    "    # Read Shape file\n",
    "    with fiona.open(shapefile, \"r\") as shapefile:\n",
    "        shapes = [feature[\"geometry\"] for feature in shapefile]\n",
    "\n",
    "    # read raster file\n",
    "    with rasterio.open(rasterfile) as src:\n",
    "        out_image, out_transform = rasterio.mask.mask(src, shapes, crop=True)\n",
    "        out_meta = src.meta\n",
    "\n",
    "    # Save clipped raster\n",
    "    out_meta.update({\"driver\": \"GTiff\",\n",
    "                     \"height\": out_image.shape[1],\n",
    "                     \"width\": out_image.shape[2],\n",
    "                     \"transform\": out_transform})\n",
    "\n",
    "    with rasterio.open(\"output/clipped_tif/\"+str(year)+\"_\"+region+\"_clipped.tif\", \"w\", **out_meta) as dest:\n",
    "        dest.write(out_image)"
   ]
  },
  {
   "cell_type": "code",
   "execution_count": 28,
   "id": "2ea880c7",
   "metadata": {},
   "outputs": [],
   "source": [
    "def read_clipped_tiff(file):\n",
    "    df = gdal.Open(file)\n",
    "    # Get data from raster with classifications\n",
    "    band = df.GetRasterBand(1)\n",
    "    arr = band.ReadAsArray()\n",
    "    return arr, df"
   ]
  },
  {
   "cell_type": "code",
   "execution_count": 29,
   "id": "4dc3071c",
   "metadata": {},
   "outputs": [],
   "source": [
    "def extract_one_class(df, arr, classname, sel_area_name, year):\n",
    "    sel_arr = np.where(arr == classname, 1, 0)\n",
    "    # calculate the number of cells in the selected class\n",
    "    sel_arr_ncells = np.sum(arr == classname)\n",
    "    # based on this tutorial: https://gdal.org/tutorials/geotransforms_tut.html\n",
    "    # extract the resolution of the data set\n",
    "    dx = df.GetGeoTransform()[1]\n",
    "    dy = -df.GetGeoTransform()[5]\n",
    "    # The area of a cell can be calculated by multiplying the x- and y-resolution\n",
    "    area_size = sel_arr_ncells * dx * dy\n",
    "#     print(\"Total area of the fire burnt at the \" + sel_area_name + \" in \" + str(year) + \" was\", area_size)\n",
    "    return sel_arr, area_size"
   ]
  },
  {
   "cell_type": "code",
   "execution_count": 30,
   "id": "7bd06493",
   "metadata": {},
   "outputs": [],
   "source": [
    "def write_geotiff(file, arr, input_df):\n",
    "    if arr.dtype == np.float32:\n",
    "        arr_type = gdal.GDT_Float32\n",
    "    else:\n",
    "        arr_type = gdal.GDT_Int32\n",
    "    \n",
    "    driver = gdal.GetDriverByName(\"GTiff\")\n",
    "    output_df = driver.Create(file, arr.shape[1], arr.shape[0], 1, arr_type)\n",
    "    output_df.SetProjection(input_df.GetProjection())\n",
    "    output_df.SetGeoTransform(input_df.GetGeoTransform())\n",
    "    band = output_df.GetRasterBand(1)\n",
    "    band.WriteArray(arr)\n",
    "    band.FlushCache()\n",
    "    band.ComputeStatistics(False)"
   ]
  },
  {
   "cell_type": "code",
   "execution_count": 31,
   "id": "c45cc690",
   "metadata": {},
   "outputs": [],
   "source": [
    "burn_index_dict = {\n",
    "    \n",
    "    1: 'unchanged',\n",
    "    2: 'low',\n",
    "    3: 'medium',\n",
    "    4: 'high'\n",
    "    \n",
    "}\n",
    "\n",
    "final = []\n",
    "\n",
    "def create_df_to_compare_years(start_year, end_year, clipped_shapefile_path, region):\n",
    "    \n",
    "    for i in range((end_year + 1 - start_year)):\n",
    "        year = start_year+i\n",
    "        clip_raster_with_shapefile(clipped_shapefile_path, 'input/ravg_'+str(year)+'_cbi4.tif', year, region)\n",
    "        arr, df = read_clipped_tiff(\"output/clipped_tif/\"+str(year)+\"_\"+ region +\"_clipped.tif\")\n",
    "        \n",
    "        for n in range(4):\n",
    "            sel_index = n+1\n",
    "            sel_area_name = burn_index_dict[sel_index]\n",
    "            sel_arr, sel_area_size = extract_one_class(df, arr, sel_index, sel_area_name, year)\n",
    "            final.append({\n",
    "                'year': year,\n",
    "                'severity_index': sel_index,\n",
    "                'severity': sel_area_name,\n",
    "                'sqm': sel_area_size\n",
    "            })\n",
    "            write_geotiff(\"output/tif_file_by_index/\"+str(year)+\"_\"+region+\"_clipped_\"+sel_area_name+\".tif\", sel_arr, df)\n",
    "            print(str(year) + sel_area_name + ' finished!')"
   ]
  },
  {
   "cell_type": "code",
   "execution_count": 32,
   "id": "0a5407df",
   "metadata": {},
   "outputs": [
    {
     "name": "stdout",
     "output_type": "stream",
     "text": [
      "2012unchanged finished!\n",
      "2012low finished!\n",
      "2012medium finished!\n",
      "2012high finished!\n",
      "2013unchanged finished!\n",
      "2013low finished!\n",
      "2013medium finished!\n",
      "2013high finished!\n",
      "2014unchanged finished!\n",
      "2014low finished!\n",
      "2014medium finished!\n",
      "2014high finished!\n",
      "2015unchanged finished!\n",
      "2015low finished!\n",
      "2015medium finished!\n",
      "2015high finished!\n",
      "2016unchanged finished!\n",
      "2016low finished!\n",
      "2016medium finished!\n",
      "2016high finished!\n",
      "2017unchanged finished!\n",
      "2017low finished!\n",
      "2017medium finished!\n",
      "2017high finished!\n",
      "2018unchanged finished!\n",
      "2018low finished!\n",
      "2018medium finished!\n",
      "2018high finished!\n",
      "2019unchanged finished!\n",
      "2019low finished!\n",
      "2019medium finished!\n",
      "2019high finished!\n",
      "2020unchanged finished!\n",
      "2020low finished!\n",
      "2020medium finished!\n",
      "2020high finished!\n",
      "2021unchanged finished!\n",
      "2021low finished!\n",
      "2021medium finished!\n",
      "2021high finished!\n"
     ]
    }
   ],
   "source": [
    "create_df_to_compare_years(2012, 2021, 'output/reprojected_shape/reprojected_sierra.shp', 'sierra')"
   ]
  },
  {
   "cell_type": "code",
   "execution_count": 33,
   "id": "2fe6c1a7",
   "metadata": {},
   "outputs": [],
   "source": [
    "final_df = pd.DataFrame(final)"
   ]
  },
  {
   "cell_type": "code",
   "execution_count": 36,
   "id": "df9bcd92",
   "metadata": {},
   "outputs": [],
   "source": [
    "final_df.to_csv('output/sum_of_sierra_fire_size_by_burn_index.csv')"
   ]
  },
  {
   "cell_type": "markdown",
   "id": "096b5e86",
   "metadata": {},
   "source": [
    "# Making sure the numbers are correct"
   ]
  },
  {
   "cell_type": "markdown",
   "id": "61a2e943",
   "metadata": {},
   "source": [
    "## 1. Using CalFire data (x)\n",
    "I tried comparing our analysis with Calfire's data, which documents [acres burned by year.](https://www.fire.ca.gov/stats-events/)\n",
    "\n",
    "The numbers don't match bc CBI-4 data has records for only wildland fires reported within the conterminous United States (CONUS) that include at least 1000 acres of forested National Forest System (NFS) land (500 acres for Regions 8 and 9 as of 2016)."
   ]
  },
  {
   "cell_type": "markdown",
   "id": "44efd97f",
   "metadata": {},
   "source": [
    "## 2. QGIS Grass r.report (v)\n",
    "I also tried using QGIS to do the same cleaning and analysis with the help of the GRASS plugin.\n",
    "https://grass.osgeo.org/grass78/manuals/r.report.html\n",
    "\n",
    "Clean and anlyze the geodata all in QGIS and compare the results. The steps are:\n",
    "1. Crop the tifs with Sierra Nevada's vector file\n",
    "2. Use Grass r.report to find out the areas burned by index (in sq. meter)\n",
    "\n",
    "The final results calculated by the GRASS plugin, stored in the \"qgis-grass\" folder, are the same as the results produced by my analysis. "
   ]
  },
  {
   "cell_type": "markdown",
   "id": "02a7a2d6",
   "metadata": {},
   "source": [
    "## 3. Areas burned by a single wildfire (~v)\n",
    "\n",
    "The third way to verify our analysis result is to get the size of a single wildfire using our python script and compare the number with the state [official's data.](https://hub.arcgis.com/maps/CALFIRE-Forestry::california-fire-perimeters/about) "
   ]
  },
  {
   "cell_type": "code",
   "execution_count": 55,
   "id": "97db94ca",
   "metadata": {},
   "outputs": [
    {
     "name": "stdout",
     "output_type": "stream",
     "text": [
      "2020unchanged finished!\n",
      "2020low finished!\n",
      "2020medium finished!\n",
      "2020high finished!\n"
     ]
    }
   ],
   "source": [
    "# calculate acres burned by the North Complex Fire in 2020\n",
    "final = []\n",
    "create_df_to_compare_years(2020, 2020, 'output/reprojected_shape/north_complex_fire.shp', 'nc')\n",
    "final_df = pd.DataFrame(final)\n",
    "final_df.to_csv('output/sum_of_nc_fire_size_by_burn_index.csv')"
   ]
  },
  {
   "cell_type": "code",
   "execution_count": 56,
   "id": "57155982",
   "metadata": {},
   "outputs": [
    {
     "name": "stdout",
     "output_type": "stream",
     "text": [
      "2020unchanged finished!\n",
      "2020low finished!\n",
      "2020medium finished!\n",
      "2020high finished!\n"
     ]
    }
   ],
   "source": [
    "# calculate acres burned by the Creek Fire in 2020\n",
    "final = []\n",
    "create_df_to_compare_years(2020, 2020, 'output/reprojected_shape/creek_fire.shp', 'crk')\n",
    "final_df = pd.DataFrame(final)\n",
    "final_df.to_csv('output/sum_of_crk_fire_size_by_burn_index.csv')"
   ]
  },
  {
   "cell_type": "code",
   "execution_count": 57,
   "id": "140fbe09",
   "metadata": {},
   "outputs": [],
   "source": [
    "nc =  pd.read_csv('output/sum_of_nc_fire_size_by_burn_index.csv', index_col=0)\n",
    "crk = pd.read_csv('output/sum_of_crk_fire_size_by_burn_index.csv', index_col=0)\n",
    "\n",
    "\n",
    "# sq. meter to acre\n",
    "nc['acre'] = nc.sqm.apply(lambda x: x*0.000247105)\n",
    "crk['acre'] = crk.sqm.apply(lambda x: x*0.000247105)"
   ]
  },
  {
   "cell_type": "markdown",
   "id": "52544270",
   "metadata": {},
   "source": [
    "### Data from U.S. Forest Service\n",
    "- North Complex fire acre burned: [318,935](https://inciweb.nwcg.gov/incident/6997/) \n",
    "- Creek fire acre burned: [379,895](https://inciweb.nwcg.gov/incident/7147)"
   ]
  },
  {
   "cell_type": "markdown",
   "id": "ecae6931",
   "metadata": {},
   "source": [
    "### By our script"
   ]
  },
  {
   "cell_type": "code",
   "execution_count": 58,
   "id": "36d34daa",
   "metadata": {},
   "outputs": [
    {
     "data": {
      "text/plain": [
       "316604.14611750003"
      ]
     },
     "execution_count": 58,
     "metadata": {},
     "output_type": "execute_result"
    }
   ],
   "source": [
    "# North Complex fire size\n",
    "nc.acre.sum()"
   ]
  },
  {
   "cell_type": "code",
   "execution_count": 59,
   "id": "d0473a9f",
   "metadata": {},
   "outputs": [
    {
     "data": {
      "text/plain": [
       "364200.5722185"
      ]
     },
     "execution_count": 59,
     "metadata": {},
     "output_type": "execute_result"
    }
   ],
   "source": [
    "# Creek fire size\n",
    "crk.acre.sum()"
   ]
  },
  {
   "cell_type": "code",
   "execution_count": null,
   "id": "876f33ad",
   "metadata": {},
   "outputs": [],
   "source": []
  }
 ],
 "metadata": {
  "kernelspec": {
   "display_name": "Python 3 (ipykernel)",
   "language": "python",
   "name": "python3"
  },
  "language_info": {
   "codemirror_mode": {
    "name": "ipython",
    "version": 3
   },
   "file_extension": ".py",
   "mimetype": "text/x-python",
   "name": "python",
   "nbconvert_exporter": "python",
   "pygments_lexer": "ipython3",
   "version": "3.8.12"
  }
 },
 "nbformat": 4,
 "nbformat_minor": 5
}
