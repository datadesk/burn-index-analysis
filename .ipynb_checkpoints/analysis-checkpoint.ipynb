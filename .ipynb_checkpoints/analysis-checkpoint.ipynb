{
 "cells": [
  {
   "cell_type": "markdown",
   "id": "e01ffc04",
   "metadata": {},
   "source": [
    "This analysis looks at burn severity of wildfires in the Sierra Nevada region from 2012 to 2021. \n",
    "\n",
    " \n",
    "- Not all wildfires were documented in the CBI-4 data sets\n",
    "- The size here is calculated by numberOfCell * x-resolution * y-resolution. >> sq. meters\n",
    "- The index is used to classify burn severity as unchanged, low, moderate or high severity. >> impacts not intensity\n",
    "    - Unchanged: Areas indistinguishable from pre-fire conditions. This does not necessarily indicate that the area was unburned. \n",
    "    - Low: Areas of surface fire with little change in cover and little mortality of the structurally dominant vegetation. \n",
    "    - Moderate: Areas between low and high severity, with a mixture of effects on the structurally dominant vegetation. \n",
    "    - High: Areas where the dominant vegetation has high to complete mortality. \n",
    "\n",
    "refs: calculating tif class area size\n",
    "- https://gis.stackexchange.com/questions/199113/how-to-calculate-raster-area-or-number-of-cells-for-multiple-classes-in-a-raster?noredirect=1&lq=1\n",
    "- https://gis.stackexchange.com/questions/277126/what-are-the-methods-for-calculating-area-from-a-raster-in-qgis"
   ]
  },
  {
   "cell_type": "markdown",
   "id": "9db16b12",
   "metadata": {},
   "source": [
    "Questions\n",
    "- How much has the area burned at the highest severity increased since 2012? \n",
    "- Has % of area burned at the highest severity also increased? \n",
    "- New areas burned at highest severity?\n",
    "- Impacts of the increasing areas with high burn index? >> satellite imgs?\n",
    "    - tree canopy?\n",
    "    - animal habitats? \n",
    "    - property loss? \n",
    "    - ...\n",
    "- Composite Burn Index (CBI) Data for the Conterminous US, [Collected Between 1996 and 2018](https://www.sciencebase.gov/catalog/item/5d963705e4b0c4f70d110ee6)"
   ]
  },
  {
   "cell_type": "code",
   "execution_count": 1,
   "id": "eee8f69b",
   "metadata": {},
   "outputs": [],
   "source": [
    "import pandas as pd\n",
    "import matplotlib.pyplot as plt\n",
    "from osgeo import gdal\n",
    "import rasterio"
   ]
  },
  {
   "cell_type": "code",
   "execution_count": 94,
   "id": "24cf0b09",
   "metadata": {},
   "outputs": [],
   "source": [
    "def analyze_index(file):\n",
    "    raw = pd.read_csv(file, index_col = 0)\n",
    "    raw['percent_of_total'] = 0\n",
    "    df = raw.copy()\n",
    "    grouped = df.groupby('year').sqm.sum().reset_index()\n",
    "    for i in range(len(grouped)):\n",
    "        for k in range(len(df)):\n",
    "            if grouped.year[i] == df.year[k]:\n",
    "                df['percent_of_total'].iloc[k] = df.sqm[k] / grouped.sqm[i]\n",
    "    return grouped, df"
   ]
  },
  {
   "cell_type": "markdown",
   "id": "2a565746",
   "metadata": {},
   "source": [
    "# CBI-4 (burn severity index)"
   ]
  },
  {
   "cell_type": "code",
   "execution_count": 95,
   "id": "0c24fe3d",
   "metadata": {},
   "outputs": [
    {
     "name": "stderr",
     "output_type": "stream",
     "text": [
      "/var/folders/zv/3yvy_fbd0mz2lvqqtd13wypc0000gp/T/ipykernel_98210/2626247015.py:9: SettingWithCopyWarning: \n",
      "A value is trying to be set on a copy of a slice from a DataFrame\n",
      "\n",
      "See the caveats in the documentation: https://pandas.pydata.org/pandas-docs/stable/user_guide/indexing.html#returning-a-view-versus-a-copy\n",
      "  df['percent_of_total'].iloc[k] = df.sqm[k] / grouped.sqm[i]\n"
     ]
    }
   ],
   "source": [
    "cbi4_by_year, cbi4_by_index = analyze_index('output/sum_of_sierra_fire_size_by_burn_index.csv')"
   ]
  },
  {
   "cell_type": "code",
   "execution_count": 75,
   "id": "ce2fbe5e",
   "metadata": {},
   "outputs": [
    {
     "data": {
      "text/plain": [
       "Text(0.5, 1.0, 'total area burned by year')"
      ]
     },
     "execution_count": 75,
     "metadata": {},
     "output_type": "execute_result"
    },
    {
     "data": {
      "image/png": "[encoded data removed]",
      "text/plain": [
       "<Figure size 432x288 with 1 Axes>"
      ]
     },
     "metadata": {
      "needs_background": "light"
     },
     "output_type": "display_data"
    }
   ],
   "source": [
    "plt.bar(cbi4_by_year.year, cbi4_by_year.sqm)\n",
    "plt.title('total area burned by year')"
   ]
  },
  {
   "cell_type": "code",
   "execution_count": 20,
   "id": "76d7772c",
   "metadata": {},
   "outputs": [],
   "source": [
    "total_burn_after20 = cbi4_by_year.iloc[8:].sqm.sum()\n",
    "total_burn_before20 = cbi4_by_year.iloc[:8].sqm.sum()"
   ]
  },
  {
   "cell_type": "code",
   "execution_count": 21,
   "id": "e21fe4cb",
   "metadata": {},
   "outputs": [
    {
     "data": {
      "text/plain": [
       "1.6020812986433912"
      ]
     },
     "execution_count": 21,
     "metadata": {},
     "output_type": "execute_result"
    }
   ],
   "source": [
    "total_burn_after20 / total_burn_before20"
   ]
  },
  {
   "cell_type": "markdown",
   "id": "0b4eafb5",
   "metadata": {},
   "source": [
    "- The total area burned after 2020 was 1.6 times the total area burned from 2012 to 2019. \n",
    "- The total area burned in 2021 was 10.6 times that of 2012."
   ]
  },
  {
   "cell_type": "code",
   "execution_count": 22,
   "id": "8e8c1c94",
   "metadata": {},
   "outputs": [
    {
     "data": {
      "text/plain": [
       "Text(0.5, 1.0, 'total area burned at the highest severity by year')"
      ]
     },
     "execution_count": 22,
     "metadata": {},
     "output_type": "execute_result"
    },
    {
     "data": {
      "image/png": "[encoded data removed]",
      "text/plain": [
       "<Figure size 432x288 with 1 Axes>"
      ]
     },
     "metadata": {
      "needs_background": "light"
     },
     "output_type": "display_data"
    }
   ],
   "source": [
    "high_severity = cbi4_by_index[cbi4_by_index.severity_index == 4].reset_index(drop=True)\n",
    "plt.bar(high_severity.year, high_severity.sqm)\n",
    "plt.title('total area burned at the highest severity by year')"
   ]
  },
  {
   "cell_type": "code",
   "execution_count": 23,
   "id": "6c2a7b10",
   "metadata": {},
   "outputs": [],
   "source": [
    "hsevere_after20 = high_severity.iloc[8:].sqm.sum()\n",
    "hsevere_before20 = high_severity.iloc[:8].sqm.sum()"
   ]
  },
  {
   "cell_type": "code",
   "execution_count": 24,
   "id": "1a049fbd",
   "metadata": {},
   "outputs": [
    {
     "data": {
      "text/plain": [
       "2.202554695513226"
      ]
     },
     "execution_count": 24,
     "metadata": {},
     "output_type": "execute_result"
    }
   ],
   "source": [
    "hsevere_after20 / hsevere_before20"
   ]
  },
  {
   "cell_type": "markdown",
   "id": "0a6bb4fd",
   "metadata": {},
   "source": [
    "- The total area burned at high severity after 2020 was 2.2 times that of 2012 to 2019.\n",
    "- In 2021, the total area burned at the highest severity level was 22 times that of 2012."
   ]
  },
  {
   "cell_type": "code",
   "execution_count": 99,
   "id": "11bdcb8b",
   "metadata": {},
   "outputs": [
    {
     "data": {
      "text/plain": [
       "Text(0.5, 1.0, 'percentage of total area burned at the highest severity by year')"
      ]
     },
     "execution_count": 99,
     "metadata": {},
     "output_type": "execute_result"
    },
    {
     "data": {
      "image/png": "[encoded data removed]",
      "text/plain": [
       "<Figure size 432x288 with 1 Axes>"
      ]
     },
     "metadata": {
      "needs_background": "light"
     },
     "output_type": "display_data"
    }
   ],
   "source": [
    "plt.bar(high_severity.year, high_severity['percent_of_total'])\n",
    "plt.title('percentage of total area burned at the highest severity by year')"
   ]
  },
  {
   "cell_type": "markdown",
   "id": "be94aa13",
   "metadata": {},
   "source": [
    "The % of fire burned at the highest severity in Sierra Nevada peaked in 2016."
   ]
  },
  {
   "cell_type": "markdown",
   "id": "9df86452",
   "metadata": {},
   "source": [
    "# Basal area change"
   ]
  },
  {
   "cell_type": "code",
   "execution_count": 70,
   "id": "0f8128da",
   "metadata": {},
   "outputs": [
    {
     "name": "stderr",
     "output_type": "stream",
     "text": [
      "/var/folders/zv/3yvy_fbd0mz2lvqqtd13wypc0000gp/T/ipykernel_98210/1962739816.py:8: SettingWithCopyWarning: \n",
      "A value is trying to be set on a copy of a slice from a DataFrame\n",
      "\n",
      "See the caveats in the documentation: https://pandas.pydata.org/pandas-docs/stable/user_guide/indexing.html#returning-a-view-versus-a-copy\n",
      "  df['percent_of_total'].iloc[k] = df.sqm[k] / grouped.sqm[i]\n"
     ]
    }
   ],
   "source": [
    "ba_by_year, ba_by_index = analyze_index('output/sum_of_sierra_area_by_ba_index.csv')"
   ]
  },
  {
   "cell_type": "code",
   "execution_count": 96,
   "id": "13f5bed6",
   "metadata": {},
   "outputs": [
    {
     "data": {
      "text/plain": [
       "Text(0.5, 1.0, 'Areas with more than 90% basal loss by year, sq. mt')"
      ]
     },
     "execution_count": 96,
     "metadata": {},
     "output_type": "execute_result"
    },
    {
     "data": {
      "image/png": "[encoded data removed]",
      "text/plain": [
       "<Figure size 432x288 with 1 Axes>"
      ]
     },
     "metadata": {
      "needs_background": "light"
     },
     "output_type": "display_data"
    }
   ],
   "source": [
    "ba_loss_ninety = ba_by_index[ba_by_index.ind == 7].reset_index(drop=True)\n",
    "plt.bar(ba_loss_ninety.year, ba_loss_ninety.sqm)\n",
    "plt.title('Areas with more than 90% basal loss by year, sq. mt')"
   ]
  },
  {
   "cell_type": "markdown",
   "id": "db7d7f86",
   "metadata": {},
   "source": [
    "Wildfire land that had lost more than 90% of its basal area totaled 2.95 billion square meters in 2021."
   ]
  },
  {
   "cell_type": "code",
   "execution_count": 100,
   "id": "53e737d0",
   "metadata": {},
   "outputs": [
    {
     "data": {
      "text/html": [
       "<div>\n",
       "<style scoped>\n",
       "    .dataframe tbody tr th:only-of-type {\n",
       "        vertical-align: middle;\n",
       "    }\n",
       "\n",
       "    .dataframe tbody tr th {\n",
       "        vertical-align: top;\n",
       "    }\n",
       "\n",
       "    .dataframe thead th {\n",
       "        text-align: right;\n",
       "    }\n",
       "</style>\n",
       "<table border=\"1\" class=\"dataframe\">\n",
       "  <thead>\n",
       "    <tr style=\"text-align: right;\">\n",
       "      <th></th>\n",
       "      <th>year</th>\n",
       "      <th>ind</th>\n",
       "      <th>ind_name</th>\n",
       "      <th>sqm</th>\n",
       "      <th>percent_of_total</th>\n",
       "    </tr>\n",
       "  </thead>\n",
       "  <tbody>\n",
       "    <tr>\n",
       "      <th>0</th>\n",
       "      <td>2012</td>\n",
       "      <td>7</td>\n",
       "      <td>&gt;=90%</td>\n",
       "      <td>1.371204e+08</td>\n",
       "      <td>0.213361</td>\n",
       "    </tr>\n",
       "    <tr>\n",
       "      <th>1</th>\n",
       "      <td>2013</td>\n",
       "      <td>7</td>\n",
       "      <td>&gt;=90%</td>\n",
       "      <td>4.443687e+08</td>\n",
       "      <td>0.338014</td>\n",
       "    </tr>\n",
       "    <tr>\n",
       "      <th>2</th>\n",
       "      <td>2014</td>\n",
       "      <td>7</td>\n",
       "      <td>&gt;=90%</td>\n",
       "      <td>4.134159e+08</td>\n",
       "      <td>0.479243</td>\n",
       "    </tr>\n",
       "    <tr>\n",
       "      <th>3</th>\n",
       "      <td>2015</td>\n",
       "      <td>7</td>\n",
       "      <td>&gt;=90%</td>\n",
       "      <td>2.806047e+08</td>\n",
       "      <td>0.394742</td>\n",
       "    </tr>\n",
       "    <tr>\n",
       "      <th>4</th>\n",
       "      <td>2016</td>\n",
       "      <td>7</td>\n",
       "      <td>&gt;=90%</td>\n",
       "      <td>2.152008e+08</td>\n",
       "      <td>0.515182</td>\n",
       "    </tr>\n",
       "    <tr>\n",
       "      <th>5</th>\n",
       "      <td>2017</td>\n",
       "      <td>7</td>\n",
       "      <td>&gt;=90%</td>\n",
       "      <td>1.780335e+08</td>\n",
       "      <td>0.295806</td>\n",
       "    </tr>\n",
       "    <tr>\n",
       "      <th>6</th>\n",
       "      <td>2018</td>\n",
       "      <td>7</td>\n",
       "      <td>&gt;=90%</td>\n",
       "      <td>5.130252e+08</td>\n",
       "      <td>0.245908</td>\n",
       "    </tr>\n",
       "    <tr>\n",
       "      <th>7</th>\n",
       "      <td>2019</td>\n",
       "      <td>7</td>\n",
       "      <td>&gt;=90%</td>\n",
       "      <td>1.333332e+08</td>\n",
       "      <td>0.379627</td>\n",
       "    </tr>\n",
       "    <tr>\n",
       "      <th>8</th>\n",
       "      <td>2020</td>\n",
       "      <td>7</td>\n",
       "      <td>&gt;=90%</td>\n",
       "      <td>2.073737e+09</td>\n",
       "      <td>0.473462</td>\n",
       "    </tr>\n",
       "    <tr>\n",
       "      <th>9</th>\n",
       "      <td>2021</td>\n",
       "      <td>7</td>\n",
       "      <td>&gt;=90%</td>\n",
       "      <td>2.950955e+09</td>\n",
       "      <td>0.432998</td>\n",
       "    </tr>\n",
       "  </tbody>\n",
       "</table>\n",
       "</div>"
      ],
      "text/plain": [
       "   year  ind ind_name           sqm  percent_of_total\n",
       "0  2012    7    >=90%  1.371204e+08          0.213361\n",
       "1  2013    7    >=90%  4.443687e+08          0.338014\n",
       "2  2014    7    >=90%  4.134159e+08          0.479243\n",
       "3  2015    7    >=90%  2.806047e+08          0.394742\n",
       "4  2016    7    >=90%  2.152008e+08          0.515182\n",
       "5  2017    7    >=90%  1.780335e+08          0.295806\n",
       "6  2018    7    >=90%  5.130252e+08          0.245908\n",
       "7  2019    7    >=90%  1.333332e+08          0.379627\n",
       "8  2020    7    >=90%  2.073737e+09          0.473462\n",
       "9  2021    7    >=90%  2.950955e+09          0.432998"
      ]
     },
     "execution_count": 100,
     "metadata": {},
     "output_type": "execute_result"
    }
   ],
   "source": [
    "ba_loss_ninety"
   ]
  },
  {
   "cell_type": "markdown",
   "id": "35f4e815",
   "metadata": {},
   "source": [
    "# Canopy coverage loss"
   ]
  },
  {
   "cell_type": "code",
   "execution_count": 97,
   "id": "187d4b4f",
   "metadata": {},
   "outputs": [
    {
     "name": "stderr",
     "output_type": "stream",
     "text": [
      "/var/folders/zv/3yvy_fbd0mz2lvqqtd13wypc0000gp/T/ipykernel_98210/2626247015.py:9: SettingWithCopyWarning: \n",
      "A value is trying to be set on a copy of a slice from a DataFrame\n",
      "\n",
      "See the caveats in the documentation: https://pandas.pydata.org/pandas-docs/stable/user_guide/indexing.html#returning-a-view-versus-a-copy\n",
      "  df['percent_of_total'].iloc[k] = df.sqm[k] / grouped.sqm[i]\n"
     ]
    }
   ],
   "source": [
    "cc_by_year, cc_by_index = analyze_index('output/sum_of_sierra_area_by_cc_index.csv')"
   ]
  },
  {
   "cell_type": "code",
   "execution_count": 98,
   "id": "b53d711a",
   "metadata": {},
   "outputs": [
    {
     "data": {
      "text/plain": [
       "Text(0.5, 1.0, 'Areas with more than 75% canopy coverage loss by year, sq. mt')"
      ]
     },
     "execution_count": 98,
     "metadata": {},
     "output_type": "execute_result"
    },
    {
     "data": {
      "image/png": "[encoded data removed]",
      "text/plain": [
       "<Figure size 432x288 with 1 Axes>"
      ]
     },
     "metadata": {
      "needs_background": "light"
     },
     "output_type": "display_data"
    }
   ],
   "source": [
    "cc_loss_svnfv = cc_by_index[cc_by_index.ind == 5].reset_index(drop=True)\n",
    "plt.bar(cc_loss_svnfv.year, cc_loss_svnfv.sqm)\n",
    "plt.title('Areas with more than 75% canopy coverage loss by year, sq. mt')"
   ]
  },
  {
   "cell_type": "markdown",
   "id": "d7c2826e",
   "metadata": {},
   "source": [
    "3.36 billion square meters of wildfire land lost more than 75% of its canopy coverage in 2021."
   ]
  },
  {
   "cell_type": "code",
   "execution_count": 101,
   "id": "83699ad0",
   "metadata": {},
   "outputs": [
    {
     "data": {
      "text/html": [
       "<div>\n",
       "<style scoped>\n",
       "    .dataframe tbody tr th:only-of-type {\n",
       "        vertical-align: middle;\n",
       "    }\n",
       "\n",
       "    .dataframe tbody tr th {\n",
       "        vertical-align: top;\n",
       "    }\n",
       "\n",
       "    .dataframe thead th {\n",
       "        text-align: right;\n",
       "    }\n",
       "</style>\n",
       "<table border=\"1\" class=\"dataframe\">\n",
       "  <thead>\n",
       "    <tr style=\"text-align: right;\">\n",
       "      <th></th>\n",
       "      <th>year</th>\n",
       "      <th>ind</th>\n",
       "      <th>ind_name</th>\n",
       "      <th>sqm</th>\n",
       "      <th>percent_of_total</th>\n",
       "    </tr>\n",
       "  </thead>\n",
       "  <tbody>\n",
       "    <tr>\n",
       "      <th>0</th>\n",
       "      <td>2012</td>\n",
       "      <td>5</td>\n",
       "      <td>&gt;=75%</td>\n",
       "      <td>1.635840e+08</td>\n",
       "      <td>0.254539</td>\n",
       "    </tr>\n",
       "    <tr>\n",
       "      <th>1</th>\n",
       "      <td>2013</td>\n",
       "      <td>5</td>\n",
       "      <td>&gt;=75%</td>\n",
       "      <td>5.071770e+08</td>\n",
       "      <td>0.385790</td>\n",
       "    </tr>\n",
       "    <tr>\n",
       "      <th>2</th>\n",
       "      <td>2014</td>\n",
       "      <td>5</td>\n",
       "      <td>&gt;=75%</td>\n",
       "      <td>4.557366e+08</td>\n",
       "      <td>0.528303</td>\n",
       "    </tr>\n",
       "    <tr>\n",
       "      <th>3</th>\n",
       "      <td>2015</td>\n",
       "      <td>5</td>\n",
       "      <td>&gt;=75%</td>\n",
       "      <td>3.223656e+08</td>\n",
       "      <td>0.453490</td>\n",
       "    </tr>\n",
       "    <tr>\n",
       "      <th>4</th>\n",
       "      <td>2016</td>\n",
       "      <td>5</td>\n",
       "      <td>&gt;=75%</td>\n",
       "      <td>2.377584e+08</td>\n",
       "      <td>0.569184</td>\n",
       "    </tr>\n",
       "    <tr>\n",
       "      <th>5</th>\n",
       "      <td>2017</td>\n",
       "      <td>5</td>\n",
       "      <td>&gt;=75%</td>\n",
       "      <td>2.138328e+08</td>\n",
       "      <td>0.355287</td>\n",
       "    </tr>\n",
       "    <tr>\n",
       "      <th>6</th>\n",
       "      <td>2018</td>\n",
       "      <td>5</td>\n",
       "      <td>&gt;=75%</td>\n",
       "      <td>6.124914e+08</td>\n",
       "      <td>0.293585</td>\n",
       "    </tr>\n",
       "    <tr>\n",
       "      <th>7</th>\n",
       "      <td>2019</td>\n",
       "      <td>5</td>\n",
       "      <td>&gt;=75%</td>\n",
       "      <td>1.511622e+08</td>\n",
       "      <td>0.430390</td>\n",
       "    </tr>\n",
       "    <tr>\n",
       "      <th>8</th>\n",
       "      <td>2020</td>\n",
       "      <td>5</td>\n",
       "      <td>&gt;=75%</td>\n",
       "      <td>2.283600e+09</td>\n",
       "      <td>0.521376</td>\n",
       "    </tr>\n",
       "    <tr>\n",
       "      <th>9</th>\n",
       "      <td>2021</td>\n",
       "      <td>5</td>\n",
       "      <td>&gt;=75%</td>\n",
       "      <td>3.306032e+09</td>\n",
       "      <td>0.485099</td>\n",
       "    </tr>\n",
       "  </tbody>\n",
       "</table>\n",
       "</div>"
      ],
      "text/plain": [
       "   year  ind ind_name           sqm  percent_of_total\n",
       "0  2012    5    >=75%  1.635840e+08          0.254539\n",
       "1  2013    5    >=75%  5.071770e+08          0.385790\n",
       "2  2014    5    >=75%  4.557366e+08          0.528303\n",
       "3  2015    5    >=75%  3.223656e+08          0.453490\n",
       "4  2016    5    >=75%  2.377584e+08          0.569184\n",
       "5  2017    5    >=75%  2.138328e+08          0.355287\n",
       "6  2018    5    >=75%  6.124914e+08          0.293585\n",
       "7  2019    5    >=75%  1.511622e+08          0.430390\n",
       "8  2020    5    >=75%  2.283600e+09          0.521376\n",
       "9  2021    5    >=75%  3.306032e+09          0.485099"
      ]
     },
     "execution_count": 101,
     "metadata": {},
     "output_type": "execute_result"
    }
   ],
   "source": [
    "cc_loss_svnfv"
   ]
  },
  {
   "cell_type": "code",
   "execution_count": 28,
   "id": "099a8ccc",
   "metadata": {},
   "outputs": [],
   "source": [
    "# def read_geotiff(file):\n",
    "#     df = rasterio.open(file)\n",
    "#     return df\n",
    "\n",
    "# tif_ls = []\n",
    "\n",
    "# for i in range(10):\n",
    "#     year = 2012+i\n",
    "#     tif = read_geotiff('output/tif_file_by_index/'+str(year)+'_sierra_clipped_high.tif')\n",
    "#     tif_ls.append({'year': year, 'img':tif})\n"
   ]
  },
  {
   "cell_type": "code",
   "execution_count": 32,
   "id": "60fae7aa",
   "metadata": {},
   "outputs": [],
   "source": [
    "# def show(imgs):\n",
    "#     '''Show in Jupyter notebook one or sequence of PIL images in a row.'''\n",
    "#     figsize = [15,10]\n",
    "#     row = 2\n",
    "#     col = int(len(imgs)/row)\n",
    "#     fig, ax = plt.subplots(row, col,figsize=figsize)\n",
    "#     if len(imgs)==1:\n",
    "#         ax=[ax]\n",
    "    \n",
    "#     for num,el in enumerate(imgs):\n",
    "#         if (num < col):\n",
    "#             nrol = 0\n",
    "#         else:\n",
    "#             nrol = 1\n",
    "#         ax[nrol,int(num%col)].set_title(el['year'])\n",
    "#         ax[nrol,int(num%col)].imshow(el['img'])\n",
    "#         ax[nrol,int(num%col)].axis('off')\n",
    "    \n",
    "# show(tif_ls)"
   ]
  }
 ],
 "metadata": {
  "kernelspec": {
   "display_name": "Python 3 (ipykernel)",
   "language": "python",
   "name": "python3"
  },
  "language_info": {
   "codemirror_mode": {
    "name": "ipython",
    "version": 3
   },
   "file_extension": ".py",
   "mimetype": "text/x-python",
   "name": "python",
   "nbconvert_exporter": "python",
   "pygments_lexer": "ipython3",
   "version": "3.8.12"
  }
 },
 "nbformat": 4,
 "nbformat_minor": 5
}
