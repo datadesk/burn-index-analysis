{
 "cells": [
  {
   "cell_type": "markdown",
   "id": "e01ffc04",
   "metadata": {},
   "source": [
    "This analysis looks at burn severity of wildfires in the Sierra Nevada region from 2012 to 2021. \n",
    "\n",
    " \n",
    "- Not all wildfires were documented in the CBI-4 data sets\n",
    "- The size here is calculated by numberOfCell * x-resolution * y-resolution. >> sq. meters\n",
    "- The index is used to classify burn severity as unchanged, low, moderate or high severity. >> impacts not intensity\n",
    "    - Unchanged: Areas indistinguishable from pre-fire conditions. This does not necessarily indicate that the area was unburned. \n",
    "    - Low: Areas of surface fire with little change in cover and little mortality of the structurally dominant vegetation. \n",
    "    - Moderate: Areas between low and high severity, with a mixture of effects on the structurally dominant vegetation. \n",
    "    - High: Areas where the dominant vegetation has high to complete mortality. \n",
    "\n",
    "refs: calculating tif class area size\n",
    "- https://gis.stackexchange.com/questions/199113/how-to-calculate-raster-area-or-number-of-cells-for-multiple-classes-in-a-raster?noredirect=1&lq=1\n",
    "- https://gis.stackexchange.com/questions/277126/what-are-the-methods-for-calculating-area-from-a-raster-in-qgis"
   ]
  },
  {
   "cell_type": "markdown",
   "id": "9db16b12",
   "metadata": {},
   "source": [
    "Questions\n",
    "- How much has the area burned at the highest severity increased since 2012? \n",
    "- Has % of area burned at the highest severity also increased? \n",
    "- New areas burned at highest severity?\n",
    "- Impacts of the increasing areas with high burn index? >> satellite imgs?\n",
    "    - tree canopy?\n",
    "    - animal habitats? \n",
    "    - property loss? \n",
    "    - ...\n",
    "- Composite Burn Index (CBI) Data for the Conterminous US, [Collected Between 1996 and 2018](https://www.sciencebase.gov/catalog/item/5d963705e4b0c4f70d110ee6)"
   ]
  },
  {
   "cell_type": "code",
   "execution_count": 4,
   "id": "eee8f69b",
   "metadata": {},
   "outputs": [],
   "source": [
    "import pandas as pd\n",
    "import matplotlib.pyplot as plt\n",
    "from osgeo import gdal\n",
    "import rasterio\n",
    "import altair as alt\n",
    "import altair_latimes as lat"
   ]
  },
  {
   "cell_type": "code",
   "execution_count": 5,
   "id": "bd446fb4",
   "metadata": {},
   "outputs": [
    {
     "data": {
      "text/plain": [
       "ThemeRegistry.enable('latimes')"
      ]
     },
     "execution_count": 5,
     "metadata": {},
     "output_type": "execute_result"
    }
   ],
   "source": [
    "alt.themes.register('latimes', lat.theme)\n",
    "alt.themes.enable('latimes')"
   ]
  },
  {
   "cell_type": "code",
   "execution_count": 7,
   "id": "24cf0b09",
   "metadata": {},
   "outputs": [],
   "source": [
    "def analyze_index(file):\n",
    "    raw = pd.read_csv(file, index_col = 0)\n",
    "    raw['percent_of_total'] = 0\n",
    "    df = raw.copy()\n",
    "    grouped = df.groupby('year').sqm.sum().reset_index()\n",
    "    for i in range(len(grouped)):\n",
    "        for k in range(len(df)):\n",
    "            if grouped.year[i] == df.year[k]:\n",
    "                df['percent_of_total'].iloc[k] = df.sqm[k] / grouped.sqm[i]\n",
    "    return grouped, df"
   ]
  },
  {
   "cell_type": "markdown",
   "id": "2a565746",
   "metadata": {},
   "source": [
    "# CBI-4 (burn severity index)"
   ]
  },
  {
   "cell_type": "code",
   "execution_count": 53,
   "id": "0c24fe3d",
   "metadata": {},
   "outputs": [
    {
     "name": "stderr",
     "output_type": "stream",
     "text": [
      "/var/folders/zv/3yvy_fbd0mz2lvqqtd13wypc0000gp/T/ipykernel_7371/2626247015.py:9: SettingWithCopyWarning: \n",
      "A value is trying to be set on a copy of a slice from a DataFrame\n",
      "\n",
      "See the caveats in the documentation: https://pandas.pydata.org/pandas-docs/stable/user_guide/indexing.html#returning-a-view-versus-a-copy\n",
      "  df['percent_of_total'].iloc[k] = df.sqm[k] / grouped.sqm[i]\n"
     ]
    }
   ],
   "source": [
    "cbi4_by_year, cbi4_by_index = analyze_index('output/sum_of_sierra_fire_size_by_burn_index.csv')"
   ]
  },
  {
   "cell_type": "code",
   "execution_count": 54,
   "id": "ce2fbe5e",
   "metadata": {},
   "outputs": [
    {
     "data": {
      "text/html": [
       "\n",
       "<div id=\"altair-viz-c51b4ac37d634241bda1dfe89751cbbf\"></div>\n",
       "<script type=\"text/javascript\">\n",
       "  var VEGA_DEBUG = (typeof VEGA_DEBUG == \"undefined\") ? {} : VEGA_DEBUG;\n",
       "  (function(spec, embedOpt){\n",
       "    let outputDiv = document.currentScript.previousElementSibling;\n",
       "    if (outputDiv.id !== \"altair-viz-c51b4ac37d634241bda1dfe89751cbbf\") {\n",
       "      outputDiv = document.getElementById(\"altair-viz-c51b4ac37d634241bda1dfe89751cbbf\");\n",
       "    }\n",
       "    const paths = {\n",
       "      \"vega\": \"https://cdn.jsdelivr.net/npm//vega@5?noext\",\n",
       "      \"vega-lib\": \"https://cdn.jsdelivr.net/npm//vega-lib?noext\",\n",
       "      \"vega-lite\": \"https://cdn.jsdelivr.net/npm//vega-lite@4.17.0?noext\",\n",
       "      \"vega-embed\": \"https://cdn.jsdelivr.net/npm//vega-embed@6?noext\",\n",
       "    };\n",
       "\n",
       "    function maybeLoadScript(lib, version) {\n",
       "      var key = `${lib.replace(\"-\", \"\")}_version`;\n",
       "      return (VEGA_DEBUG[key] == version) ?\n",
       "        Promise.resolve(paths[lib]) :\n",
       "        new Promise(function(resolve, reject) {\n",
       "          var s = document.createElement('script');\n",
       "          document.getElementsByTagName(\"head\")[0].appendChild(s);\n",
       "          s.async = true;\n",
       "          s.onload = () => {\n",
       "            VEGA_DEBUG[key] = version;\n",
       "            return resolve(paths[lib]);\n",
       "          };\n",
       "          s.onerror = () => reject(`Error loading script: ${paths[lib]}`);\n",
       "          s.src = paths[lib];\n",
       "        });\n",
       "    }\n",
       "\n",
       "    function showError(err) {\n",
       "      outputDiv.innerHTML = `<div class=\"error\" style=\"color:red;\">${err}</div>`;\n",
       "      throw err;\n",
       "    }\n",
       "\n",
       "    function displayChart(vegaEmbed) {\n",
       "      vegaEmbed(outputDiv, spec, embedOpt)\n",
       "        .catch(err => showError(`Javascript Error: ${err.message}<br>This usually means there's a typo in your chart specification. See the javascript console for the full traceback.`));\n",
       "    }\n",
       "\n",
       "    if(typeof define === \"function\" && define.amd) {\n",
       "      requirejs.config({paths});\n",
       "      require([\"vega-embed\"], displayChart, err => showError(`Error loading script: ${err.message}`));\n",
       "    } else {\n",
       "      maybeLoadScript(\"vega\", \"5\")\n",
       "        .then(() => maybeLoadScript(\"vega-lite\", \"4.17.0\"))\n",
       "        .then(() => maybeLoadScript(\"vega-embed\", \"6\"))\n",
       "        .catch(showError)\n",
       "        .then(() => displayChart(vegaEmbed));\n",
       "    }\n",
       "  })({\"config\": {\"view\": {\"width\": 800, \"height\": 450}, \"background\": \"#ffffff\", \"title\": {\"anchor\": \"start\", \"font\": \"BentonGothic-Bold, sans\", \"fontColor\": \"#000000\", \"fontSize\": 22, \"fontWeight\": \"normal\"}, \"arc\": {\"fill\": \"#82c6df\"}, \"area\": {\"fill\": \"#82c6df\"}, \"line\": {\"stroke\": \"#82c6df\", \"strokeWidth\": 3}, \"path\": {\"stroke\": \"#82c6df\"}, \"rect\": {\"fill\": \"#82c6df\"}, \"shape\": {\"stroke\": \"#82c6df\"}, \"bar\": {\"fill\": \"#82c6df\"}, \"point\": {\"stroke\": \"#82c6df\"}, \"symbol\": {\"fill\": \"#82c6df\", \"size\": 30}, \"axis\": {\"titleFont\": \"BentonGothic-Bold, sans\", \"titleFontSize\": 14, \"titleFontWeight\": \"normal\", \"labelFont\": \"BentonGothic, sans\", \"labelFontSize\": 12, \"labelFontWeight\": \"normal\"}, \"axisX\": {\"labelAngle\": 0, \"labelPadding\": 4, \"tickSize\": 3}, \"axisY\": {\"labelBaseline\": \"middle\", \"maxExtent\": 45, \"minExtent\": 45, \"tickSize\": 2, \"titleAlign\": \"left\", \"titleAngle\": 0, \"titleX\": -45, \"titleY\": -11}, \"legend\": {\"titleFont\": \"BentonGothic-Bold, sans\", \"titleFontSize\": 14, \"titleFontWeight\": \"normal\", \"symbolType\": \"square\", \"labelFont\": \"BentonGothic, sans\", \"labelFontSize\": 13}, \"range\": {\"category\": [\"#3580b1\", \"#ec8431\", \"#ab7fb4\", \"#c89d29\", \"#adc839\", \"#829eb1\"], \"diverging\": [\"#e68a4f\", \"#f4bb6a\", \"#f9e39c\", \"#dadfe2\", \"#a6b7c6\", \"#849eae\"], \"heatmap\": [\"#fbf2c7\", \"#f9e39c\", \"#f8d36e\", \"#f4bb6a\", \"#e68a4f\", \"#d15a40\", \"#ab4232\"], \"ordinal\": [\"#fbf2c7\", \"#f9e39c\", \"#f8d36e\", \"#f4bb6a\", \"#e68a4f\", \"#d15a40\", \"#ab4232\"], \"ramp\": [\"#fbf2c7\", \"#f9e39c\", \"#f8d36e\", \"#f4bb6a\", \"#e68a4f\", \"#d15a40\", \"#ab4232\"]}}, \"data\": {\"name\": \"data-e2728031c5a875d8a504bb422e2cbdde\"}, \"mark\": {\"type\": \"bar\", \"size\": 20}, \"encoding\": {\"tooltip\": [{\"field\": \"year\", \"type\": \"quantitative\"}, {\"field\": \"sqm\", \"type\": \"quantitative\"}], \"x\": {\"axis\": {\"format\": \"\"}, \"field\": \"year\", \"scale\": {\"domain\": [2012, 2021]}, \"title\": \"Year\", \"type\": \"quantitative\"}, \"y\": {\"axis\": {\"format\": \"\"}, \"field\": \"sqm\", \"title\": \"Sq. meters\", \"type\": \"quantitative\"}}, \"title\": \"Total area burned by year\", \"$schema\": \"https://vega.github.io/schema/vega-lite/v4.17.0.json\", \"datasets\": {\"data-e2728031c5a875d8a504bb422e2cbdde\": [{\"year\": 2012, \"sqm\": 642668400.0}, {\"year\": 2013, \"sqm\": 1314646200.0}, {\"year\": 2014, \"sqm\": 862642800.0}, {\"year\": 2015, \"sqm\": 710855100.0}, {\"year\": 2016, \"sqm\": 417717900.0}, {\"year\": 2017, \"sqm\": 601858800.0}, {\"year\": 2018, \"sqm\": 2086247700.0}, {\"year\": 2019, \"sqm\": 351221400.0}, {\"year\": 2020, \"sqm\": 4379948100.0}, {\"year\": 2021, \"sqm\": 6815169000.0}]}}, {\"mode\": \"vega-lite\"});\n",
       "</script>"
      ],
      "text/plain": [
       "alt.Chart(...)"
      ]
     },
     "execution_count": 54,
     "metadata": {},
     "output_type": "execute_result"
    }
   ],
   "source": [
    "alt.Chart(cbi4_by_year, title=\"Total area burned by year\").mark_bar(size=20).encode(\n",
    "    x=alt.X(\n",
    "        \"year\",\n",
    "        title=\"Year\",\n",
    "        axis=alt.Axis(format=''),\n",
    "        scale=alt.Scale(domain=[2012, 2021])\n",
    "    ),\n",
    "    y=alt.Y(\n",
    "        'sqm',\n",
    "        title='Sq. meters',\n",
    "        axis=alt.Axis(format=\"\"),\n",
    "    ),\n",
    "    tooltip=['year', 'sqm']\n",
    ")"
   ]
  },
  {
   "cell_type": "code",
   "execution_count": 55,
   "id": "76d7772c",
   "metadata": {},
   "outputs": [],
   "source": [
    "total_burn_after20 = cbi4_by_year.iloc[8:].sqm.sum()\n",
    "total_burn_before20 = cbi4_by_year.iloc[:8].sqm.sum()"
   ]
  },
  {
   "cell_type": "code",
   "execution_count": 56,
   "id": "e21fe4cb",
   "metadata": {},
   "outputs": [
    {
     "data": {
      "text/plain": [
       "1.6020812986433912"
      ]
     },
     "execution_count": 56,
     "metadata": {},
     "output_type": "execute_result"
    }
   ],
   "source": [
    "total_burn_after20 / total_burn_before20"
   ]
  },
  {
   "cell_type": "markdown",
   "id": "0b4eafb5",
   "metadata": {},
   "source": [
    "- The total area burned after 2020 was 1.6 times the total area burned from 2012 to 2019. \n",
    "- The total area burned in 2021 was 10.6 times that of 2012."
   ]
  },
  {
   "cell_type": "code",
   "execution_count": 58,
   "id": "8e8c1c94",
   "metadata": {},
   "outputs": [
    {
     "data": {
      "text/html": [
       "\n",
       "<div id=\"altair-viz-5bcf840fbf1b43c89bc5a8ce845ec4c9\"></div>\n",
       "<script type=\"text/javascript\">\n",
       "  var VEGA_DEBUG = (typeof VEGA_DEBUG == \"undefined\") ? {} : VEGA_DEBUG;\n",
       "  (function(spec, embedOpt){\n",
       "    let outputDiv = document.currentScript.previousElementSibling;\n",
       "    if (outputDiv.id !== \"altair-viz-5bcf840fbf1b43c89bc5a8ce845ec4c9\") {\n",
       "      outputDiv = document.getElementById(\"altair-viz-5bcf840fbf1b43c89bc5a8ce845ec4c9\");\n",
       "    }\n",
       "    const paths = {\n",
       "      \"vega\": \"https://cdn.jsdelivr.net/npm//vega@5?noext\",\n",
       "      \"vega-lib\": \"https://cdn.jsdelivr.net/npm//vega-lib?noext\",\n",
       "      \"vega-lite\": \"https://cdn.jsdelivr.net/npm//vega-lite@4.17.0?noext\",\n",
       "      \"vega-embed\": \"https://cdn.jsdelivr.net/npm//vega-embed@6?noext\",\n",
       "    };\n",
       "\n",
       "    function maybeLoadScript(lib, version) {\n",
       "      var key = `${lib.replace(\"-\", \"\")}_version`;\n",
       "      return (VEGA_DEBUG[key] == version) ?\n",
       "        Promise.resolve(paths[lib]) :\n",
       "        new Promise(function(resolve, reject) {\n",
       "          var s = document.createElement('script');\n",
       "          document.getElementsByTagName(\"head\")[0].appendChild(s);\n",
       "          s.async = true;\n",
       "          s.onload = () => {\n",
       "            VEGA_DEBUG[key] = version;\n",
       "            return resolve(paths[lib]);\n",
       "          };\n",
       "          s.onerror = () => reject(`Error loading script: ${paths[lib]}`);\n",
       "          s.src = paths[lib];\n",
       "        });\n",
       "    }\n",
       "\n",
       "    function showError(err) {\n",
       "      outputDiv.innerHTML = `<div class=\"error\" style=\"color:red;\">${err}</div>`;\n",
       "      throw err;\n",
       "    }\n",
       "\n",
       "    function displayChart(vegaEmbed) {\n",
       "      vegaEmbed(outputDiv, spec, embedOpt)\n",
       "        .catch(err => showError(`Javascript Error: ${err.message}<br>This usually means there's a typo in your chart specification. See the javascript console for the full traceback.`));\n",
       "    }\n",
       "\n",
       "    if(typeof define === \"function\" && define.amd) {\n",
       "      requirejs.config({paths});\n",
       "      require([\"vega-embed\"], displayChart, err => showError(`Error loading script: ${err.message}`));\n",
       "    } else {\n",
       "      maybeLoadScript(\"vega\", \"5\")\n",
       "        .then(() => maybeLoadScript(\"vega-lite\", \"4.17.0\"))\n",
       "        .then(() => maybeLoadScript(\"vega-embed\", \"6\"))\n",
       "        .catch(showError)\n",
       "        .then(() => displayChart(vegaEmbed));\n",
       "    }\n",
       "  })({\"config\": {\"view\": {\"width\": 800, \"height\": 450}, \"background\": \"#ffffff\", \"title\": {\"anchor\": \"start\", \"font\": \"BentonGothic-Bold, sans\", \"fontColor\": \"#000000\", \"fontSize\": 22, \"fontWeight\": \"normal\"}, \"arc\": {\"fill\": \"#82c6df\"}, \"area\": {\"fill\": \"#82c6df\"}, \"line\": {\"stroke\": \"#82c6df\", \"strokeWidth\": 3}, \"path\": {\"stroke\": \"#82c6df\"}, \"rect\": {\"fill\": \"#82c6df\"}, \"shape\": {\"stroke\": \"#82c6df\"}, \"bar\": {\"fill\": \"#82c6df\"}, \"point\": {\"stroke\": \"#82c6df\"}, \"symbol\": {\"fill\": \"#82c6df\", \"size\": 30}, \"axis\": {\"titleFont\": \"BentonGothic-Bold, sans\", \"titleFontSize\": 14, \"titleFontWeight\": \"normal\", \"labelFont\": \"BentonGothic, sans\", \"labelFontSize\": 12, \"labelFontWeight\": \"normal\"}, \"axisX\": {\"labelAngle\": 0, \"labelPadding\": 4, \"tickSize\": 3}, \"axisY\": {\"labelBaseline\": \"middle\", \"maxExtent\": 45, \"minExtent\": 45, \"tickSize\": 2, \"titleAlign\": \"left\", \"titleAngle\": 0, \"titleX\": -45, \"titleY\": -11}, \"legend\": {\"titleFont\": \"BentonGothic-Bold, sans\", \"titleFontSize\": 14, \"titleFontWeight\": \"normal\", \"symbolType\": \"square\", \"labelFont\": \"BentonGothic, sans\", \"labelFontSize\": 13}, \"range\": {\"category\": [\"#3580b1\", \"#ec8431\", \"#ab7fb4\", \"#c89d29\", \"#adc839\", \"#829eb1\"], \"diverging\": [\"#e68a4f\", \"#f4bb6a\", \"#f9e39c\", \"#dadfe2\", \"#a6b7c6\", \"#849eae\"], \"heatmap\": [\"#fbf2c7\", \"#f9e39c\", \"#f8d36e\", \"#f4bb6a\", \"#e68a4f\", \"#d15a40\", \"#ab4232\"], \"ordinal\": [\"#fbf2c7\", \"#f9e39c\", \"#f8d36e\", \"#f4bb6a\", \"#e68a4f\", \"#d15a40\", \"#ab4232\"], \"ramp\": [\"#fbf2c7\", \"#f9e39c\", \"#f8d36e\", \"#f4bb6a\", \"#e68a4f\", \"#d15a40\", \"#ab4232\"]}}, \"data\": {\"name\": \"data-c16d132eb33e7b234fc207f8f2bb7574\"}, \"mark\": {\"type\": \"bar\", \"size\": 20}, \"encoding\": {\"tooltip\": [{\"field\": \"year\", \"type\": \"quantitative\"}, {\"field\": \"sqm\", \"type\": \"quantitative\"}], \"x\": {\"axis\": {\"format\": \"\"}, \"field\": \"year\", \"scale\": {\"domain\": [2012, 2021]}, \"title\": \"Year\", \"type\": \"quantitative\"}, \"y\": {\"axis\": {\"format\": \"\"}, \"field\": \"sqm\", \"title\": \"Sq. meters\", \"type\": \"quantitative\"}}, \"title\": \"Total area burned at the highest severity by year\", \"$schema\": \"https://vega.github.io/schema/vega-lite/v4.17.0.json\", \"datasets\": {\"data-c16d132eb33e7b234fc207f8f2bb7574\": [{\"year\": 2012, \"ind\": 4, \"ind_name\": \"high\", \"sqm\": 133939800.0, \"percent_of_total\": 0.2084119897601936}, {\"year\": 2013, \"ind\": 4, \"ind_name\": \"high\", \"sqm\": 433031400.0, \"percent_of_total\": 0.32939006707660207}, {\"year\": 2014, \"ind\": 4, \"ind_name\": \"high\", \"sqm\": 411114600.0, \"percent_of_total\": 0.47657570433556046}, {\"year\": 2015, \"ind\": 4, \"ind_name\": \"high\", \"sqm\": 278251200.0, \"percent_of_total\": 0.3914316715178663}, {\"year\": 2016, \"ind\": 4, \"ind_name\": \"high\", \"sqm\": 214013700.0, \"percent_of_total\": 0.5123402660024864}, {\"year\": 2017, \"ind\": 4, \"ind_name\": \"high\", \"sqm\": 182121300.0, \"percent_of_total\": 0.30259805123726696}, {\"year\": 2018, \"ind\": 4, \"ind_name\": \"high\", \"sqm\": 524213100.0, \"percent_of_total\": 0.2512707863021251}, {\"year\": 2019, \"ind\": 4, \"ind_name\": \"high\", \"sqm\": 135410400.0, \"percent_of_total\": 0.385541427714826}, {\"year\": 2020, \"ind\": 4, \"ind_name\": \"high\", \"sqm\": 2098681200.0, \"percent_of_total\": 0.4791566365820636}, {\"year\": 2021, \"ind\": 4, \"ind_name\": \"high\", \"sqm\": 2993835600.0, \"percent_of_total\": 0.43929000146584773}]}}, {\"mode\": \"vega-lite\"});\n",
       "</script>"
      ],
      "text/plain": [
       "alt.Chart(...)"
      ]
     },
     "execution_count": 58,
     "metadata": {},
     "output_type": "execute_result"
    }
   ],
   "source": [
    "high_severity = cbi4_by_index[cbi4_by_index.ind == 4].reset_index(drop=True)\n",
    "\n",
    "alt.Chart(high_severity, title=\"Total area burned at the highest severity by year\").mark_bar(size=20).encode(\n",
    "    x=alt.X(\n",
    "        \"year\",\n",
    "        title=\"Year\",\n",
    "        axis=alt.Axis(format=''),\n",
    "        scale=alt.Scale(domain=[2012, 2021])\n",
    "    ),\n",
    "    y=alt.Y(\n",
    "        'sqm',\n",
    "        title='Sq. meters',\n",
    "        axis=alt.Axis(format=\"\"),\n",
    "    ),\n",
    "    tooltip=['year', 'sqm']\n",
    ")"
   ]
  },
  {
   "cell_type": "code",
   "execution_count": 23,
   "id": "6c2a7b10",
   "metadata": {},
   "outputs": [],
   "source": [
    "hsevere_after20 = high_severity.iloc[8:].sqm.sum()\n",
    "hsevere_before20 = high_severity.iloc[:8].sqm.sum()"
   ]
  },
  {
   "cell_type": "code",
   "execution_count": 24,
   "id": "1a049fbd",
   "metadata": {},
   "outputs": [
    {
     "data": {
      "text/plain": [
       "2.202554695513226"
      ]
     },
     "execution_count": 24,
     "metadata": {},
     "output_type": "execute_result"
    }
   ],
   "source": [
    "hsevere_after20 / hsevere_before20"
   ]
  },
  {
   "cell_type": "markdown",
   "id": "0a6bb4fd",
   "metadata": {},
   "source": [
    "- The total area burned at high severity after 2020 was 2.2 times that of 2012 to 2019.\n",
    "- In 2021, the total area burned at the highest severity level was 22 times that of 2012."
   ]
  },
  {
   "cell_type": "code",
   "execution_count": 62,
   "id": "11bdcb8b",
   "metadata": {},
   "outputs": [
    {
     "data": {
      "text/html": [
       "\n",
       "<div id=\"altair-viz-1d32236f635047f3b8e4188ab917dd60\"></div>\n",
       "<script type=\"text/javascript\">\n",
       "  var VEGA_DEBUG = (typeof VEGA_DEBUG == \"undefined\") ? {} : VEGA_DEBUG;\n",
       "  (function(spec, embedOpt){\n",
       "    let outputDiv = document.currentScript.previousElementSibling;\n",
       "    if (outputDiv.id !== \"altair-viz-1d32236f635047f3b8e4188ab917dd60\") {\n",
       "      outputDiv = document.getElementById(\"altair-viz-1d32236f635047f3b8e4188ab917dd60\");\n",
       "    }\n",
       "    const paths = {\n",
       "      \"vega\": \"https://cdn.jsdelivr.net/npm//vega@5?noext\",\n",
       "      \"vega-lib\": \"https://cdn.jsdelivr.net/npm//vega-lib?noext\",\n",
       "      \"vega-lite\": \"https://cdn.jsdelivr.net/npm//vega-lite@4.17.0?noext\",\n",
       "      \"vega-embed\": \"https://cdn.jsdelivr.net/npm//vega-embed@6?noext\",\n",
       "    };\n",
       "\n",
       "    function maybeLoadScript(lib, version) {\n",
       "      var key = `${lib.replace(\"-\", \"\")}_version`;\n",
       "      return (VEGA_DEBUG[key] == version) ?\n",
       "        Promise.resolve(paths[lib]) :\n",
       "        new Promise(function(resolve, reject) {\n",
       "          var s = document.createElement('script');\n",
       "          document.getElementsByTagName(\"head\")[0].appendChild(s);\n",
       "          s.async = true;\n",
       "          s.onload = () => {\n",
       "            VEGA_DEBUG[key] = version;\n",
       "            return resolve(paths[lib]);\n",
       "          };\n",
       "          s.onerror = () => reject(`Error loading script: ${paths[lib]}`);\n",
       "          s.src = paths[lib];\n",
       "        });\n",
       "    }\n",
       "\n",
       "    function showError(err) {\n",
       "      outputDiv.innerHTML = `<div class=\"error\" style=\"color:red;\">${err}</div>`;\n",
       "      throw err;\n",
       "    }\n",
       "\n",
       "    function displayChart(vegaEmbed) {\n",
       "      vegaEmbed(outputDiv, spec, embedOpt)\n",
       "        .catch(err => showError(`Javascript Error: ${err.message}<br>This usually means there's a typo in your chart specification. See the javascript console for the full traceback.`));\n",
       "    }\n",
       "\n",
       "    if(typeof define === \"function\" && define.amd) {\n",
       "      requirejs.config({paths});\n",
       "      require([\"vega-embed\"], displayChart, err => showError(`Error loading script: ${err.message}`));\n",
       "    } else {\n",
       "      maybeLoadScript(\"vega\", \"5\")\n",
       "        .then(() => maybeLoadScript(\"vega-lite\", \"4.17.0\"))\n",
       "        .then(() => maybeLoadScript(\"vega-embed\", \"6\"))\n",
       "        .catch(showError)\n",
       "        .then(() => displayChart(vegaEmbed));\n",
       "    }\n",
       "  })({\"config\": {\"view\": {\"width\": 800, \"height\": 450}, \"background\": \"#ffffff\", \"title\": {\"anchor\": \"start\", \"font\": \"BentonGothic-Bold, sans\", \"fontColor\": \"#000000\", \"fontSize\": 22, \"fontWeight\": \"normal\"}, \"arc\": {\"fill\": \"#82c6df\"}, \"area\": {\"fill\": \"#82c6df\"}, \"line\": {\"stroke\": \"#82c6df\", \"strokeWidth\": 3}, \"path\": {\"stroke\": \"#82c6df\"}, \"rect\": {\"fill\": \"#82c6df\"}, \"shape\": {\"stroke\": \"#82c6df\"}, \"bar\": {\"fill\": \"#82c6df\"}, \"point\": {\"stroke\": \"#82c6df\"}, \"symbol\": {\"fill\": \"#82c6df\", \"size\": 30}, \"axis\": {\"titleFont\": \"BentonGothic-Bold, sans\", \"titleFontSize\": 14, \"titleFontWeight\": \"normal\", \"labelFont\": \"BentonGothic, sans\", \"labelFontSize\": 12, \"labelFontWeight\": \"normal\"}, \"axisX\": {\"labelAngle\": 0, \"labelPadding\": 4, \"tickSize\": 3}, \"axisY\": {\"labelBaseline\": \"middle\", \"maxExtent\": 45, \"minExtent\": 45, \"tickSize\": 2, \"titleAlign\": \"left\", \"titleAngle\": 0, \"titleX\": -45, \"titleY\": -11}, \"legend\": {\"titleFont\": \"BentonGothic-Bold, sans\", \"titleFontSize\": 14, \"titleFontWeight\": \"normal\", \"symbolType\": \"square\", \"labelFont\": \"BentonGothic, sans\", \"labelFontSize\": 13}, \"range\": {\"category\": [\"#3580b1\", \"#ec8431\", \"#ab7fb4\", \"#c89d29\", \"#adc839\", \"#829eb1\"], \"diverging\": [\"#e68a4f\", \"#f4bb6a\", \"#f9e39c\", \"#dadfe2\", \"#a6b7c6\", \"#849eae\"], \"heatmap\": [\"#fbf2c7\", \"#f9e39c\", \"#f8d36e\", \"#f4bb6a\", \"#e68a4f\", \"#d15a40\", \"#ab4232\"], \"ordinal\": [\"#fbf2c7\", \"#f9e39c\", \"#f8d36e\", \"#f4bb6a\", \"#e68a4f\", \"#d15a40\", \"#ab4232\"], \"ramp\": [\"#fbf2c7\", \"#f9e39c\", \"#f8d36e\", \"#f4bb6a\", \"#e68a4f\", \"#d15a40\", \"#ab4232\"]}}, \"data\": {\"name\": \"data-c16d132eb33e7b234fc207f8f2bb7574\"}, \"mark\": {\"type\": \"bar\", \"size\": 20}, \"encoding\": {\"tooltip\": [{\"field\": \"year\", \"type\": \"quantitative\"}, {\"field\": \"percent_of_total\", \"type\": \"quantitative\"}], \"x\": {\"axis\": {\"format\": \"\"}, \"field\": \"year\", \"scale\": {\"domain\": [2012, 2021]}, \"title\": \"Year\", \"type\": \"quantitative\"}, \"y\": {\"axis\": {\"format\": \".0%\"}, \"field\": \"percent_of_total\", \"title\": \"\", \"type\": \"quantitative\"}}, \"title\": \"Percentage of total area burned at the highest severity by year\", \"$schema\": \"https://vega.github.io/schema/vega-lite/v4.17.0.json\", \"datasets\": {\"data-c16d132eb33e7b234fc207f8f2bb7574\": [{\"year\": 2012, \"ind\": 4, \"ind_name\": \"high\", \"sqm\": 133939800.0, \"percent_of_total\": 0.2084119897601936}, {\"year\": 2013, \"ind\": 4, \"ind_name\": \"high\", \"sqm\": 433031400.0, \"percent_of_total\": 0.32939006707660207}, {\"year\": 2014, \"ind\": 4, \"ind_name\": \"high\", \"sqm\": 411114600.0, \"percent_of_total\": 0.47657570433556046}, {\"year\": 2015, \"ind\": 4, \"ind_name\": \"high\", \"sqm\": 278251200.0, \"percent_of_total\": 0.3914316715178663}, {\"year\": 2016, \"ind\": 4, \"ind_name\": \"high\", \"sqm\": 214013700.0, \"percent_of_total\": 0.5123402660024864}, {\"year\": 2017, \"ind\": 4, \"ind_name\": \"high\", \"sqm\": 182121300.0, \"percent_of_total\": 0.30259805123726696}, {\"year\": 2018, \"ind\": 4, \"ind_name\": \"high\", \"sqm\": 524213100.0, \"percent_of_total\": 0.2512707863021251}, {\"year\": 2019, \"ind\": 4, \"ind_name\": \"high\", \"sqm\": 135410400.0, \"percent_of_total\": 0.385541427714826}, {\"year\": 2020, \"ind\": 4, \"ind_name\": \"high\", \"sqm\": 2098681200.0, \"percent_of_total\": 0.4791566365820636}, {\"year\": 2021, \"ind\": 4, \"ind_name\": \"high\", \"sqm\": 2993835600.0, \"percent_of_total\": 0.43929000146584773}]}}, {\"mode\": \"vega-lite\"});\n",
       "</script>"
      ],
      "text/plain": [
       "alt.Chart(...)"
      ]
     },
     "execution_count": 62,
     "metadata": {},
     "output_type": "execute_result"
    }
   ],
   "source": [
    "alt.Chart(high_severity, title=\"Percentage of total area burned at the highest severity by year\").mark_bar(size=20).encode(\n",
    "    x=alt.X(\n",
    "        \"year\",\n",
    "        title=\"Year\",\n",
    "        axis=alt.Axis(format=''),\n",
    "        scale=alt.Scale(domain=[2012, 2021])\n",
    "    ),\n",
    "    y=alt.Y(\n",
    "        'percent_of_total',\n",
    "        title='',\n",
    "        axis=alt.Axis(format=\".0%\"),\n",
    "    ),\n",
    "    tooltip=['year', 'percent_of_total']\n",
    ")"
   ]
  },
  {
   "cell_type": "markdown",
   "id": "be94aa13",
   "metadata": {},
   "source": [
    "The % of fire burned at the highest severity in Sierra Nevada peaked in 2016."
   ]
  },
  {
   "cell_type": "markdown",
   "id": "9df86452",
   "metadata": {},
   "source": [
    "# Basal area change"
   ]
  },
  {
   "cell_type": "code",
   "execution_count": 64,
   "id": "0f8128da",
   "metadata": {},
   "outputs": [
    {
     "name": "stderr",
     "output_type": "stream",
     "text": [
      "/var/folders/zv/3yvy_fbd0mz2lvqqtd13wypc0000gp/T/ipykernel_7371/2626247015.py:9: SettingWithCopyWarning: \n",
      "A value is trying to be set on a copy of a slice from a DataFrame\n",
      "\n",
      "See the caveats in the documentation: https://pandas.pydata.org/pandas-docs/stable/user_guide/indexing.html#returning-a-view-versus-a-copy\n",
      "  df['percent_of_total'].iloc[k] = df.sqm[k] / grouped.sqm[i]\n"
     ]
    }
   ],
   "source": [
    "ba_by_year, ba_by_index = analyze_index('output/sum_of_sierra_area_by_ba_index.csv')"
   ]
  },
  {
   "cell_type": "code",
   "execution_count": 65,
   "id": "13f5bed6",
   "metadata": {},
   "outputs": [
    {
     "data": {
      "text/html": [
       "\n",
       "<div id=\"altair-viz-384c56f64b064cd1994873f192c5d34d\"></div>\n",
       "<script type=\"text/javascript\">\n",
       "  var VEGA_DEBUG = (typeof VEGA_DEBUG == \"undefined\") ? {} : VEGA_DEBUG;\n",
       "  (function(spec, embedOpt){\n",
       "    let outputDiv = document.currentScript.previousElementSibling;\n",
       "    if (outputDiv.id !== \"altair-viz-384c56f64b064cd1994873f192c5d34d\") {\n",
       "      outputDiv = document.getElementById(\"altair-viz-384c56f64b064cd1994873f192c5d34d\");\n",
       "    }\n",
       "    const paths = {\n",
       "      \"vega\": \"https://cdn.jsdelivr.net/npm//vega@5?noext\",\n",
       "      \"vega-lib\": \"https://cdn.jsdelivr.net/npm//vega-lib?noext\",\n",
       "      \"vega-lite\": \"https://cdn.jsdelivr.net/npm//vega-lite@4.17.0?noext\",\n",
       "      \"vega-embed\": \"https://cdn.jsdelivr.net/npm//vega-embed@6?noext\",\n",
       "    };\n",
       "\n",
       "    function maybeLoadScript(lib, version) {\n",
       "      var key = `${lib.replace(\"-\", \"\")}_version`;\n",
       "      return (VEGA_DEBUG[key] == version) ?\n",
       "        Promise.resolve(paths[lib]) :\n",
       "        new Promise(function(resolve, reject) {\n",
       "          var s = document.createElement('script');\n",
       "          document.getElementsByTagName(\"head\")[0].appendChild(s);\n",
       "          s.async = true;\n",
       "          s.onload = () => {\n",
       "            VEGA_DEBUG[key] = version;\n",
       "            return resolve(paths[lib]);\n",
       "          };\n",
       "          s.onerror = () => reject(`Error loading script: ${paths[lib]}`);\n",
       "          s.src = paths[lib];\n",
       "        });\n",
       "    }\n",
       "\n",
       "    function showError(err) {\n",
       "      outputDiv.innerHTML = `<div class=\"error\" style=\"color:red;\">${err}</div>`;\n",
       "      throw err;\n",
       "    }\n",
       "\n",
       "    function displayChart(vegaEmbed) {\n",
       "      vegaEmbed(outputDiv, spec, embedOpt)\n",
       "        .catch(err => showError(`Javascript Error: ${err.message}<br>This usually means there's a typo in your chart specification. See the javascript console for the full traceback.`));\n",
       "    }\n",
       "\n",
       "    if(typeof define === \"function\" && define.amd) {\n",
       "      requirejs.config({paths});\n",
       "      require([\"vega-embed\"], displayChart, err => showError(`Error loading script: ${err.message}`));\n",
       "    } else {\n",
       "      maybeLoadScript(\"vega\", \"5\")\n",
       "        .then(() => maybeLoadScript(\"vega-lite\", \"4.17.0\"))\n",
       "        .then(() => maybeLoadScript(\"vega-embed\", \"6\"))\n",
       "        .catch(showError)\n",
       "        .then(() => displayChart(vegaEmbed));\n",
       "    }\n",
       "  })({\"config\": {\"view\": {\"width\": 800, \"height\": 450}, \"background\": \"#ffffff\", \"title\": {\"anchor\": \"start\", \"font\": \"BentonGothic-Bold, sans\", \"fontColor\": \"#000000\", \"fontSize\": 22, \"fontWeight\": \"normal\"}, \"arc\": {\"fill\": \"#82c6df\"}, \"area\": {\"fill\": \"#82c6df\"}, \"line\": {\"stroke\": \"#82c6df\", \"strokeWidth\": 3}, \"path\": {\"stroke\": \"#82c6df\"}, \"rect\": {\"fill\": \"#82c6df\"}, \"shape\": {\"stroke\": \"#82c6df\"}, \"bar\": {\"fill\": \"#82c6df\"}, \"point\": {\"stroke\": \"#82c6df\"}, \"symbol\": {\"fill\": \"#82c6df\", \"size\": 30}, \"axis\": {\"titleFont\": \"BentonGothic-Bold, sans\", \"titleFontSize\": 14, \"titleFontWeight\": \"normal\", \"labelFont\": \"BentonGothic, sans\", \"labelFontSize\": 12, \"labelFontWeight\": \"normal\"}, \"axisX\": {\"labelAngle\": 0, \"labelPadding\": 4, \"tickSize\": 3}, \"axisY\": {\"labelBaseline\": \"middle\", \"maxExtent\": 45, \"minExtent\": 45, \"tickSize\": 2, \"titleAlign\": \"left\", \"titleAngle\": 0, \"titleX\": -45, \"titleY\": -11}, \"legend\": {\"titleFont\": \"BentonGothic-Bold, sans\", \"titleFontSize\": 14, \"titleFontWeight\": \"normal\", \"symbolType\": \"square\", \"labelFont\": \"BentonGothic, sans\", \"labelFontSize\": 13}, \"range\": {\"category\": [\"#3580b1\", \"#ec8431\", \"#ab7fb4\", \"#c89d29\", \"#adc839\", \"#829eb1\"], \"diverging\": [\"#e68a4f\", \"#f4bb6a\", \"#f9e39c\", \"#dadfe2\", \"#a6b7c6\", \"#849eae\"], \"heatmap\": [\"#fbf2c7\", \"#f9e39c\", \"#f8d36e\", \"#f4bb6a\", \"#e68a4f\", \"#d15a40\", \"#ab4232\"], \"ordinal\": [\"#fbf2c7\", \"#f9e39c\", \"#f8d36e\", \"#f4bb6a\", \"#e68a4f\", \"#d15a40\", \"#ab4232\"], \"ramp\": [\"#fbf2c7\", \"#f9e39c\", \"#f8d36e\", \"#f4bb6a\", \"#e68a4f\", \"#d15a40\", \"#ab4232\"]}}, \"data\": {\"name\": \"data-9d0b2a7145162b2476287a5e98d102f0\"}, \"mark\": {\"type\": \"bar\", \"size\": 20}, \"encoding\": {\"tooltip\": [{\"field\": \"year\", \"type\": \"quantitative\"}, {\"field\": \"sqm\", \"type\": \"quantitative\"}], \"x\": {\"axis\": {\"format\": \"\"}, \"field\": \"year\", \"scale\": {\"domain\": [2012, 2021]}, \"title\": \"Year\", \"type\": \"quantitative\"}, \"y\": {\"axis\": {\"format\": \"\"}, \"field\": \"sqm\", \"title\": \"Sq. meters\", \"type\": \"quantitative\"}}, \"title\": \"Areas with more than 90% basal loss by year, sq. mt\", \"$schema\": \"https://vega.github.io/schema/vega-lite/v4.17.0.json\", \"datasets\": {\"data-9d0b2a7145162b2476287a5e98d102f0\": [{\"year\": 2012, \"ind\": 7, \"ind_name\": \">=90%\", \"sqm\": 137120400.0, \"percent_of_total\": 0.21336104280216672}, {\"year\": 2013, \"ind\": 7, \"ind_name\": \">=90%\", \"sqm\": 444368700.0, \"percent_of_total\": 0.33801390822869304}, {\"year\": 2014, \"ind\": 7, \"ind_name\": \">=90%\", \"sqm\": 413415900.0, \"percent_of_total\": 0.4792434365649374}, {\"year\": 2015, \"ind\": 7, \"ind_name\": \">=90%\", \"sqm\": 280604700.0, \"percent_of_total\": 0.39474247283307107}, {\"year\": 2016, \"ind\": 7, \"ind_name\": \">=90%\", \"sqm\": 215200800.0, \"percent_of_total\": 0.5151821360779607}, {\"year\": 2017, \"ind\": 7, \"ind_name\": \">=90%\", \"sqm\": 178033500.0, \"percent_of_total\": 0.29580609272473873}, {\"year\": 2018, \"ind\": 7, \"ind_name\": \">=90%\", \"sqm\": 513025200.0, \"percent_of_total\": 0.24590809614793105}, {\"year\": 2019, \"ind\": 7, \"ind_name\": \">=90%\", \"sqm\": 133333200.0, \"percent_of_total\": 0.3796272095037489}, {\"year\": 2020, \"ind\": 7, \"ind_name\": \">=90%\", \"sqm\": 2073736800.0, \"percent_of_total\": 0.4734615006054524}, {\"year\": 2021, \"ind\": 7, \"ind_name\": \">=90%\", \"sqm\": 2950955100.0, \"percent_of_total\": 0.4329980811921172}]}}, {\"mode\": \"vega-lite\"});\n",
       "</script>"
      ],
      "text/plain": [
       "alt.Chart(...)"
      ]
     },
     "execution_count": 65,
     "metadata": {},
     "output_type": "execute_result"
    }
   ],
   "source": [
    "ba_loss_ninety = ba_by_index[ba_by_index.ind == 7].reset_index(drop=True)\n",
    "\n",
    "alt.Chart(ba_loss_ninety, title=\"Areas with more than 90% basal loss by year, sq. mt\").mark_bar(size=20).encode(\n",
    "    x=alt.X(\n",
    "        \"year\",\n",
    "        title=\"Year\",\n",
    "        axis=alt.Axis(format=''),\n",
    "        scale=alt.Scale(domain=[2012, 2021])\n",
    "    ),\n",
    "    y=alt.Y(\n",
    "        'sqm',\n",
    "        title='Sq. meters',\n",
    "        axis=alt.Axis(format=\"\"),\n",
    "    ),\n",
    "    tooltip=['year', 'sqm']\n",
    ")"
   ]
  },
  {
   "cell_type": "markdown",
   "id": "db7d7f86",
   "metadata": {},
   "source": [
    "Wildfire land that had lost more than 90% of its basal area totaled 2.95 billion square meters in 2021."
   ]
  },
  {
   "cell_type": "code",
   "execution_count": 100,
   "id": "53e737d0",
   "metadata": {},
   "outputs": [
    {
     "data": {
      "text/html": [
       "<div>\n",
       "<style scoped>\n",
       "    .dataframe tbody tr th:only-of-type {\n",
       "        vertical-align: middle;\n",
       "    }\n",
       "\n",
       "    .dataframe tbody tr th {\n",
       "        vertical-align: top;\n",
       "    }\n",
       "\n",
       "    .dataframe thead th {\n",
       "        text-align: right;\n",
       "    }\n",
       "</style>\n",
       "<table border=\"1\" class=\"dataframe\">\n",
       "  <thead>\n",
       "    <tr style=\"text-align: right;\">\n",
       "      <th></th>\n",
       "      <th>year</th>\n",
       "      <th>ind</th>\n",
       "      <th>ind_name</th>\n",
       "      <th>sqm</th>\n",
       "      <th>percent_of_total</th>\n",
       "    </tr>\n",
       "  </thead>\n",
       "  <tbody>\n",
       "    <tr>\n",
       "      <th>0</th>\n",
       "      <td>2012</td>\n",
       "      <td>7</td>\n",
       "      <td>&gt;=90%</td>\n",
       "      <td>1.371204e+08</td>\n",
       "      <td>0.213361</td>\n",
       "    </tr>\n",
       "    <tr>\n",
       "      <th>1</th>\n",
       "      <td>2013</td>\n",
       "      <td>7</td>\n",
       "      <td>&gt;=90%</td>\n",
       "      <td>4.443687e+08</td>\n",
       "      <td>0.338014</td>\n",
       "    </tr>\n",
       "    <tr>\n",
       "      <th>2</th>\n",
       "      <td>2014</td>\n",
       "      <td>7</td>\n",
       "      <td>&gt;=90%</td>\n",
       "      <td>4.134159e+08</td>\n",
       "      <td>0.479243</td>\n",
       "    </tr>\n",
       "    <tr>\n",
       "      <th>3</th>\n",
       "      <td>2015</td>\n",
       "      <td>7</td>\n",
       "      <td>&gt;=90%</td>\n",
       "      <td>2.806047e+08</td>\n",
       "      <td>0.394742</td>\n",
       "    </tr>\n",
       "    <tr>\n",
       "      <th>4</th>\n",
       "      <td>2016</td>\n",
       "      <td>7</td>\n",
       "      <td>&gt;=90%</td>\n",
       "      <td>2.152008e+08</td>\n",
       "      <td>0.515182</td>\n",
       "    </tr>\n",
       "    <tr>\n",
       "      <th>5</th>\n",
       "      <td>2017</td>\n",
       "      <td>7</td>\n",
       "      <td>&gt;=90%</td>\n",
       "      <td>1.780335e+08</td>\n",
       "      <td>0.295806</td>\n",
       "    </tr>\n",
       "    <tr>\n",
       "      <th>6</th>\n",
       "      <td>2018</td>\n",
       "      <td>7</td>\n",
       "      <td>&gt;=90%</td>\n",
       "      <td>5.130252e+08</td>\n",
       "      <td>0.245908</td>\n",
       "    </tr>\n",
       "    <tr>\n",
       "      <th>7</th>\n",
       "      <td>2019</td>\n",
       "      <td>7</td>\n",
       "      <td>&gt;=90%</td>\n",
       "      <td>1.333332e+08</td>\n",
       "      <td>0.379627</td>\n",
       "    </tr>\n",
       "    <tr>\n",
       "      <th>8</th>\n",
       "      <td>2020</td>\n",
       "      <td>7</td>\n",
       "      <td>&gt;=90%</td>\n",
       "      <td>2.073737e+09</td>\n",
       "      <td>0.473462</td>\n",
       "    </tr>\n",
       "    <tr>\n",
       "      <th>9</th>\n",
       "      <td>2021</td>\n",
       "      <td>7</td>\n",
       "      <td>&gt;=90%</td>\n",
       "      <td>2.950955e+09</td>\n",
       "      <td>0.432998</td>\n",
       "    </tr>\n",
       "  </tbody>\n",
       "</table>\n",
       "</div>"
      ],
      "text/plain": [
       "   year  ind ind_name           sqm  percent_of_total\n",
       "0  2012    7    >=90%  1.371204e+08          0.213361\n",
       "1  2013    7    >=90%  4.443687e+08          0.338014\n",
       "2  2014    7    >=90%  4.134159e+08          0.479243\n",
       "3  2015    7    >=90%  2.806047e+08          0.394742\n",
       "4  2016    7    >=90%  2.152008e+08          0.515182\n",
       "5  2017    7    >=90%  1.780335e+08          0.295806\n",
       "6  2018    7    >=90%  5.130252e+08          0.245908\n",
       "7  2019    7    >=90%  1.333332e+08          0.379627\n",
       "8  2020    7    >=90%  2.073737e+09          0.473462\n",
       "9  2021    7    >=90%  2.950955e+09          0.432998"
      ]
     },
     "execution_count": 100,
     "metadata": {},
     "output_type": "execute_result"
    }
   ],
   "source": [
    "ba_loss_ninety"
   ]
  },
  {
   "cell_type": "markdown",
   "id": "35f4e815",
   "metadata": {},
   "source": [
    "# Canopy coverage loss"
   ]
  },
  {
   "cell_type": "code",
   "execution_count": 66,
   "id": "187d4b4f",
   "metadata": {},
   "outputs": [
    {
     "name": "stderr",
     "output_type": "stream",
     "text": [
      "/var/folders/zv/3yvy_fbd0mz2lvqqtd13wypc0000gp/T/ipykernel_7371/2626247015.py:9: SettingWithCopyWarning: \n",
      "A value is trying to be set on a copy of a slice from a DataFrame\n",
      "\n",
      "See the caveats in the documentation: https://pandas.pydata.org/pandas-docs/stable/user_guide/indexing.html#returning-a-view-versus-a-copy\n",
      "  df['percent_of_total'].iloc[k] = df.sqm[k] / grouped.sqm[i]\n"
     ]
    }
   ],
   "source": [
    "cc_by_year, cc_by_index = analyze_index('output/sum_of_sierra_area_by_cc_index.csv')"
   ]
  },
  {
   "cell_type": "code",
   "execution_count": 67,
   "id": "b53d711a",
   "metadata": {},
   "outputs": [
    {
     "data": {
      "text/html": [
       "\n",
       "<div id=\"altair-viz-cbade56731e141b78a63c812d51c9320\"></div>\n",
       "<script type=\"text/javascript\">\n",
       "  var VEGA_DEBUG = (typeof VEGA_DEBUG == \"undefined\") ? {} : VEGA_DEBUG;\n",
       "  (function(spec, embedOpt){\n",
       "    let outputDiv = document.currentScript.previousElementSibling;\n",
       "    if (outputDiv.id !== \"altair-viz-cbade56731e141b78a63c812d51c9320\") {\n",
       "      outputDiv = document.getElementById(\"altair-viz-cbade56731e141b78a63c812d51c9320\");\n",
       "    }\n",
       "    const paths = {\n",
       "      \"vega\": \"https://cdn.jsdelivr.net/npm//vega@5?noext\",\n",
       "      \"vega-lib\": \"https://cdn.jsdelivr.net/npm//vega-lib?noext\",\n",
       "      \"vega-lite\": \"https://cdn.jsdelivr.net/npm//vega-lite@4.17.0?noext\",\n",
       "      \"vega-embed\": \"https://cdn.jsdelivr.net/npm//vega-embed@6?noext\",\n",
       "    };\n",
       "\n",
       "    function maybeLoadScript(lib, version) {\n",
       "      var key = `${lib.replace(\"-\", \"\")}_version`;\n",
       "      return (VEGA_DEBUG[key] == version) ?\n",
       "        Promise.resolve(paths[lib]) :\n",
       "        new Promise(function(resolve, reject) {\n",
       "          var s = document.createElement('script');\n",
       "          document.getElementsByTagName(\"head\")[0].appendChild(s);\n",
       "          s.async = true;\n",
       "          s.onload = () => {\n",
       "            VEGA_DEBUG[key] = version;\n",
       "            return resolve(paths[lib]);\n",
       "          };\n",
       "          s.onerror = () => reject(`Error loading script: ${paths[lib]}`);\n",
       "          s.src = paths[lib];\n",
       "        });\n",
       "    }\n",
       "\n",
       "    function showError(err) {\n",
       "      outputDiv.innerHTML = `<div class=\"error\" style=\"color:red;\">${err}</div>`;\n",
       "      throw err;\n",
       "    }\n",
       "\n",
       "    function displayChart(vegaEmbed) {\n",
       "      vegaEmbed(outputDiv, spec, embedOpt)\n",
       "        .catch(err => showError(`Javascript Error: ${err.message}<br>This usually means there's a typo in your chart specification. See the javascript console for the full traceback.`));\n",
       "    }\n",
       "\n",
       "    if(typeof define === \"function\" && define.amd) {\n",
       "      requirejs.config({paths});\n",
       "      require([\"vega-embed\"], displayChart, err => showError(`Error loading script: ${err.message}`));\n",
       "    } else {\n",
       "      maybeLoadScript(\"vega\", \"5\")\n",
       "        .then(() => maybeLoadScript(\"vega-lite\", \"4.17.0\"))\n",
       "        .then(() => maybeLoadScript(\"vega-embed\", \"6\"))\n",
       "        .catch(showError)\n",
       "        .then(() => displayChart(vegaEmbed));\n",
       "    }\n",
       "  })({\"config\": {\"view\": {\"width\": 800, \"height\": 450}, \"background\": \"#ffffff\", \"title\": {\"anchor\": \"start\", \"font\": \"BentonGothic-Bold, sans\", \"fontColor\": \"#000000\", \"fontSize\": 22, \"fontWeight\": \"normal\"}, \"arc\": {\"fill\": \"#82c6df\"}, \"area\": {\"fill\": \"#82c6df\"}, \"line\": {\"stroke\": \"#82c6df\", \"strokeWidth\": 3}, \"path\": {\"stroke\": \"#82c6df\"}, \"rect\": {\"fill\": \"#82c6df\"}, \"shape\": {\"stroke\": \"#82c6df\"}, \"bar\": {\"fill\": \"#82c6df\"}, \"point\": {\"stroke\": \"#82c6df\"}, \"symbol\": {\"fill\": \"#82c6df\", \"size\": 30}, \"axis\": {\"titleFont\": \"BentonGothic-Bold, sans\", \"titleFontSize\": 14, \"titleFontWeight\": \"normal\", \"labelFont\": \"BentonGothic, sans\", \"labelFontSize\": 12, \"labelFontWeight\": \"normal\"}, \"axisX\": {\"labelAngle\": 0, \"labelPadding\": 4, \"tickSize\": 3}, \"axisY\": {\"labelBaseline\": \"middle\", \"maxExtent\": 45, \"minExtent\": 45, \"tickSize\": 2, \"titleAlign\": \"left\", \"titleAngle\": 0, \"titleX\": -45, \"titleY\": -11}, \"legend\": {\"titleFont\": \"BentonGothic-Bold, sans\", \"titleFontSize\": 14, \"titleFontWeight\": \"normal\", \"symbolType\": \"square\", \"labelFont\": \"BentonGothic, sans\", \"labelFontSize\": 13}, \"range\": {\"category\": [\"#3580b1\", \"#ec8431\", \"#ab7fb4\", \"#c89d29\", \"#adc839\", \"#829eb1\"], \"diverging\": [\"#e68a4f\", \"#f4bb6a\", \"#f9e39c\", \"#dadfe2\", \"#a6b7c6\", \"#849eae\"], \"heatmap\": [\"#fbf2c7\", \"#f9e39c\", \"#f8d36e\", \"#f4bb6a\", \"#e68a4f\", \"#d15a40\", \"#ab4232\"], \"ordinal\": [\"#fbf2c7\", \"#f9e39c\", \"#f8d36e\", \"#f4bb6a\", \"#e68a4f\", \"#d15a40\", \"#ab4232\"], \"ramp\": [\"#fbf2c7\", \"#f9e39c\", \"#f8d36e\", \"#f4bb6a\", \"#e68a4f\", \"#d15a40\", \"#ab4232\"]}}, \"data\": {\"name\": \"data-18b0194b4950d7d665a7841b1684a228\"}, \"mark\": {\"type\": \"bar\", \"size\": 20}, \"encoding\": {\"tooltip\": [{\"field\": \"year\", \"type\": \"quantitative\"}, {\"field\": \"sqm\", \"type\": \"quantitative\"}], \"x\": {\"axis\": {\"format\": \"\"}, \"field\": \"year\", \"scale\": {\"domain\": [2012, 2021]}, \"title\": \"Year\", \"type\": \"quantitative\"}, \"y\": {\"axis\": {\"format\": \"\"}, \"field\": \"sqm\", \"title\": \"Sq. meters\", \"type\": \"quantitative\"}}, \"title\": \"Areas with more than 75% canopy coverage loss by year, sq. mt\", \"$schema\": \"https://vega.github.io/schema/vega-lite/v4.17.0.json\", \"datasets\": {\"data-18b0194b4950d7d665a7841b1684a228\": [{\"year\": 2012, \"ind\": 5, \"ind_name\": \">=75%\", \"sqm\": 163584000.0, \"percent_of_total\": 0.2545387325718831}, {\"year\": 2013, \"ind\": 5, \"ind_name\": \">=75%\", \"sqm\": 507177000.0, \"percent_of_total\": 0.38578972806523915}, {\"year\": 2014, \"ind\": 5, \"ind_name\": \">=75%\", \"sqm\": 455736600.0, \"percent_of_total\": 0.5283027923029091}, {\"year\": 2015, \"ind\": 5, \"ind_name\": \">=75%\", \"sqm\": 322365600.0, \"percent_of_total\": 0.45348988844561994}, {\"year\": 2016, \"ind\": 5, \"ind_name\": \">=75%\", \"sqm\": 237758400.0, \"percent_of_total\": 0.5691841312043368}, {\"year\": 2017, \"ind\": 5, \"ind_name\": \">=75%\", \"sqm\": 213832800.0, \"percent_of_total\": 0.35528731988300244}, {\"year\": 2018, \"ind\": 5, \"ind_name\": \">=75%\", \"sqm\": 612491400.0, \"percent_of_total\": 0.2935851768704167}, {\"year\": 2019, \"ind\": 5, \"ind_name\": \">=75%\", \"sqm\": 151162200.0, \"percent_of_total\": 0.4303900616534186}, {\"year\": 2020, \"ind\": 5, \"ind_name\": \">=75%\", \"sqm\": 2283599700.0, \"percent_of_total\": 0.5213759724687149}, {\"year\": 2021, \"ind\": 5, \"ind_name\": \">=75%\", \"sqm\": 3306032100.0, \"percent_of_total\": 0.4850990635742122}]}}, {\"mode\": \"vega-lite\"});\n",
       "</script>"
      ],
      "text/plain": [
       "alt.Chart(...)"
      ]
     },
     "execution_count": 67,
     "metadata": {},
     "output_type": "execute_result"
    }
   ],
   "source": [
    "cc_loss_svnfv = cc_by_index[cc_by_index.ind == 5].reset_index(drop=True)\n",
    "\n",
    "alt.Chart(cc_loss_svnfv, title=\"Areas with more than 75% canopy coverage loss by year, sq. mt\").mark_bar(size=20).encode(\n",
    "    x=alt.X(\n",
    "        \"year\",\n",
    "        title=\"Year\",\n",
    "        axis=alt.Axis(format=''),\n",
    "        scale=alt.Scale(domain=[2012, 2021])\n",
    "    ),\n",
    "    y=alt.Y(\n",
    "        'sqm',\n",
    "        title='Sq. meters',\n",
    "        axis=alt.Axis(format=\"\"),\n",
    "    ),\n",
    "    tooltip=['year', 'sqm']\n",
    ")"
   ]
  },
  {
   "cell_type": "markdown",
   "id": "d7c2826e",
   "metadata": {},
   "source": [
    "3.36 billion square meters of wildfire land lost more than 75% of its canopy coverage in 2021."
   ]
  },
  {
   "cell_type": "code",
   "execution_count": 101,
   "id": "83699ad0",
   "metadata": {},
   "outputs": [
    {
     "data": {
      "text/html": [
       "<div>\n",
       "<style scoped>\n",
       "    .dataframe tbody tr th:only-of-type {\n",
       "        vertical-align: middle;\n",
       "    }\n",
       "\n",
       "    .dataframe tbody tr th {\n",
       "        vertical-align: top;\n",
       "    }\n",
       "\n",
       "    .dataframe thead th {\n",
       "        text-align: right;\n",
       "    }\n",
       "</style>\n",
       "<table border=\"1\" class=\"dataframe\">\n",
       "  <thead>\n",
       "    <tr style=\"text-align: right;\">\n",
       "      <th></th>\n",
       "      <th>year</th>\n",
       "      <th>ind</th>\n",
       "      <th>ind_name</th>\n",
       "      <th>sqm</th>\n",
       "      <th>percent_of_total</th>\n",
       "    </tr>\n",
       "  </thead>\n",
       "  <tbody>\n",
       "    <tr>\n",
       "      <th>0</th>\n",
       "      <td>2012</td>\n",
       "      <td>5</td>\n",
       "      <td>&gt;=75%</td>\n",
       "      <td>1.635840e+08</td>\n",
       "      <td>0.254539</td>\n",
       "    </tr>\n",
       "    <tr>\n",
       "      <th>1</th>\n",
       "      <td>2013</td>\n",
       "      <td>5</td>\n",
       "      <td>&gt;=75%</td>\n",
       "      <td>5.071770e+08</td>\n",
       "      <td>0.385790</td>\n",
       "    </tr>\n",
       "    <tr>\n",
       "      <th>2</th>\n",
       "      <td>2014</td>\n",
       "      <td>5</td>\n",
       "      <td>&gt;=75%</td>\n",
       "      <td>4.557366e+08</td>\n",
       "      <td>0.528303</td>\n",
       "    </tr>\n",
       "    <tr>\n",
       "      <th>3</th>\n",
       "      <td>2015</td>\n",
       "      <td>5</td>\n",
       "      <td>&gt;=75%</td>\n",
       "      <td>3.223656e+08</td>\n",
       "      <td>0.453490</td>\n",
       "    </tr>\n",
       "    <tr>\n",
       "      <th>4</th>\n",
       "      <td>2016</td>\n",
       "      <td>5</td>\n",
       "      <td>&gt;=75%</td>\n",
       "      <td>2.377584e+08</td>\n",
       "      <td>0.569184</td>\n",
       "    </tr>\n",
       "    <tr>\n",
       "      <th>5</th>\n",
       "      <td>2017</td>\n",
       "      <td>5</td>\n",
       "      <td>&gt;=75%</td>\n",
       "      <td>2.138328e+08</td>\n",
       "      <td>0.355287</td>\n",
       "    </tr>\n",
       "    <tr>\n",
       "      <th>6</th>\n",
       "      <td>2018</td>\n",
       "      <td>5</td>\n",
       "      <td>&gt;=75%</td>\n",
       "      <td>6.124914e+08</td>\n",
       "      <td>0.293585</td>\n",
       "    </tr>\n",
       "    <tr>\n",
       "      <th>7</th>\n",
       "      <td>2019</td>\n",
       "      <td>5</td>\n",
       "      <td>&gt;=75%</td>\n",
       "      <td>1.511622e+08</td>\n",
       "      <td>0.430390</td>\n",
       "    </tr>\n",
       "    <tr>\n",
       "      <th>8</th>\n",
       "      <td>2020</td>\n",
       "      <td>5</td>\n",
       "      <td>&gt;=75%</td>\n",
       "      <td>2.283600e+09</td>\n",
       "      <td>0.521376</td>\n",
       "    </tr>\n",
       "    <tr>\n",
       "      <th>9</th>\n",
       "      <td>2021</td>\n",
       "      <td>5</td>\n",
       "      <td>&gt;=75%</td>\n",
       "      <td>3.306032e+09</td>\n",
       "      <td>0.485099</td>\n",
       "    </tr>\n",
       "  </tbody>\n",
       "</table>\n",
       "</div>"
      ],
      "text/plain": [
       "   year  ind ind_name           sqm  percent_of_total\n",
       "0  2012    5    >=75%  1.635840e+08          0.254539\n",
       "1  2013    5    >=75%  5.071770e+08          0.385790\n",
       "2  2014    5    >=75%  4.557366e+08          0.528303\n",
       "3  2015    5    >=75%  3.223656e+08          0.453490\n",
       "4  2016    5    >=75%  2.377584e+08          0.569184\n",
       "5  2017    5    >=75%  2.138328e+08          0.355287\n",
       "6  2018    5    >=75%  6.124914e+08          0.293585\n",
       "7  2019    5    >=75%  1.511622e+08          0.430390\n",
       "8  2020    5    >=75%  2.283600e+09          0.521376\n",
       "9  2021    5    >=75%  3.306032e+09          0.485099"
      ]
     },
     "execution_count": 101,
     "metadata": {},
     "output_type": "execute_result"
    }
   ],
   "source": [
    "cc_loss_svnfv"
   ]
  },
  {
   "cell_type": "code",
   "execution_count": 28,
   "id": "099a8ccc",
   "metadata": {},
   "outputs": [],
   "source": [
    "# def read_geotiff(file):\n",
    "#     df = rasterio.open(file)\n",
    "#     return df\n",
    "\n",
    "# tif_ls = []\n",
    "\n",
    "# for i in range(10):\n",
    "#     year = 2012+i\n",
    "#     tif = read_geotiff('output/tif_file_by_index/'+str(year)+'_sierra_clipped_high.tif')\n",
    "#     tif_ls.append({'year': year, 'img':tif})\n"
   ]
  },
  {
   "cell_type": "code",
   "execution_count": 32,
   "id": "60fae7aa",
   "metadata": {},
   "outputs": [],
   "source": [
    "# def show(imgs):\n",
    "#     '''Show in Jupyter notebook one or sequence of PIL images in a row.'''\n",
    "#     figsize = [15,10]\n",
    "#     row = 2\n",
    "#     col = int(len(imgs)/row)\n",
    "#     fig, ax = plt.subplots(row, col,figsize=figsize)\n",
    "#     if len(imgs)==1:\n",
    "#         ax=[ax]\n",
    "    \n",
    "#     for num,el in enumerate(imgs):\n",
    "#         if (num < col):\n",
    "#             nrol = 0\n",
    "#         else:\n",
    "#             nrol = 1\n",
    "#         ax[nrol,int(num%col)].set_title(el['year'])\n",
    "#         ax[nrol,int(num%col)].imshow(el['img'])\n",
    "#         ax[nrol,int(num%col)].axis('off')\n",
    "    \n",
    "# show(tif_ls)"
   ]
  }
 ],
 "metadata": {
  "kernelspec": {
   "display_name": "Python 3 (ipykernel)",
   "language": "python",
   "name": "python3"
  },
  "language_info": {
   "codemirror_mode": {
    "name": "ipython",
    "version": 3
   },
   "file_extension": ".py",
   "mimetype": "text/x-python",
   "name": "python",
   "nbconvert_exporter": "python",
   "pygments_lexer": "ipython3",
   "version": "3.8.12"
  }
 },
 "nbformat": 4,
 "nbformat_minor": 5
}
